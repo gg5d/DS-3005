{
  "cells": [
    {
      "cell_type": "markdown",
      "metadata": {
        "id": "view-in-github",
        "colab_type": "text"
      },
      "source": [
        "<a href=\"https://colab.research.google.com/github/gg5d/DS-3005/blob/main/hw_02_firstname_lastname.ipynb\" target=\"_parent\"><img src=\"https://colab.research.google.com/assets/colab-badge.svg\" alt=\"Open In Colab\"/></a>"
      ]
    },
    {
      "cell_type": "code",
      "execution_count": null,
      "metadata": {
        "tags": [],
        "id": "hI64gYcnDOMl"
      },
      "outputs": [],
      "source": [
        "import numpy as np\n",
        "import numpy.linalg as npl\n",
        "import pandas as pd\n",
        "from IPython.core.interactiveshell import InteractiveShell\n",
        "import sympy as sym"
      ]
    },
    {
      "cell_type": "code",
      "execution_count": null,
      "metadata": {
        "tags": [],
        "id": "OThdDDcADOMn"
      },
      "outputs": [],
      "source": [
        "InteractiveShell.ast_node_interactivity = \"all\""
      ]
    },
    {
      "cell_type": "markdown",
      "metadata": {
        "id": "lQyoYTnMDOMt"
      },
      "source": [
        "## 2.2 Matrices"
      ]
    },
    {
      "cell_type": "markdown",
      "metadata": {
        "id": "mzfEfBO1DOMu"
      },
      "source": [
        "### How to write Matrices in Python - EXPAND\n",
        "\n",
        "numpy vstack, hstack, matrix, array\n",
        "\n",
        "\n",
        "sympy matrix"
      ]
    },
    {
      "cell_type": "code",
      "execution_count": null,
      "metadata": {
        "tags": [],
        "colab": {
          "base_uri": "https://localhost:8080/",
          "height": 194
        },
        "id": "f8oR_tIfDOMv",
        "outputId": "a0211b52-a809-4cbd-8e24-db84fc6507ac"
      },
      "outputs": [
        {
          "output_type": "stream",
          "name": "stdout",
          "text": [
            "A\n",
            " [[1 2 3]\n",
            " [3 2 1]]\n",
            "B\n",
            " [[ 0  2]\n",
            " [ 1 -1]\n",
            " [ 0  1]]\n",
            "\n"
          ]
        },
        {
          "output_type": "execute_result",
          "data": {
            "text/plain": [
              "Matrix([\n",
              "[1, 2, 3],\n",
              "[3, 2, 1]])"
            ],
            "text/latex": "$\\displaystyle \\left[\\begin{matrix}1 & 2 & 3\\\\3 & 2 & 1\\end{matrix}\\right]$"
          },
          "metadata": {},
          "execution_count": 12
        }
      ],
      "source": [
        "A = np.matrix([[1,2,3],[3,2,1]])\n",
        "B = np.matrix([[0,2],[1,-1],[0,1]])\n",
        "print(f\"A\\n {A}\")\n",
        "print(f\"B\\n {B}\\n\")\n",
        "C = sym.Matrix(A)\n",
        "C"
      ]
    },
    {
      "cell_type": "markdown",
      "source": [
        "### Matrix multiplication\n",
        "numpy dot()\n",
        "@ operator"
      ],
      "metadata": {
        "id": "QM1WNM1GkkaD"
      }
    },
    {
      "cell_type": "code",
      "execution_count": null,
      "metadata": {
        "tags": [],
        "id": "kfHV4CUiDOMv",
        "outputId": "8df8189a-b96b-4e8c-8b91-1967e8b09ed3"
      },
      "outputs": [
        {
          "name": "stdout",
          "output_type": "stream",
          "text": [
            "[[2 3]\n",
            " [2 5]]\n"
          ]
        }
      ],
      "source": [
        "AB = np.dot(A,B)\n",
        "print(AB)"
      ]
    },
    {
      "cell_type": "code",
      "execution_count": null,
      "metadata": {
        "tags": [],
        "id": "NeewFJ4wDOMw",
        "outputId": "5f9aa91e-9040-4d6e-8e70-94531e566d78"
      },
      "outputs": [
        {
          "name": "stdout",
          "output_type": "stream",
          "text": [
            "[[ 6  4  2]\n",
            " [-2  0  2]\n",
            " [ 3  2  1]]\n"
          ]
        }
      ],
      "source": [
        "BA = np.dot(B,A)\n",
        "print(BA)"
      ]
    },
    {
      "cell_type": "code",
      "execution_count": null,
      "metadata": {
        "id": "AX0zZyHWDOMw",
        "outputId": "00b0674c-ae27-42c7-adce-b95b1c28fc2b"
      },
      "outputs": [
        {
          "data": {
            "text/plain": [
              "matrix([[1, 3],\n",
              "        [2, 2],\n",
              "        [3, 1]])"
            ]
          },
          "execution_count": 17,
          "metadata": {},
          "output_type": "execute_result"
        }
      ],
      "source": [
        "A.transpose()"
      ]
    },
    {
      "cell_type": "markdown",
      "metadata": {
        "id": "kDt_U-x4DOMw"
      },
      "source": [
        "#### Figure 2.5\n",
        "*Even if both matrix multiplications $AB$ and $BA$ are defined, the dimensions of the results can be different.*"
      ]
    },
    {
      "cell_type": "code",
      "execution_count": null,
      "metadata": {
        "tags": [],
        "colab": {
          "base_uri": "https://localhost:8080/"
        },
        "id": "PrR5zMXCDOMx",
        "outputId": "81822115-5581-4fd7-f150-31c934948ca1"
      },
      "outputs": [
        {
          "output_type": "execute_result",
          "data": {
            "text/plain": [
              "matrix([[ 6,  4,  2],\n",
              "        [-2,  0,  2],\n",
              "        [ 3,  2,  1]])"
            ]
          },
          "metadata": {},
          "execution_count": 14
        }
      ],
      "source": [
        "B@A"
      ]
    },
    {
      "cell_type": "code",
      "source": [
        "A@B #as seen above"
      ],
      "metadata": {
        "colab": {
          "base_uri": "https://localhost:8080/"
        },
        "id": "7HYQlisvEnn9",
        "outputId": "cbdc3b2a-ea7c-4577-a1b8-622ddf2fbb8d"
      },
      "execution_count": null,
      "outputs": [
        {
          "output_type": "execute_result",
          "data": {
            "text/plain": [
              "matrix([[2, 3],\n",
              "        [2, 5]])"
            ]
          },
          "metadata": {},
          "execution_count": 13
        }
      ]
    },
    {
      "cell_type": "markdown",
      "metadata": {
        "id": "UI_llpdxDOM1"
      },
      "source": [
        "### Example 2.6\n",
        "Elementary operations are key to solving systems of linear equations and involve the following.\n",
        "1. Exchange of two equations, or rows in the matrix.\n",
        "2. Multiplication of an equation, or row, with a constant $\\lambda \\in \\mathbb{R}$.\n",
        "3. Addition of two equation, or rows."
      ]
    },
    {
      "cell_type": "code",
      "execution_count": null,
      "metadata": {
        "tags": [],
        "colab": {
          "base_uri": "https://localhost:8080/",
          "height": 98
        },
        "id": "epFStZhiDOM1",
        "outputId": "6c6df2e9-7952-4784-9832-9f1837393e83"
      },
      "outputs": [
        {
          "output_type": "execute_result",
          "data": {
            "text/plain": [
              "Matrix([\n",
              "[-2,  4, -2, -1, 4, -3],\n",
              "[ 4, -8,  3, -3, 1,  2],\n",
              "[ 1, -2,  1, -1, 1,  0],\n",
              "[ 1, -2,  0, -3, 4,  a]])"
            ],
            "text/latex": "$\\displaystyle \\left[\\begin{matrix}-2 & 4 & -2 & -1 & 4 & -3\\\\4 & -8 & 3 & -3 & 1 & 2\\\\1 & -2 & 1 & -1 & 1 & 0\\\\1 & -2 & 0 & -3 & 4 & a\\end{matrix}\\right]$"
          },
          "metadata": {},
          "execution_count": 30
        }
      ],
      "source": [
        "a = sym.Symbol('a')\n",
        "A = np.vstack([[-2,4,-2,-1,4],[4,-8,3,-3,1],[1,-2,1,-1,1],[1,-2,0,-3,4]])\n",
        "A = sym.Matrix(A)\n",
        "b = np.vstack([-3,2,0,a])\n",
        "b = sym.Matrix(b)\n",
        "Ab = np.hstack([A,b])\n",
        "Ab = sym.Matrix(Ab)\n",
        "\n",
        "Ab"
      ]
    },
    {
      "cell_type": "code",
      "source": [
        "Ab.row_swap(0,2) # Swap row 1 and 3.\n",
        "Ab"
      ],
      "metadata": {
        "colab": {
          "base_uri": "https://localhost:8080/",
          "height": 98
        },
        "id": "H07pICjNnswR",
        "outputId": "dad0cc4c-1c0c-4f3e-9d8d-22ac218d85eb"
      },
      "execution_count": null,
      "outputs": [
        {
          "output_type": "execute_result",
          "data": {
            "text/plain": [
              "Matrix([\n",
              "[ 1, -2,  1, -1, 1,  0],\n",
              "[ 4, -8,  3, -3, 1,  2],\n",
              "[-2,  4, -2, -1, 4, -3],\n",
              "[ 1, -2,  0, -3, 4,  a]])"
            ],
            "text/latex": "$\\displaystyle \\left[\\begin{matrix}1 & -2 & 1 & -1 & 1 & 0\\\\4 & -8 & 3 & -3 & 1 & 2\\\\-2 & 4 & -2 & -1 & 4 & -3\\\\1 & -2 & 0 & -3 & 4 & a\\end{matrix}\\right]$"
          },
          "metadata": {},
          "execution_count": 31
        }
      ]
    },
    {
      "cell_type": "code",
      "execution_count": null,
      "metadata": {
        "tags": [],
        "colab": {
          "base_uri": "https://localhost:8080/",
          "height": 98
        },
        "id": "HojiI6yYDOM2",
        "outputId": "0c344f48-ed0b-4a8a-95d5-50ed452c89dd"
      },
      "outputs": [
        {
          "output_type": "execute_result",
          "data": {
            "text/plain": [
              "Matrix([\n",
              "[ 1, -2,  1, -1, 1,  0],\n",
              "[ 4, -8,  3, -3, 1,  2],\n",
              "[-2,  4, -2, -1, 4, -3],\n",
              "[ 0,  0, -1, -2, 3,  a]])"
            ],
            "text/latex": "$\\displaystyle \\left[\\begin{matrix}1 & -2 & 1 & -1 & 1 & 0\\\\4 & -8 & 3 & -3 & 1 & 2\\\\-2 & 4 & -2 & -1 & 4 & -3\\\\0 & 0 & -1 & -2 & 3 & a\\end{matrix}\\right]$"
          },
          "metadata": {},
          "execution_count": 32
        }
      ],
      "source": [
        "Ab[3,:] = -1*Ab[0,:]+Ab[3,:] # Addition of two equation, or rows. Subtract row 1 from 4.\n",
        "Ab"
      ]
    },
    {
      "cell_type": "code",
      "execution_count": null,
      "metadata": {
        "tags": [],
        "colab": {
          "base_uri": "https://localhost:8080/",
          "height": 98
        },
        "id": "rC0esX94DOM2",
        "outputId": "84ea7b54-36fe-4026-b755-d40cd1377d40"
      },
      "outputs": [
        {
          "output_type": "execute_result",
          "data": {
            "text/plain": [
              "Matrix([\n",
              "[1, -2,  1, -1, 1,  0],\n",
              "[4, -8,  3, -3, 1,  2],\n",
              "[0,  0,  0, -3, 6, -3],\n",
              "[0,  0, -1, -2, 3,  a]])"
            ],
            "text/latex": "$\\displaystyle \\left[\\begin{matrix}1 & -2 & 1 & -1 & 1 & 0\\\\4 & -8 & 3 & -3 & 1 & 2\\\\0 & 0 & 0 & -3 & 6 & -3\\\\0 & 0 & -1 & -2 & 3 & a\\end{matrix}\\right]$"
          },
          "metadata": {},
          "execution_count": 33
        }
      ],
      "source": [
        "Ab[2,:] = 2*Ab[0,:] + Ab[2,:]  # Addition of two equation, or rows. Add 2 * row 1 to row 3.\n",
        "Ab"
      ]
    },
    {
      "cell_type": "code",
      "execution_count": null,
      "metadata": {
        "tags": [],
        "colab": {
          "base_uri": "https://localhost:8080/",
          "height": 98
        },
        "id": "-9yyq3-CDOM3",
        "outputId": "5d1c4188-34e4-4929-d751-0679a0924866"
      },
      "outputs": [
        {
          "output_type": "execute_result",
          "data": {
            "text/plain": [
              "Matrix([\n",
              "[1, -2,  1, -1,  1,  0],\n",
              "[0,  0, -1,  1, -3,  2],\n",
              "[0,  0,  0, -3,  6, -3],\n",
              "[0,  0, -1, -2,  3,  a]])"
            ],
            "text/latex": "$\\displaystyle \\left[\\begin{matrix}1 & -2 & 1 & -1 & 1 & 0\\\\0 & 0 & -1 & 1 & -3 & 2\\\\0 & 0 & 0 & -3 & 6 & -3\\\\0 & 0 & -1 & -2 & 3 & a\\end{matrix}\\right]$"
          },
          "metadata": {},
          "execution_count": 34
        }
      ],
      "source": [
        "Ab[1,:] = -4*Ab[0,:] + Ab[1,:] # Addition of two equation, or rows. Subtract 4 * row 1 to row 2\n",
        "Ab"
      ]
    },
    {
      "cell_type": "code",
      "execution_count": null,
      "metadata": {
        "tags": [],
        "colab": {
          "base_uri": "https://localhost:8080/",
          "height": 98
        },
        "id": "OXpLxyq7DOM3",
        "outputId": "b50353ab-24e9-4cfa-caea-fa3dd2c403cf"
      },
      "outputs": [
        {
          "output_type": "execute_result",
          "data": {
            "text/plain": [
              "Matrix([\n",
              "[1, -2,  1, -1,  1,     0],\n",
              "[0,  0, -1,  1, -3,     2],\n",
              "[0,  0,  0, -3,  6,    -3],\n",
              "[0,  0,  0, -3,  6, a - 2]])"
            ],
            "text/latex": "$\\displaystyle \\left[\\begin{matrix}1 & -2 & 1 & -1 & 1 & 0\\\\0 & 0 & -1 & 1 & -3 & 2\\\\0 & 0 & 0 & -3 & 6 & -3\\\\0 & 0 & 0 & -3 & 6 & a - 2\\end{matrix}\\right]$"
          },
          "metadata": {},
          "execution_count": 35
        }
      ],
      "source": [
        "Ab[3,:] = -Ab[1,:] +Ab[3,:]# Addition of two equation, or rows. Add -Row 2 to Row 4\n",
        "Ab"
      ]
    },
    {
      "cell_type": "code",
      "source": [
        "Ab[3,:] = -Ab[2,:] + Ab[3,:]\n",
        "Ab"
      ],
      "metadata": {
        "colab": {
          "base_uri": "https://localhost:8080/",
          "height": 98
        },
        "id": "ryG2TG-WpyZn",
        "outputId": "f7be05c1-b990-4655-8c9e-2f146e819b8f"
      },
      "execution_count": null,
      "outputs": [
        {
          "output_type": "execute_result",
          "data": {
            "text/plain": [
              "Matrix([\n",
              "[1, -2,  1, -1,  1,     0],\n",
              "[0,  0, -1,  1, -3,     2],\n",
              "[0,  0,  0, -3,  6,    -3],\n",
              "[0,  0,  0,  0,  0, a + 1]])"
            ],
            "text/latex": "$\\displaystyle \\left[\\begin{matrix}1 & -2 & 1 & -1 & 1 & 0\\\\0 & 0 & -1 & 1 & -3 & 2\\\\0 & 0 & 0 & -3 & 6 & -3\\\\0 & 0 & 0 & 0 & 0 & a + 1\\end{matrix}\\right]$"
          },
          "metadata": {},
          "execution_count": 36
        }
      ]
    },
    {
      "cell_type": "code",
      "execution_count": null,
      "metadata": {
        "tags": [],
        "colab": {
          "base_uri": "https://localhost:8080/",
          "height": 98
        },
        "id": "kcTUqaz9DOM3",
        "outputId": "4a285ee1-0f61-4d28-e12e-6b28fa1372c9"
      },
      "outputs": [
        {
          "output_type": "execute_result",
          "data": {
            "text/plain": [
              "Matrix([\n",
              "[1, -2, 1, -1, 1,     0],\n",
              "[0,  0, 1, -1, 3,    -2],\n",
              "[0,  0, 0, -3, 6,    -3],\n",
              "[0,  0, 0,  0, 0, a + 1]])"
            ],
            "text/latex": "$\\displaystyle \\left[\\begin{matrix}1 & -2 & 1 & -1 & 1 & 0\\\\0 & 0 & 1 & -1 & 3 & -2\\\\0 & 0 & 0 & -3 & 6 & -3\\\\0 & 0 & 0 & 0 & 0 & a + 1\\end{matrix}\\right]$"
          },
          "metadata": {},
          "execution_count": 39
        }
      ],
      "source": [
        "Ab[1,:] = -1*Ab[1,:] # Multiplication of an equation, or row, with a constant. Invert row 2\n",
        "# Ab = Ab.astype(float)\n",
        "Ab"
      ]
    },
    {
      "cell_type": "code",
      "source": [
        "Ab[2,:] = -1/3*Ab[2,:] # Multiplication of an equation, or row, with a constant. Divide row 3 by -3\n",
        "Ab"
      ],
      "metadata": {
        "colab": {
          "base_uri": "https://localhost:8080/",
          "height": 98
        },
        "id": "eYNjI4zyqkwY",
        "outputId": "9f780199-ef50-4c72-a517-73c4091eea6f"
      },
      "execution_count": null,
      "outputs": [
        {
          "output_type": "execute_result",
          "data": {
            "text/plain": [
              "Matrix([\n",
              "[1, -2, 1,  -1,    1,     0],\n",
              "[0,  0, 1,  -1,    3,    -2],\n",
              "[0,  0, 0, 1.0, -2.0,   1.0],\n",
              "[0,  0, 0,   0,    0, a + 1]])"
            ],
            "text/latex": "$\\displaystyle \\left[\\begin{matrix}1 & -2 & 1 & -1 & 1 & 0\\\\0 & 0 & 1 & -1 & 3 & -2\\\\0 & 0 & 0 & 1.0 & -2.0 & 1.0\\\\0 & 0 & 0 & 0 & 0 & a + 1\\end{matrix}\\right]$"
          },
          "metadata": {},
          "execution_count": 40
        }
      ]
    },
    {
      "cell_type": "markdown",
      "source": [
        "Clearly $ a+1=0$, that is the solution exists only if $a=-1$."
      ],
      "metadata": {
        "id": "qijuv6xrr_qN"
      }
    },
    {
      "cell_type": "code",
      "source": [
        "sym.solveset(sym.Eq(a+1,0), a)  # solve lin eq with sympy"
      ],
      "metadata": {
        "colab": {
          "base_uri": "https://localhost:8080/",
          "height": 37
        },
        "id": "9SH8l_2mrCTz",
        "outputId": "e3d58f37-d67d-457a-f43e-643941c70cca"
      },
      "execution_count": null,
      "outputs": [
        {
          "output_type": "execute_result",
          "data": {
            "text/plain": [
              "{-1}"
            ],
            "text/latex": "$\\displaystyle \\left\\{-1\\right\\}$"
          },
          "metadata": {},
          "execution_count": 45
        }
      ]
    },
    {
      "cell_type": "code",
      "source": [
        "Ab[3,5] = 0\n",
        "Ab"
      ],
      "metadata": {
        "colab": {
          "base_uri": "https://localhost:8080/",
          "height": 98
        },
        "id": "3Am8_LzRwxfh",
        "outputId": "a7ad0757-61d6-40bb-95be-6e9a556d20f8"
      },
      "execution_count": null,
      "outputs": [
        {
          "output_type": "execute_result",
          "data": {
            "text/plain": [
              "Matrix([\n",
              "[1, -2, 0,   0,   -2,   2],\n",
              "[0,  0, 1,  -1,    3,  -2],\n",
              "[0,  0, 0, 1.0, -2.0, 1.0],\n",
              "[0,  0, 0,   0,    0,   0]])"
            ],
            "text/latex": "$\\displaystyle \\left[\\begin{matrix}1 & -2 & 0 & 0 & -2 & 2\\\\0 & 0 & 1 & -1 & 3 & -2\\\\0 & 0 & 0 & 1.0 & -2.0 & 1.0\\\\0 & 0 & 0 & 0 & 0 & 0\\end{matrix}\\right]$"
          },
          "metadata": {},
          "execution_count": 50
        }
      ]
    },
    {
      "cell_type": "markdown",
      "metadata": {
        "id": "oIBVCvD9DOM3"
      },
      "source": [
        "We keep doing Gaussian Elimination until we get Reduced Row Echelon form\n",
        "\n"
      ]
    },
    {
      "cell_type": "code",
      "execution_count": null,
      "metadata": {
        "tags": [],
        "colab": {
          "base_uri": "https://localhost:8080/",
          "height": 98
        },
        "id": "73Ozr35uDOM4",
        "outputId": "b720e21b-0567-4228-c655-249603e5973a"
      },
      "outputs": [
        {
          "output_type": "execute_result",
          "data": {
            "text/plain": [
              "Matrix([\n",
              "[1, -2, 0,   0,   -2,     2],\n",
              "[0,  0, 1,  -1,    3,    -2],\n",
              "[0,  0, 0, 1.0, -2.0,   1.0],\n",
              "[0,  0, 0,   0,    0, a + 1]])"
            ],
            "text/latex": "$\\displaystyle \\left[\\begin{matrix}1 & -2 & 0 & 0 & -2 & 2\\\\0 & 0 & 1 & -1 & 3 & -2\\\\0 & 0 & 0 & 1.0 & -2.0 & 1.0\\\\0 & 0 & 0 & 0 & 0 & a + 1\\end{matrix}\\right]$"
          },
          "metadata": {},
          "execution_count": 47
        }
      ],
      "source": [
        "Ab[0,:] = Ab[0,:] + -1*Ab[1,:]\n",
        "Ab"
      ]
    },
    {
      "cell_type": "code",
      "source": [
        "Ab[1,:] = Ab[1,:] + Ab[2,:]\n",
        "Ab"
      ],
      "metadata": {
        "colab": {
          "base_uri": "https://localhost:8080/",
          "height": 98
        },
        "id": "6twJilC_w7_m",
        "outputId": "4f63b86c-7908-4c19-8c59-2567b1b8cc3e"
      },
      "execution_count": null,
      "outputs": [
        {
          "output_type": "execute_result",
          "data": {
            "text/plain": [
              "Matrix([\n",
              "[1, -2, 0,   0,   -2,    2],\n",
              "[0,  0, 1,   0,  1.0, -1.0],\n",
              "[0,  0, 0, 1.0, -2.0,  1.0],\n",
              "[0,  0, 0,   0,    0,    0]])"
            ],
            "text/latex": "$\\displaystyle \\left[\\begin{matrix}1 & -2 & 0 & 0 & -2 & 2\\\\0 & 0 & 1 & 0 & 1.0 & -1.0\\\\0 & 0 & 0 & 1.0 & -2.0 & 1.0\\\\0 & 0 & 0 & 0 & 0 & 0\\end{matrix}\\right]$"
          },
          "metadata": {},
          "execution_count": 51
        }
      ]
    },
    {
      "cell_type": "markdown",
      "source": [
        "The particular solution is generated by the **pivot** columns:\n",
        "$$\n",
        "  \\begin{bmatrix}\n",
        "  x_1\\\\ x_2\\\\ x_3 \\\\ x_4\\\\ x_5\n",
        "  \\end{bmatrix}\n",
        "  =\n",
        "\\begin{bmatrix}\n",
        " 2\\\\ 0\\\\ -1\\\\ 1\\\\ 0\n",
        " \\end{bmatrix}\n",
        " $$\n",
        "\n",
        " The other solutions are generated by combining the pivot and non pivot columns so as to get the zero vector.\n",
        "\n"
      ],
      "metadata": {
        "id": "GYK7PVm4zpP_"
      }
    },
    {
      "cell_type": "markdown",
      "metadata": {
        "id": "lPJZu4uPDOM5"
      },
      "source": [
        "### Example 2.7 (Reduced Row Echelon Form)"
      ]
    },
    {
      "cell_type": "code",
      "execution_count": null,
      "metadata": {
        "tags": [],
        "id": "kVs8NB8IDOM5",
        "outputId": "1ccd2c4b-fb0e-4453-edd3-35e50108662e",
        "colab": {
          "base_uri": "https://localhost:8080/"
        }
      },
      "outputs": [
        {
          "output_type": "execute_result",
          "data": {
            "text/plain": [
              "array([[ 1,  3,  0,  0,  3],\n",
              "       [ 0,  0,  1,  0,  9],\n",
              "       [ 0,  0,  0,  1, -4]])"
            ]
          },
          "metadata": {},
          "execution_count": 52
        }
      ],
      "source": [
        "A = np.vstack([[1,3,0,0,3],[0,0,1,0,9],[0,0,0,1,-4]])\n",
        "A"
      ]
    },
    {
      "cell_type": "markdown",
      "metadata": {
        "id": "UfvkDAh7DOM6"
      },
      "source": [
        "\n",
        "*Look for solutions of Ax = 0 by looking at non-pivot columns*.\n",
        "\n",
        "1. The 2nd column is 3 times the 1st column.\n",
        "2. To obtain 0 we subtract the 2nd column from three times the 1st column.\n",
        "3. The 5th column is our 2nd non-pivot. It can be expressed as 3 times the 1st pivot column,\n",
        "    9 times the 2nd pivot column, and -4 times the 3rd pivot column.\n",
        "4. Track the indices of the pivot columns and translate this into:\n",
        "    1. 3 times the 1st pivot column,\n",
        "    2. 0 times the 2nd column, (the 1st non-pivot)\n",
        "    3. 9 times the 3rd column, and (the 2nd pivot column)\n",
        "    4. -4 times the 4th column  (the 3rd pivot column)\n",
        "5. Subtract the 5th column to obtain 0."
      ]
    },
    {
      "cell_type": "markdown",
      "metadata": {
        "id": "rFtymN3SDOM7"
      },
      "source": [
        "### Example 2.8 (Minus-1 Trick)"
      ]
    },
    {
      "cell_type": "code",
      "execution_count": null,
      "metadata": {
        "id": "-OXWwJR_DOM7",
        "outputId": "21c88c83-677d-4a87-dc48-f22225cc7186"
      },
      "outputs": [
        {
          "data": {
            "text/plain": [
              "array([[ 1,  3,  0,  0,  3],\n",
              "       [ 0,  0,  1,  0,  9],\n",
              "       [ 0,  0,  0,  1, -4]])"
            ]
          },
          "execution_count": 44,
          "metadata": {},
          "output_type": "execute_result"
        }
      ],
      "source": [
        "A1 = A\n",
        "A1"
      ]
    },
    {
      "cell_type": "markdown",
      "metadata": {
        "id": "8yg_ytCUDOM8"
      },
      "source": [
        "The trick is to have the diagonal have either 1 or -1."
      ]
    },
    {
      "cell_type": "code",
      "execution_count": null,
      "metadata": {
        "id": "Z5PeHbX1DOM8",
        "outputId": "99c25440-2dc3-45b7-d088-01cd0af5092b"
      },
      "outputs": [
        {
          "data": {
            "text/plain": [
              "array([[ 1,  3,  0,  0,  3],\n",
              "       [ 0, -1,  0,  0,  0],\n",
              "       [ 0,  0,  1,  0,  9],\n",
              "       [ 0,  0,  0,  1, -4],\n",
              "       [ 0,  0,  0,  0, -1]])"
            ]
          },
          "execution_count": 45,
          "metadata": {},
          "output_type": "execute_result"
        }
      ],
      "source": [
        "A1 = np.insert(A1,1,np.array([0,-1,0,0,0]),0)\n",
        "A1 = np.insert(A1,4,np.array([0,0,0,0,-1]),0)\n",
        "A1"
      ]
    },
    {
      "cell_type": "markdown",
      "metadata": {
        "id": "D_ZCJMs4DOM8"
      },
      "source": [
        "Which gives us the solution from Example 2.7 above in columns 2 and 5."
      ]
    },
    {
      "cell_type": "markdown",
      "metadata": {
        "id": "ek8q9qmkDOM8"
      },
      "source": [
        "### Example 2.9 (Calculating an Inverse Matrix by Gaussian Elimination)"
      ]
    },
    {
      "cell_type": "code",
      "execution_count": null,
      "metadata": {
        "id": "5p5WXj4eDOM8",
        "outputId": "f6a997d1-8f3c-4f46-bd33-bf9aef7425f6",
        "colab": {
          "base_uri": "https://localhost:8080/"
        }
      },
      "outputs": [
        {
          "output_type": "execute_result",
          "data": {
            "text/plain": [
              "array([[1., 0., 0., 0.],\n",
              "       [0., 1., 0., 0.],\n",
              "       [0., 0., 1., 0.],\n",
              "       [0., 0., 0., 1.]])"
            ]
          },
          "metadata": {},
          "execution_count": 58
        }
      ],
      "source": [
        "A = np.vstack([[1,0,2,0],[1,1,0,0],[1,2,0,1],[1,1,1,1]])\n",
        "aug = np.eye(np.shape(A)[0])\n",
        "A\n",
        "aug"
      ]
    },
    {
      "cell_type": "code",
      "execution_count": null,
      "metadata": {
        "id": "-WW_fmoGDOM9",
        "outputId": "e4c91c8e-aa21-448f-c120-c18dd75144d1",
        "colab": {
          "base_uri": "https://localhost:8080/",
          "height": 98
        }
      },
      "outputs": [
        {
          "output_type": "execute_result",
          "data": {
            "text/plain": [
              "Matrix([\n",
              "[1.0,   0, 2.0,   0, 1.0,   0,   0,   0],\n",
              "[1.0, 1.0,   0,   0,   0, 1.0,   0,   0],\n",
              "[1.0, 2.0,   0, 1.0,   0,   0, 1.0,   0],\n",
              "[1.0, 1.0, 1.0, 1.0,   0,   0,   0, 1.0]])"
            ],
            "text/latex": "$\\displaystyle \\left[\\begin{matrix}1.0 & 0 & 2.0 & 0 & 1.0 & 0 & 0 & 0\\\\1.0 & 1.0 & 0 & 0 & 0 & 1.0 & 0 & 0\\\\1.0 & 2.0 & 0 & 1.0 & 0 & 0 & 1.0 & 0\\\\1.0 & 1.0 & 1.0 & 1.0 & 0 & 0 & 0 & 1.0\\end{matrix}\\right]$"
          },
          "metadata": {},
          "execution_count": 59
        }
      ],
      "source": [
        "Aaug = np.hstack([A,aug])\n",
        "Aaug = sym.Matrix(Aaug)\n",
        "Aaug"
      ]
    },
    {
      "cell_type": "code",
      "source": [],
      "metadata": {
        "id": "jalwkH1Szje9"
      },
      "execution_count": null,
      "outputs": []
    }
  ],
  "metadata": {
    "@webio": {
      "lastCommId": null,
      "lastKernelId": null
    },
    "kernelspec": {
      "display_name": "Python 3 (ipykernel)",
      "language": "python",
      "name": "python3"
    },
    "language_info": {
      "codemirror_mode": {
        "name": "ipython",
        "version": 3
      },
      "file_extension": ".py",
      "mimetype": "text/x-python",
      "name": "python",
      "nbconvert_exporter": "python",
      "pygments_lexer": "ipython3",
      "version": "3.9.16"
    },
    "colab": {
      "provenance": [],
      "include_colab_link": true
    }
  },
  "nbformat": 4,
  "nbformat_minor": 0
}