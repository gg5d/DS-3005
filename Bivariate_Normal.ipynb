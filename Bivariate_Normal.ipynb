{
  "cells": [
    {
      "cell_type": "markdown",
      "metadata": {
        "id": "view-in-github",
        "colab_type": "text"
      },
      "source": [
        "<a href=\"https://colab.research.google.com/github/gg5d/DS-3005/blob/main/Bivariate_Normal.ipynb\" target=\"_parent\"><img src=\"https://colab.research.google.com/assets/colab-badge.svg\" alt=\"Open In Colab\"/></a>"
      ]
    },
    {
      "cell_type": "markdown",
      "id": "88fd0049-87cd-4d2f-ae3b-fb654b9d7247",
      "metadata": {
        "id": "88fd0049-87cd-4d2f-ae3b-fb654b9d7247"
      },
      "source": [
        "## Bivariate Normal"
      ]
    },
    {
      "cell_type": "code",
      "execution_count": null,
      "id": "bbea6e28-121e-46cf-bfe8-63aed7b4e7e3",
      "metadata": {
        "id": "bbea6e28-121e-46cf-bfe8-63aed7b4e7e3"
      },
      "outputs": [],
      "source": [
        "import numpy as np\n",
        "import matplotlib.pyplot as plt\n",
        "from scipy.stats import multivariate_normal\n",
        "\n",
        "# Set mean and covariance\n",
        "mean = np.array([0, 0])\n",
        "cov = np.array([[1, 0], [0, 1]])\n",
        "\n",
        "# Create grid of points\n",
        "x, y = np.mgrid[-3:3:.01, -3:3:.01]\n",
        "pos = np.dstack((x, y))\n",
        "\n",
        "# Create a bivariate Gaussian distribution\n",
        "rv = multivariate_normal(mean, cov)\n",
        "\n",
        "# Get density values\n",
        "z = rv.pdf(pos)\n",
        "\n",
        "# Create a contour plot\n",
        "plt.figure()\n",
        "plt.contourf(x, y, z, cmap='viridis')\n",
        "plt.colorbar()\n",
        "plt.title('Bivariate Gaussian Density Contour Plot')\n",
        "plt.xlabel('X-axis')\n",
        "plt.ylabel('Y-axis')\n",
        "plt.show()\n"
      ]
    },
    {
      "cell_type": "code",
      "execution_count": null,
      "id": "e19f150f-420a-43c2-bbbf-b8d3d6152c22",
      "metadata": {
        "id": "e19f150f-420a-43c2-bbbf-b8d3d6152c22"
      },
      "outputs": [],
      "source": [
        "import numpy as np\n",
        "import matplotlib.pyplot as plt\n",
        "from mpl_toolkits.mplot3d import Axes3D\n",
        "from scipy.stats import multivariate_normal\n",
        "\n",
        "# Set mean and covariance\n",
        "mean = np.array([0, 0])\n",
        "cov = np.array([[1, 0.5], [0.5, 1]])\n",
        "\n",
        "# Create grid of points\n",
        "x, y = np.mgrid[-3:3:.01, -3:3:.01]\n",
        "pos = np.dstack((x, y))\n",
        "\n",
        "# Create a bivariate Gaussian distribution\n",
        "rv = multivariate_normal(mean, cov)\n",
        "\n",
        "# Get density values\n",
        "z = rv.pdf(pos)\n",
        "\n",
        "# Create 3D plot\n",
        "fig = plt.figure()\n",
        "ax = fig.add_subplot(111, projection='3d')\n",
        "ax.plot_surface(x, y, z, cmap='viridis')\n",
        "ax.set_title('Bivariate Gaussian Density 3D Plot')\n",
        "ax.set_xlabel('X-axis')\n",
        "ax.set_ylabel('Y-axis')\n",
        "ax.set_zlabel('Density')\n",
        "plt.show()\n"
      ]
    },
    {
      "cell_type": "code",
      "execution_count": null,
      "id": "b3adce2b-1dcf-4698-8bb9-6e63d1219903",
      "metadata": {
        "id": "b3adce2b-1dcf-4698-8bb9-6e63d1219903"
      },
      "outputs": [],
      "source": [
        "import numpy as np\n",
        "import plotly.graph_objects as go\n",
        "from scipy.stats import multivariate_normal\n",
        "\n",
        "# Set mean and covariance\n",
        "mean = np.array([0, 0])\n",
        "cov = np.array([[1, 0.75], [0.75, 1]])\n",
        "\n",
        "# Create grid of points\n",
        "x, y = np.mgrid[-3:3:.01, -3:3:.01]\n",
        "pos = np.dstack((x, y))\n",
        "\n",
        "# Create a bivariate Gaussian distribution\n",
        "rv = multivariate_normal(mean, cov)\n",
        "\n",
        "# Get density values\n",
        "z = rv.pdf(pos)\n",
        "\n",
        "# Create 3D plot\n",
        "fig = go.Figure(data=[go.Surface(z=z, x=x, y=y)])\n",
        "fig.update_layout(title='Bivariate Gaussian Density 3D Plot',\n",
        "                  scene = dict(xaxis_title='X-axis',\n",
        "                               yaxis_title='Y-axis',\n",
        "                               zaxis_title='Density'))\n",
        "fig.show()\n"
      ]
    },
    {
      "cell_type": "code",
      "execution_count": null,
      "id": "155fc626-a9b6-4034-ba0f-a35e4db6e2e2",
      "metadata": {
        "id": "155fc626-a9b6-4034-ba0f-a35e4db6e2e2"
      },
      "outputs": [],
      "source": [
        "import numpy as np\n",
        "import plotly.graph_objects as go\n",
        "from scipy.stats import multivariate_normal\n",
        "\n",
        "# Set mean and covariance\n",
        "mean = np.array([0, 0])\n",
        "cov = np.array([[1, 0.5], [0.5, 1]])\n",
        "\n",
        "# Create grid of points\n",
        "x, y = np.mgrid[-3:3:.01, -3:3:.01]\n",
        "pos = np.dstack((x, y))\n",
        "\n",
        "# Create a bivariate Gaussian distribution\n",
        "rv = multivariate_normal(mean, cov)\n",
        "\n",
        "# Get density values\n",
        "z = rv.pdf(pos)\n",
        "\n",
        "# Calculate marginal densities\n",
        "marginal_x = np.trapz(z, y, axis=1)\n",
        "marginal_y = np.trapz(z, x, axis=0)\n",
        "\n",
        "# Create 3D plot\n",
        "fig = go.Figure(data=[go.Surface(z=z, x=x, y=y)])\n",
        "fig.add_trace(go.Scatter3d(x=x[:, 0], y=np.zeros_like(x[:, 0]), z=marginal_x, mode='lines', name='X marginal'))\n",
        "fig.add_trace(go.Scatter3d(x=np.zeros_like(y[0, :]), y=y[0, :], z=marginal_y, mode='lines', name='Y marginal'))\n",
        "fig.update_layout(title='Bivariate Gaussian Density 3D Plot with Marginals',\n",
        "                  scene=dict(xaxis_title='X-axis', yaxis_title='Y-axis', zaxis_title='Density'))\n",
        "fig.show()\n"
      ]
    },
    {
      "cell_type": "code",
      "execution_count": null,
      "id": "cdb68330-160e-4b07-aebf-416d4cf99870",
      "metadata": {
        "id": "cdb68330-160e-4b07-aebf-416d4cf99870"
      },
      "outputs": [],
      "source": [
        "import numpy as np\n",
        "import plotly.graph_objects as go\n",
        "from scipy.stats import multivariate_normal\n",
        "\n",
        "def plot_bivariate_gaussian_with_marginals(x_val):\n",
        "    # Set mean and covariance\n",
        "    mean = np.array([0, 0])\n",
        "    cov = np.array([[1, 0.9], [0.9, 1]])\n",
        "\n",
        "    # Create grid of points\n",
        "    x, y = np.mgrid[-3:3:.01, -3:3:.01]\n",
        "    pos = np.dstack((x, y))\n",
        "\n",
        "    # Create a bivariate Gaussian distribution\n",
        "    rv = multivariate_normal(mean, cov)\n",
        "\n",
        "    # Get density values\n",
        "    z = rv.pdf(pos)\n",
        "\n",
        "    # Calculate marginal densities\n",
        "    marginal_x = np.trapz(z, y, axis=1)\n",
        "    marginal_y = np.trapz(z, x, axis=0)\n",
        "\n",
        "    # Create 3D plot\n",
        "    fig = go.Figure(data=[go.Surface(z=z, x=x, y=y)])\n",
        "    fig.add_trace(go.Scatter3d(x=x[:, 0], y=np.zeros_like(x[:, 0]), z=marginal_x, mode='lines', name='X marginal'))\n",
        "    fig.add_trace(go.Scatter3d(x=np.full_like(y[0, :], x_val), y=y[0, :], z=marginal_y, mode='lines', name=f'Y marginal at x={x_val}'))\n",
        "    fig.update_layout(title='Bivariate Gaussian Density 3D Plot with Marginals',\n",
        "                      scene=dict(xaxis_title='X-axis', yaxis_title='Y-axis', zaxis_title='Density'))\n",
        "    fig.show()\n",
        "\n",
        "# Set the value of x for the marginal density of y\n",
        "x_val = .5\n",
        "plot_bivariate_gaussian_with_marginals(x_val)\n"
      ]
    },
    {
      "cell_type": "code",
      "execution_count": null,
      "id": "645bc766-b897-4a80-9c61-ae0d6ea661c8",
      "metadata": {
        "id": "645bc766-b897-4a80-9c61-ae0d6ea661c8"
      },
      "outputs": [],
      "source": [
        "import numpy as np\n",
        "import plotly.graph_objects as go\n",
        "from scipy.stats import multivariate_normal\n",
        "\n",
        "def plot_bivariate_gaussian_with_marginals_and_conditionals(x_val):\n",
        "    # Set mean and covariance\n",
        "    mean = np.array([0, 0])\n",
        "    cov = np.array([[1, 0.5], [0.5, 1]])\n",
        "\n",
        "    # Create grid of points\n",
        "    x, y = np.mgrid[-3:3:.01, -3:3:.01]\n",
        "    pos = np.dstack((x, y))\n",
        "\n",
        "    # Create a bivariate Gaussian distribution\n",
        "    rv = multivariate_normal(mean, cov)\n",
        "\n",
        "    # Get density values\n",
        "    z = rv.pdf(pos)\n",
        "\n",
        "    # Calculate marginal densities\n",
        "    marginal_x = np.trapz(z, y, axis=1)\n",
        "    marginal_y = np.trapz(z, x, axis=0)\n",
        "\n",
        "    # Calculate conditional density for x=0.5\n",
        "    conditional_density = np.array([rv.pdf([x_val, y_val]) for y_val in y[0]])\n",
        "\n",
        "    # Create 3D plot\n",
        "    fig = go.Figure(data=[go.Surface(z=z, x=x, y=y)])\n",
        "    #fig.add_trace(go.Scatter3d(x=x[:, 0], y=np.zeros_like(x[:, 0]), z=marginal_x, mode='lines', name='X marginal'))\n",
        "    #fig.add_trace(go.Scatter3d(x=np.full_like(y[0, :], x_val), y=y[0, :], z=marginal_y, mode='lines', name=f'Y marginal at x={x_val}'))\n",
        "    fig.add_trace(go.Scatter3d(x=np.full_like(y[0, :], x_val), y=y[0, :], z=conditional_density, mode='lines', name=f'Conditional density at x={x_val}'))\n",
        "    fig.update_layout(title='Bivariate Gaussian Density 3D Plot with Marginals and Conditionals',\n",
        "                      scene=dict(xaxis_title='X-axis', yaxis_title='Y-axis', zaxis_title='Density'))\n",
        "    fig.show()\n",
        "\n",
        "# Set the value of x for the marginal density of y\n",
        "x_val = .5\n",
        "plot_bivariate_gaussian_with_marginals_and_conditionals(x_val)\n"
      ]
    },
    {
      "cell_type": "code",
      "execution_count": null,
      "id": "2dde5b20-2ce4-49e4-b0dc-edd6eb7bb4a4",
      "metadata": {
        "id": "2dde5b20-2ce4-49e4-b0dc-edd6eb7bb4a4"
      },
      "outputs": [],
      "source": [
        "import numpy as np\n",
        "import plotly.graph_objects as go\n",
        "from scipy.stats import multivariate_normal\n",
        "\n",
        "# Set means and covariances for the two distributions\n",
        "mean1 = np.array([-1, -1])\n",
        "cov1 = np.array([[1, 0.075], [0.075, 1]])\n",
        "\n",
        "mean2 = np.array([.1, .1])\n",
        "cov2 = np.array([[1, -0.85], [-0.85, 1]])\n",
        "\n",
        "# Create grid of points\n",
        "x, y = np.mgrid[-5:5:.01, -5:5:.01]\n",
        "pos = np.dstack((x, y))\n",
        "\n",
        "# Create two bivariate Gaussian distributions\n",
        "rv1 = multivariate_normal(mean1, cov1)\n",
        "rv2 = multivariate_normal(mean2, cov2)\n",
        "\n",
        "# Get density values for the combined distribution\n",
        "z1 = rv1.pdf(pos)\n",
        "z2 = rv2.pdf(pos)\n",
        "alpha = .6\n",
        "z_combined = alpha*z1 + (1-alpha)*z2\n",
        "\n",
        "# Create 3D plot\n",
        "fig = go.Figure(data=[go.Surface(z=z_combined, x=x, y=y)])\n",
        "fig.update_layout(title='Combination of Two Bivariate Gaussian Distributions',\n",
        "                  scene=dict(xaxis_title='X-axis', yaxis_title='Y-axis', zaxis_title='Density'))\n",
        "fig.show()\n"
      ]
    },
    {
      "cell_type": "code",
      "execution_count": null,
      "id": "bed7d4c6-96de-4a32-9af7-a2f8988a3ac9",
      "metadata": {
        "id": "bed7d4c6-96de-4a32-9af7-a2f8988a3ac9"
      },
      "outputs": [],
      "source": []
    }
  ],
  "metadata": {
    "kernelspec": {
      "display_name": "Python 3 (ipykernel)",
      "language": "python",
      "name": "python3"
    },
    "language_info": {
      "codemirror_mode": {
        "name": "ipython",
        "version": 3
      },
      "file_extension": ".py",
      "mimetype": "text/x-python",
      "name": "python",
      "nbconvert_exporter": "python",
      "pygments_lexer": "ipython3",
      "version": "3.10.11"
    },
    "colab": {
      "provenance": [],
      "include_colab_link": true
    }
  },
  "nbformat": 4,
  "nbformat_minor": 5
}