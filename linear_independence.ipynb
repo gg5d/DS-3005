{
  "cells": [
    {
      "cell_type": "markdown",
      "metadata": {
        "id": "view-in-github",
        "colab_type": "text"
      },
      "source": [
        "<a href=\"https://colab.research.google.com/github/gg5d/DS-3005/blob/main/linear_independence.ipynb\" target=\"_parent\"><img src=\"https://colab.research.google.com/assets/colab-badge.svg\" alt=\"Open In Colab\"/></a>"
      ]
    },
    {
      "cell_type": "markdown",
      "source": [
        "# Linear Independence\n",
        "\n",
        "Among a given set of vectors, Linear dependence means that vectors are connected to each other, more specifically, that one of them can be written as a *linear* combination of some of the others.\n",
        "\n",
        "There is **Linear Independence** when a vector can **not** be written as a *linear* combination of other vectors.\n",
        "\n",
        "Here we can see what Linear Dependence really mean in the case of 3 vectors $\\vec{u}, \\vec{v}_1, \\vec{v}_2 $:\n",
        "\n",
        "Linear **D**ependence $\\Rightarrow$  $\\vec{u}$ lies in the plane spanned by the other two vectors.\n",
        "\n",
        "Linear **In**dependence  $\\Rightarrow$ $\\vec{u}$ sticks out of the plane spanned\n",
        "by $\\vec{v}_1$ and $ \\vec{v}_2 $ .\n",
        "\n",
        "We can say that Linear **In**dependence means that $\\vec{u}$ has *some information* that is not contained in $\\vec{v}_1$ or $ \\vec{v}_2 $.\n",
        "\n",
        "In the graph below Linear **In**dependence occurs when the extra component (or dimension/direction) $\\vec{v}_3$ (which cannot be represented by any of $\\vec{v}_1$ and/or $\\vec{v}_2 $) is not zero ($c\\neq0$).\n"
      ],
      "metadata": {
        "id": "11D_wQmfmLXT"
      }
    },
    {
      "cell_type": "code",
      "execution_count": null,
      "metadata": {
        "tags": [],
        "id": "hH2qvZCG7SWo"
      },
      "outputs": [],
      "source": [
        "import IPython.display as display"
      ]
    },
    {
      "cell_type": "code",
      "execution_count": null,
      "metadata": {
        "tags": [],
        "colab": {
          "base_uri": "https://localhost:8080/",
          "height": 623
        },
        "id": "ALY7BWWT7SWp",
        "outputId": "c276f556-c622-48ac-ebf3-9ebad038120b"
      },
      "outputs": [
        {
          "output_type": "execute_result",
          "data": {
            "text/plain": [
              "<IPython.core.display.HTML object>"
            ],
            "text/html": [
              "\n",
              "<iframe width=\"1200\" height=\"600\" src=\"https://www.geogebra.org/classic/nr4r5dzu\" style=\"border: 1px solid black\"></iframe>\n"
            ]
          },
          "metadata": {},
          "execution_count": 2
        }
      ],
      "source": [
        "fig01 = \"\"\"\n",
        "<iframe width=\"1200\" height=\"600\" src=\"https://www.geogebra.org/classic/nr4r5dzu\" style=\"border: 1px solid black\"></iframe>\n",
        "\"\"\"\n",
        "display.HTML(fig01)"
      ]
    },
    {
      "cell_type": "code",
      "execution_count": null,
      "metadata": {
        "id": "9kJxV1Dj7SWq"
      },
      "outputs": [],
      "source": []
    }
  ],
  "metadata": {
    "kernelspec": {
      "display_name": "Python 3 (ipykernel)",
      "language": "python",
      "name": "python3"
    },
    "language_info": {
      "codemirror_mode": {
        "name": "ipython",
        "version": 3
      },
      "file_extension": ".py",
      "mimetype": "text/x-python",
      "name": "python",
      "nbconvert_exporter": "python",
      "pygments_lexer": "ipython3",
      "version": "3.9.16"
    },
    "colab": {
      "provenance": [],
      "include_colab_link": true
    }
  },
  "nbformat": 4,
  "nbformat_minor": 0
}