{
  "cells": [
    {
      "cell_type": "markdown",
      "metadata": {
        "id": "view-in-github",
        "colab_type": "text"
      },
      "source": [
        "<a href=\"https://colab.research.google.com/github/gg5d/DS-3005/blob/main/MML_Python%2C_Ch_04_SVD.ipynb\" target=\"_parent\"><img src=\"https://colab.research.google.com/assets/colab-badge.svg\" alt=\"Open In Colab\"/></a>"
      ]
    },
    {
      "cell_type": "markdown",
      "id": "6e80a93f-40c7-4b86-8c23-73a7de05175f",
      "metadata": {
        "id": "6e80a93f-40c7-4b86-8c23-73a7de05175f"
      },
      "source": [
        "# MML Python, Ch.04\n",
        "\n",
        "## Singular Value Decomposition"
      ]
    },
    {
      "cell_type": "code",
      "execution_count": null,
      "id": "60585c39-dc2c-4e03-b08b-0bbd4d232d51",
      "metadata": {
        "tags": [],
        "id": "60585c39-dc2c-4e03-b08b-0bbd4d232d51"
      },
      "outputs": [],
      "source": [
        "import numpy as np\n",
        "import numpy.linalg as npl\n",
        "import matplotlib.pyplot as plt\n",
        "import itertools as it\n",
        "from matplotlib.pyplot import figure\n",
        "from sympy import *\n",
        "from sympy.abc import x\n",
        "import networkx as nx\n",
        "from IPython.core.interactiveshell import InteractiveShell\n",
        "from mpl_toolkits.mplot3d import Axes3D\n",
        "from matplotlib import cm\n",
        "import random\n",
        "from scipy.io import loadmat\n",
        "import scipy.linalg as spl\n",
        "import PIL\n",
        "from PIL import Image"
      ]
    },
    {
      "cell_type": "markdown",
      "id": "f5ddca5b-2dba-45fc-a9a7-dd5fdbc7e5b1",
      "metadata": {
        "id": "f5ddca5b-2dba-45fc-a9a7-dd5fdbc7e5b1"
      },
      "source": [
        "Reference\n",
        "https://docs.sympy.org/latest/tutorials/intro-tutorial/matrices.html"
      ]
    },
    {
      "cell_type": "code",
      "execution_count": null,
      "id": "c5fdbd52-901d-4f15-a0d2-112421dede91",
      "metadata": {
        "tags": [],
        "id": "c5fdbd52-901d-4f15-a0d2-112421dede91",
        "outputId": "56cc7700-4997-40d5-d2a7-1ef4e53971c7"
      },
      "outputs": [
        {
          "data": {
            "text/latex": [
              "$\\displaystyle \\left[\\begin{matrix}5 & 4 & 1\\\\5 & 5 & 0\\\\0 & 0 & 5\\\\1 & 0 & 4\\end{matrix}\\right]$"
            ],
            "text/plain": [
              "Matrix([\n",
              "[5, 4, 1],\n",
              "[5, 5, 0],\n",
              "[0, 0, 5],\n",
              "[1, 0, 4]])"
            ]
          },
          "execution_count": 251,
          "metadata": {},
          "output_type": "execute_result"
        }
      ],
      "source": [
        "A = np.vstack([[5,4,1],[5,5,0],[0,0,5],[1,0,4]])\n",
        "A = Matrix([[5,4,1],[5,5,0],[0,0,5],[1,0,4]])\n",
        "A"
      ]
    },
    {
      "cell_type": "code",
      "execution_count": null,
      "id": "e2f2c318-b06f-4dbc-a6d0-f61a44d3867c",
      "metadata": {
        "tags": [],
        "id": "e2f2c318-b06f-4dbc-a6d0-f61a44d3867c"
      },
      "outputs": [],
      "source": [
        "A.singular_value_decomposition()"
      ]
    },
    {
      "cell_type": "code",
      "execution_count": null,
      "id": "fec9aaea-fdea-4926-9948-961f02264c0b",
      "metadata": {
        "tags": [],
        "id": "fec9aaea-fdea-4926-9948-961f02264c0b",
        "outputId": "49a039f7-de6d-4028-990a-ebfc1957157d"
      },
      "outputs": [
        {
          "data": {
            "text/plain": [
              "numpy.ndarray"
            ]
          },
          "execution_count": 4,
          "metadata": {},
          "output_type": "execute_result"
        }
      ],
      "source": [
        "type(A)"
      ]
    },
    {
      "cell_type": "markdown",
      "id": "3069090b-6b0e-4b87-ac75-353a8fd26e64",
      "metadata": {
        "id": "3069090b-6b0e-4b87-ac75-353a8fd26e64"
      },
      "source": [
        "## Example 4.13"
      ]
    },
    {
      "cell_type": "code",
      "execution_count": null,
      "id": "58a7c041-f39e-4e9d-a71c-459b1e4b6aa8",
      "metadata": {
        "tags": [],
        "id": "58a7c041-f39e-4e9d-a71c-459b1e4b6aa8",
        "outputId": "c1cabb0c-86bc-44d8-d5d3-0b34afadc42e"
      },
      "outputs": [
        {
          "data": {
            "text/latex": [
              "$\\displaystyle \\left[\\begin{matrix}1 & 0 & 1\\\\-2 & 1 & 0\\end{matrix}\\right]$"
            ],
            "text/plain": [
              "Matrix([\n",
              "[ 1, 0, 1],\n",
              "[-2, 1, 0]])"
            ]
          },
          "execution_count": 9,
          "metadata": {},
          "output_type": "execute_result"
        }
      ],
      "source": [
        "A = Matrix([[1,0,1],[-2,1,0]])\n",
        "A"
      ]
    },
    {
      "cell_type": "code",
      "execution_count": null,
      "id": "1b346837-2ece-42b1-9838-41ef81ef27c6",
      "metadata": {
        "tags": [],
        "id": "1b346837-2ece-42b1-9838-41ef81ef27c6",
        "outputId": "91172a7b-3492-41dc-d505-f251ce3aff7a"
      },
      "outputs": [
        {
          "data": {
            "text/latex": [
              "$\\displaystyle \\left[\\begin{matrix}1 & -2\\\\0 & 1\\\\1 & 0\\end{matrix}\\right]$"
            ],
            "text/plain": [
              "Matrix([\n",
              "[1, -2],\n",
              "[0,  1],\n",
              "[1,  0]])"
            ]
          },
          "execution_count": 10,
          "metadata": {},
          "output_type": "execute_result"
        }
      ],
      "source": [
        "A.T"
      ]
    },
    {
      "cell_type": "code",
      "execution_count": null,
      "id": "cb7f099f-ef4d-40d7-9d4d-576ecc90ce81",
      "metadata": {
        "id": "cb7f099f-ef4d-40d7-9d4d-576ecc90ce81",
        "outputId": "6c975591-82b0-4382-9ed5-fd7e1c126b02"
      },
      "outputs": [
        {
          "data": {
            "text/latex": [
              "$\\displaystyle \\left[\\begin{matrix}5 & -2 & 1\\\\-2 & 1 & 0\\\\1 & 0 & 1\\end{matrix}\\right]$"
            ],
            "text/plain": [
              "Matrix([\n",
              "[ 5, -2, 1],\n",
              "[-2,  1, 0],\n",
              "[ 1,  0, 1]])"
            ]
          },
          "execution_count": 11,
          "metadata": {},
          "output_type": "execute_result"
        }
      ],
      "source": [
        "ATA = A.T*A\n",
        "ATA"
      ]
    },
    {
      "cell_type": "code",
      "execution_count": null,
      "id": "cb754573-0a7d-45f3-a1f5-aefabffe1f16",
      "metadata": {
        "id": "cb754573-0a7d-45f3-a1f5-aefabffe1f16",
        "outputId": "e030185f-bb83-4165-a4f5-ac00e854525e"
      },
      "outputs": [
        {
          "data": {
            "text/plain": [
              "{6: 1, 1: 1, 0: 1}"
            ]
          },
          "execution_count": 12,
          "metadata": {},
          "output_type": "execute_result"
        }
      ],
      "source": [
        "ATA.eigenvals()"
      ]
    },
    {
      "cell_type": "code",
      "execution_count": null,
      "id": "8dc1e0d9-c999-438f-9525-ce86d31856aa",
      "metadata": {
        "id": "8dc1e0d9-c999-438f-9525-ce86d31856aa",
        "outputId": "8f1972ae-5308-4365-b71c-c17421e11027"
      },
      "outputs": [
        {
          "data": {
            "text/plain": [
              "[(0,\n",
              "  1,\n",
              "  [Matrix([\n",
              "   [-1],\n",
              "   [-2],\n",
              "   [ 1]])]),\n",
              " (1,\n",
              "  1,\n",
              "  [Matrix([\n",
              "   [  0],\n",
              "   [1/2],\n",
              "   [  1]])]),\n",
              " (6,\n",
              "  1,\n",
              "  [Matrix([\n",
              "   [ 5],\n",
              "   [-2],\n",
              "   [ 1]])])]"
            ]
          },
          "execution_count": 13,
          "metadata": {},
          "output_type": "execute_result"
        }
      ],
      "source": [
        "e_vects = ATA.eigenvects()\n",
        "e_vects"
      ]
    },
    {
      "cell_type": "code",
      "execution_count": null,
      "id": "e3009714-c565-46f5-a0d9-6894ab3ae267",
      "metadata": {
        "id": "e3009714-c565-46f5-a0d9-6894ab3ae267",
        "outputId": "d861ea5f-b86e-4ae1-f98d-859e96e12fe5"
      },
      "outputs": [
        {
          "data": {
            "text/plain": [
              "[(6,\n",
              "  1,\n",
              "  [Matrix([\n",
              "   [ 5],\n",
              "   [-2],\n",
              "   [ 1]])]),\n",
              " (1,\n",
              "  1,\n",
              "  [Matrix([\n",
              "   [  0],\n",
              "   [1/2],\n",
              "   [  1]])]),\n",
              " (0,\n",
              "  1,\n",
              "  [Matrix([\n",
              "   [-1],\n",
              "   [-2],\n",
              "   [ 1]])])]"
            ]
          },
          "execution_count": 17,
          "metadata": {},
          "output_type": "execute_result"
        }
      ],
      "source": [
        "e_vects = e_vects[::-1]\n",
        "e_vects"
      ]
    },
    {
      "cell_type": "code",
      "execution_count": null,
      "id": "1a5ee84b-f4ee-4d71-b065-1ba51cadaa02",
      "metadata": {
        "id": "1a5ee84b-f4ee-4d71-b065-1ba51cadaa02",
        "outputId": "e18e9325-a971-4855-cd61-6177288076ec"
      },
      "outputs": [
        {
          "data": {
            "text/latex": [
              "$\\displaystyle \\left[\\begin{matrix}\\frac{\\sqrt{30}}{6}\\\\- \\frac{\\sqrt{30}}{15}\\\\\\frac{\\sqrt{30}}{30}\\end{matrix}\\right]$"
            ],
            "text/plain": [
              "Matrix([\n",
              "[  sqrt(30)/6],\n",
              "[-sqrt(30)/15],\n",
              "[ sqrt(30)/30]])"
            ]
          },
          "execution_count": 18,
          "metadata": {},
          "output_type": "execute_result"
        }
      ],
      "source": [
        "e_vec1 = e_vects[0]\n",
        "v1= e_vec1[2]\n",
        "v1 = v1[0].normalized()\n",
        "v1"
      ]
    },
    {
      "cell_type": "code",
      "execution_count": null,
      "id": "d0acfaed-066b-4ce7-b36e-99b627541df7",
      "metadata": {
        "id": "d0acfaed-066b-4ce7-b36e-99b627541df7",
        "outputId": "6de9cb13-9a71-4652-831e-614942dedb6e"
      },
      "outputs": [
        {
          "data": {
            "text/plain": [
              "True"
            ]
          },
          "execution_count": 61,
          "metadata": {},
          "output_type": "execute_result"
        }
      ],
      "source": [
        "ATA*v1 == 6* v1"
      ]
    },
    {
      "cell_type": "code",
      "execution_count": null,
      "id": "5870fb22-52c9-4358-b5e8-340989652165",
      "metadata": {
        "id": "5870fb22-52c9-4358-b5e8-340989652165",
        "outputId": "6d0b9d53-866d-437c-ea4c-6957aa63d46f"
      },
      "outputs": [
        {
          "data": {
            "text/latex": [
              "$\\displaystyle \\left[\\begin{matrix}0\\\\\\frac{\\sqrt{5}}{5}\\\\\\frac{2 \\sqrt{5}}{5}\\end{matrix}\\right]$"
            ],
            "text/plain": [
              "Matrix([\n",
              "[          0],\n",
              "[  sqrt(5)/5],\n",
              "[2*sqrt(5)/5]])"
            ]
          },
          "execution_count": 19,
          "metadata": {},
          "output_type": "execute_result"
        }
      ],
      "source": [
        "e_vec2 = e_vects[1]\n",
        "v2=e_vec2[2][0].normalized()\n",
        "v2"
      ]
    },
    {
      "cell_type": "code",
      "execution_count": null,
      "id": "83934c41-19b3-4b2d-a6cd-4e13048fe70a",
      "metadata": {
        "id": "83934c41-19b3-4b2d-a6cd-4e13048fe70a",
        "outputId": "55f9af52-ee68-43bc-a3fd-d1a7fd7b7689"
      },
      "outputs": [
        {
          "data": {
            "text/latex": [
              "$\\displaystyle \\left[\\begin{matrix}- \\frac{\\sqrt{6}}{6}\\\\- \\frac{\\sqrt{6}}{3}\\\\\\frac{\\sqrt{6}}{6}\\end{matrix}\\right]$"
            ],
            "text/plain": [
              "Matrix([\n",
              "[-sqrt(6)/6],\n",
              "[-sqrt(6)/3],\n",
              "[ sqrt(6)/6]])"
            ]
          },
          "execution_count": 20,
          "metadata": {},
          "output_type": "execute_result"
        }
      ],
      "source": [
        "v3 = e_vects[2][2][0]\n",
        "v3=v3.normalized()\n",
        "v3"
      ]
    },
    {
      "cell_type": "code",
      "execution_count": null,
      "id": "72e97d66-0ba3-497f-afe9-4cc2a2130737",
      "metadata": {
        "id": "72e97d66-0ba3-497f-afe9-4cc2a2130737",
        "outputId": "1aa94b79-8ea7-4cdb-c8b9-41f360aab2ae"
      },
      "outputs": [
        {
          "data": {
            "text/latex": [
              "$\\displaystyle \\left[\\begin{matrix}\\frac{\\sqrt{30}}{6} & 0 & - \\frac{\\sqrt{6}}{6}\\\\- \\frac{\\sqrt{30}}{15} & \\frac{\\sqrt{5}}{5} & - \\frac{\\sqrt{6}}{3}\\\\\\frac{\\sqrt{30}}{30} & \\frac{2 \\sqrt{5}}{5} & \\frac{\\sqrt{6}}{6}\\end{matrix}\\right]$"
            ],
            "text/plain": [
              "Matrix([\n",
              "[  sqrt(30)/6,           0, -sqrt(6)/6],\n",
              "[-sqrt(30)/15,   sqrt(5)/5, -sqrt(6)/3],\n",
              "[ sqrt(30)/30, 2*sqrt(5)/5,  sqrt(6)/6]])"
            ]
          },
          "execution_count": 21,
          "metadata": {},
          "output_type": "execute_result"
        }
      ],
      "source": [
        "V = Matrix([[v1.T],[v2.T],[v3.T]]).T\n",
        "V"
      ]
    },
    {
      "cell_type": "code",
      "execution_count": null,
      "id": "7a27d302-862e-430d-bfe9-e48c05bea6c1",
      "metadata": {
        "id": "7a27d302-862e-430d-bfe9-e48c05bea6c1",
        "outputId": "a2ca2f67-1bdf-442f-a0da-2fab1300d849"
      },
      "outputs": [
        {
          "data": {
            "text/latex": [
              "$\\displaystyle \\left[\\begin{matrix}1 & 0 & 0\\\\0 & 1 & 0\\\\0 & 0 & 1\\end{matrix}\\right]$"
            ],
            "text/plain": [
              "Matrix([\n",
              "[1, 0, 0],\n",
              "[0, 1, 0],\n",
              "[0, 0, 1]])"
            ]
          },
          "execution_count": 22,
          "metadata": {},
          "output_type": "execute_result"
        }
      ],
      "source": [
        "V*V.T"
      ]
    },
    {
      "cell_type": "code",
      "execution_count": null,
      "id": "2cafe7cf-5180-41a5-aae0-578abb51b3a5",
      "metadata": {
        "id": "2cafe7cf-5180-41a5-aae0-578abb51b3a5",
        "outputId": "237dc0f6-4083-4c02-f25e-e8e583ddbcd7"
      },
      "outputs": [
        {
          "data": {
            "text/latex": [
              "$\\displaystyle \\left[\\begin{matrix}\\sqrt{30} & 0 & 0\\\\- \\frac{2 \\sqrt{30}}{5} & \\frac{\\sqrt{5}}{5} & 0\\\\\\frac{\\sqrt{30}}{5} & \\frac{2 \\sqrt{5}}{5} & 0\\end{matrix}\\right]$"
            ],
            "text/plain": [
              "Matrix([\n",
              "[     sqrt(30),           0, 0],\n",
              "[-2*sqrt(30)/5,   sqrt(5)/5, 0],\n",
              "[   sqrt(30)/5, 2*sqrt(5)/5, 0]])"
            ]
          },
          "execution_count": 23,
          "metadata": {},
          "output_type": "execute_result"
        }
      ],
      "source": [
        "ATA*V"
      ]
    },
    {
      "cell_type": "code",
      "execution_count": null,
      "id": "253d963a-de24-4f1f-9f51-cc2b23747256",
      "metadata": {
        "id": "253d963a-de24-4f1f-9f51-cc2b23747256",
        "outputId": "d853d63b-9e9b-4da4-ec57-7ed119804d71"
      },
      "outputs": [
        {
          "data": {
            "text/latex": [
              "$\\displaystyle \\left[\\begin{matrix}6 & 0 & 0\\\\0 & 1 & 0\\\\0 & 0 & 0\\end{matrix}\\right]$"
            ],
            "text/plain": [
              "Matrix([\n",
              "[6, 0, 0],\n",
              "[0, 1, 0],\n",
              "[0, 0, 0]])"
            ]
          },
          "execution_count": 24,
          "metadata": {},
          "output_type": "execute_result"
        }
      ],
      "source": [
        "D = Matrix([[6,0,0],[0,1,0],[0,0,0]])\n",
        "D"
      ]
    },
    {
      "cell_type": "code",
      "execution_count": null,
      "id": "72a88f94-168e-475b-a521-371312edba6f",
      "metadata": {
        "id": "72a88f94-168e-475b-a521-371312edba6f",
        "outputId": "4da3739a-dfe7-4ddd-877d-4e421215c370"
      },
      "outputs": [
        {
          "data": {
            "text/latex": [
              "$\\displaystyle \\left[\\begin{matrix}5 & -2 & 1\\\\-2 & 1 & 0\\\\1 & 0 & 1\\end{matrix}\\right]$"
            ],
            "text/plain": [
              "Matrix([\n",
              "[ 5, -2, 1],\n",
              "[-2,  1, 0],\n",
              "[ 1,  0, 1]])"
            ]
          },
          "execution_count": 25,
          "metadata": {},
          "output_type": "execute_result"
        }
      ],
      "source": [
        "V*D*V.T"
      ]
    },
    {
      "cell_type": "code",
      "execution_count": null,
      "id": "29aab4df-3bd2-4a87-8938-f77afc2aacae",
      "metadata": {
        "id": "29aab4df-3bd2-4a87-8938-f77afc2aacae",
        "outputId": "49b9fd69-b450-4b68-d29e-3e8a430420cb"
      },
      "outputs": [
        {
          "data": {
            "text/latex": [
              "$\\displaystyle \\left[\\begin{matrix}\\sqrt{6} & 0 & 0\\\\0 & 1 & 0\\end{matrix}\\right]$"
            ],
            "text/plain": [
              "Matrix([\n",
              "[sqrt(6), 0, 0],\n",
              "[      0, 1, 0]])"
            ]
          },
          "execution_count": 39,
          "metadata": {},
          "output_type": "execute_result"
        }
      ],
      "source": [
        "S = Matrix([[sqrt(6),0,0],[0,1,0]])\n",
        "S"
      ]
    },
    {
      "cell_type": "code",
      "execution_count": null,
      "id": "7ac95072-5947-4c2b-9317-45a1536179a5",
      "metadata": {
        "id": "7ac95072-5947-4c2b-9317-45a1536179a5",
        "outputId": "f64afad7-8b08-4283-8dbd-3ab86bec420c"
      },
      "outputs": [
        {
          "data": {
            "text/latex": [
              "$\\displaystyle \\left[\\begin{matrix}\\frac{\\sqrt{5}}{5}\\\\- \\frac{2 \\sqrt{5}}{5}\\end{matrix}\\right]$"
            ],
            "text/plain": [
              "Matrix([\n",
              "[   sqrt(5)/5],\n",
              "[-2*sqrt(5)/5]])"
            ]
          },
          "execution_count": 46,
          "metadata": {},
          "output_type": "execute_result"
        }
      ],
      "source": [
        "u_1 = A*v1/sqrt(6)\n",
        "u_1"
      ]
    },
    {
      "cell_type": "code",
      "execution_count": null,
      "id": "71c259d3-1bf6-4edf-ba27-ace14144b9a2",
      "metadata": {
        "id": "71c259d3-1bf6-4edf-ba27-ace14144b9a2",
        "outputId": "f561cbde-77f6-474d-b045-b2f434eacca8"
      },
      "outputs": [
        {
          "data": {
            "text/latex": [
              "$\\displaystyle \\left[\\begin{matrix}\\frac{2 \\sqrt{5}}{5}\\\\\\frac{\\sqrt{5}}{5}\\end{matrix}\\right]$"
            ],
            "text/plain": [
              "Matrix([\n",
              "[2*sqrt(5)/5],\n",
              "[  sqrt(5)/5]])"
            ]
          },
          "execution_count": 47,
          "metadata": {},
          "output_type": "execute_result"
        }
      ],
      "source": [
        "u_2 = A*v2/sqrt(1)\n",
        "u_2"
      ]
    },
    {
      "cell_type": "code",
      "execution_count": null,
      "id": "71dc9b4a-8fd9-4e3a-900a-085f591fae13",
      "metadata": {
        "id": "71dc9b4a-8fd9-4e3a-900a-085f591fae13",
        "outputId": "c34d3e60-9a4b-4b84-8cfc-e6bd7e17200a"
      },
      "outputs": [
        {
          "data": {
            "text/latex": [
              "$\\displaystyle \\left[\\begin{matrix}\\frac{\\sqrt{5}}{5} & \\frac{2 \\sqrt{5}}{5}\\\\- \\frac{2 \\sqrt{5}}{5} & \\frac{\\sqrt{5}}{5}\\end{matrix}\\right]$"
            ],
            "text/plain": [
              "Matrix([\n",
              "[   sqrt(5)/5, 2*sqrt(5)/5],\n",
              "[-2*sqrt(5)/5,   sqrt(5)/5]])"
            ]
          },
          "execution_count": 48,
          "metadata": {},
          "output_type": "execute_result"
        }
      ],
      "source": [
        "U = Matrix([u_1.T,u_2.T]).T\n",
        "U"
      ]
    },
    {
      "cell_type": "code",
      "execution_count": null,
      "id": "73e2c855-7343-41b6-be9e-f260687d6a35",
      "metadata": {
        "id": "73e2c855-7343-41b6-be9e-f260687d6a35",
        "outputId": "d69a6166-81d4-4377-d574-cc2d0c05e110"
      },
      "outputs": [
        {
          "data": {
            "text/latex": [
              "$\\displaystyle \\left[\\begin{matrix}1 & 0 & 1\\\\-2 & 1 & 0\\end{matrix}\\right]$"
            ],
            "text/plain": [
              "Matrix([\n",
              "[ 1, 0, 1],\n",
              "[-2, 1, 0]])"
            ]
          },
          "execution_count": 49,
          "metadata": {},
          "output_type": "execute_result"
        }
      ],
      "source": [
        "U*S*V.T"
      ]
    },
    {
      "cell_type": "code",
      "execution_count": null,
      "id": "bc9f57ba-197c-4991-b773-ebaf940d9300",
      "metadata": {
        "id": "bc9f57ba-197c-4991-b773-ebaf940d9300",
        "outputId": "4f4cafa9-c646-4b81-eeab-32f69df366ea"
      },
      "outputs": [
        {
          "data": {
            "text/latex": [
              "$\\displaystyle \\left[\\begin{matrix}2 & -2\\\\-2 & 5\\end{matrix}\\right]$"
            ],
            "text/plain": [
              "Matrix([\n",
              "[ 2, -2],\n",
              "[-2,  5]])"
            ]
          },
          "execution_count": 26,
          "metadata": {},
          "output_type": "execute_result"
        }
      ],
      "source": [
        "AAT = A*A.T\n",
        "AAT"
      ]
    },
    {
      "cell_type": "code",
      "execution_count": null,
      "id": "ed455b7e-ef25-4cf9-9b2d-d03b2b4d5b14",
      "metadata": {
        "id": "ed455b7e-ef25-4cf9-9b2d-d03b2b4d5b14",
        "outputId": "1da6f687-5c0d-47b0-bbbc-0a15e5eff9e2"
      },
      "outputs": [
        {
          "data": {
            "text/plain": [
              "[(6,\n",
              "  1,\n",
              "  [Matrix([\n",
              "   [-1/2],\n",
              "   [   1]])]),\n",
              " (1,\n",
              "  1,\n",
              "  [Matrix([\n",
              "   [2],\n",
              "   [1]])])]"
            ]
          },
          "execution_count": 28,
          "metadata": {},
          "output_type": "execute_result"
        }
      ],
      "source": [
        "e_vectsAAT = AAT.eigenvects()\n",
        "e_vectsAAT = e_vectsAAT[::-1]#[0][2][0]\n",
        "e_vectsAAT"
      ]
    },
    {
      "cell_type": "code",
      "execution_count": null,
      "id": "2a4b3df5-c65a-46b3-8f2e-ae921100f409",
      "metadata": {
        "id": "2a4b3df5-c65a-46b3-8f2e-ae921100f409",
        "outputId": "314a1f68-eab0-404d-947b-4d61e35c1add"
      },
      "outputs": [
        {
          "data": {
            "text/latex": [
              "$\\displaystyle \\left[\\begin{matrix}\\frac{\\sqrt{5}}{5}\\\\- \\frac{2 \\sqrt{5}}{5}\\end{matrix}\\right]$"
            ],
            "text/plain": [
              "Matrix([\n",
              "[   sqrt(5)/5],\n",
              "[-2*sqrt(5)/5]])"
            ]
          },
          "execution_count": 32,
          "metadata": {},
          "output_type": "execute_result"
        }
      ],
      "source": [
        "u_1 = e_vectsAAT[0][2][0]\n",
        "u_1 = -u_1.normalized()\n",
        "u_1"
      ]
    },
    {
      "cell_type": "code",
      "execution_count": null,
      "id": "9760d86a-ec1d-4bb1-9580-bd084f4cf6c7",
      "metadata": {
        "id": "9760d86a-ec1d-4bb1-9580-bd084f4cf6c7",
        "outputId": "ab8db67b-f323-456f-a420-9a7ee9552841"
      },
      "outputs": [
        {
          "data": {
            "text/latex": [
              "$\\displaystyle \\left[\\begin{matrix}\\frac{2 \\sqrt{5}}{5}\\\\\\frac{\\sqrt{5}}{5}\\end{matrix}\\right]$"
            ],
            "text/plain": [
              "Matrix([\n",
              "[2*sqrt(5)/5],\n",
              "[  sqrt(5)/5]])"
            ]
          },
          "execution_count": 33,
          "metadata": {},
          "output_type": "execute_result"
        }
      ],
      "source": [
        "u_2 = e_vectsAAT[1][2][0]\n",
        "u_2 = u_2.normalized()\n",
        "u_2"
      ]
    },
    {
      "cell_type": "code",
      "execution_count": null,
      "id": "17fb5928-7609-4b67-9e9d-1facec22bc8d",
      "metadata": {
        "id": "17fb5928-7609-4b67-9e9d-1facec22bc8d",
        "outputId": "1497281d-3c28-4e46-def1-1e851bd5898a"
      },
      "outputs": [
        {
          "data": {
            "text/latex": [
              "$\\displaystyle \\left[\\begin{matrix}\\frac{\\sqrt{5}}{5} & \\frac{2 \\sqrt{5}}{5}\\\\- \\frac{2 \\sqrt{5}}{5} & \\frac{\\sqrt{5}}{5}\\end{matrix}\\right]$"
            ],
            "text/plain": [
              "Matrix([\n",
              "[   sqrt(5)/5, 2*sqrt(5)/5],\n",
              "[-2*sqrt(5)/5,   sqrt(5)/5]])"
            ]
          },
          "execution_count": 34,
          "metadata": {},
          "output_type": "execute_result"
        }
      ],
      "source": [
        "U2 = Matrix([u_1.T,u_2.T]).T\n",
        "U2"
      ]
    },
    {
      "cell_type": "code",
      "execution_count": null,
      "id": "f218679d-d507-48e1-b56c-d950011f3e91",
      "metadata": {
        "id": "f218679d-d507-48e1-b56c-d950011f3e91",
        "outputId": "db833d37-ea11-43b1-81b0-fabaf64f94a9"
      },
      "outputs": [
        {
          "data": {
            "text/latex": [
              "$\\displaystyle \\left[\\begin{matrix}1 & 0 & 1\\\\-2 & 1 & 0\\end{matrix}\\right]$"
            ],
            "text/plain": [
              "Matrix([\n",
              "[ 1, 0, 1],\n",
              "[-2, 1, 0]])"
            ]
          },
          "execution_count": 42,
          "metadata": {},
          "output_type": "execute_result"
        }
      ],
      "source": [
        "U2*S*V.T"
      ]
    },
    {
      "cell_type": "code",
      "execution_count": null,
      "id": "b36ccebd-9ab4-4f6d-8ec4-d787d11d676e",
      "metadata": {
        "id": "b36ccebd-9ab4-4f6d-8ec4-d787d11d676e"
      },
      "outputs": [],
      "source": [
        "Un, Sn, Vn = A.singular_value_decomposition()"
      ]
    },
    {
      "cell_type": "code",
      "execution_count": null,
      "id": "ff18d3df-cdae-4d0a-9993-037ed1587c7f",
      "metadata": {
        "id": "ff18d3df-cdae-4d0a-9993-037ed1587c7f",
        "outputId": "a68fd6e6-ffaf-4409-fa0b-d9a04af38bdd"
      },
      "outputs": [
        {
          "data": {
            "text/latex": [
              "$\\displaystyle \\left[\\begin{matrix}\\frac{2 \\sqrt{5}}{5} & - \\frac{\\sqrt{5}}{5}\\\\\\frac{\\sqrt{5}}{5} & \\frac{2 \\sqrt{5}}{5}\\end{matrix}\\right]$"
            ],
            "text/plain": [
              "Matrix([\n",
              "[2*sqrt(5)/5,  -sqrt(5)/5],\n",
              "[  sqrt(5)/5, 2*sqrt(5)/5]])"
            ]
          },
          "execution_count": 51,
          "metadata": {},
          "output_type": "execute_result"
        }
      ],
      "source": [
        "Un"
      ]
    },
    {
      "cell_type": "code",
      "execution_count": null,
      "id": "5674e105-7f7d-4296-8e25-6b4580ba426a",
      "metadata": {
        "id": "5674e105-7f7d-4296-8e25-6b4580ba426a",
        "outputId": "0df149ff-30de-4774-9ac9-cb2eaf006bee"
      },
      "outputs": [
        {
          "data": {
            "text/latex": [
              "$\\displaystyle \\left[\\begin{matrix}\\frac{\\sqrt{5}}{5} & \\frac{2 \\sqrt{5}}{5}\\\\- \\frac{2 \\sqrt{5}}{5} & \\frac{\\sqrt{5}}{5}\\end{matrix}\\right]$"
            ],
            "text/plain": [
              "Matrix([\n",
              "[   sqrt(5)/5, 2*sqrt(5)/5],\n",
              "[-2*sqrt(5)/5,   sqrt(5)/5]])"
            ]
          },
          "execution_count": 53,
          "metadata": {},
          "output_type": "execute_result"
        }
      ],
      "source": [
        "U"
      ]
    },
    {
      "cell_type": "code",
      "execution_count": null,
      "id": "510d1d55-7b36-4081-8e11-0ed3f434285f",
      "metadata": {
        "id": "510d1d55-7b36-4081-8e11-0ed3f434285f",
        "outputId": "d470eb78-3ad4-44cc-80cd-e150f4b85bc8"
      },
      "outputs": [
        {
          "data": {
            "text/plain": [
              "False"
            ]
          },
          "execution_count": 54,
          "metadata": {},
          "output_type": "execute_result"
        }
      ],
      "source": [
        "S == Sn"
      ]
    },
    {
      "cell_type": "code",
      "execution_count": null,
      "id": "a35fdda6-e7ff-4a8c-b733-ccb910b6e6f9",
      "metadata": {
        "id": "a35fdda6-e7ff-4a8c-b733-ccb910b6e6f9",
        "outputId": "4dd83121-b9b4-4fa9-c27a-5f5e745a82c7"
      },
      "outputs": [
        {
          "data": {
            "text/latex": [
              "$\\displaystyle \\left[\\begin{matrix}\\sqrt{6} & 0 & 0\\\\0 & 1 & 0\\end{matrix}\\right]$"
            ],
            "text/plain": [
              "Matrix([\n",
              "[sqrt(6), 0, 0],\n",
              "[      0, 1, 0]])"
            ]
          },
          "execution_count": 55,
          "metadata": {},
          "output_type": "execute_result"
        }
      ],
      "source": [
        "S"
      ]
    },
    {
      "cell_type": "code",
      "execution_count": null,
      "id": "64348f1f-0232-4f73-9517-1f53a1bbdb36",
      "metadata": {
        "id": "64348f1f-0232-4f73-9517-1f53a1bbdb36",
        "outputId": "7bed2180-ae00-4540-983f-6386febf3363"
      },
      "outputs": [
        {
          "data": {
            "text/latex": [
              "$\\displaystyle \\left[\\begin{matrix}1 & 0\\\\0 & \\sqrt{6}\\end{matrix}\\right]$"
            ],
            "text/plain": [
              "Matrix([\n",
              "[1,       0],\n",
              "[0, sqrt(6)]])"
            ]
          },
          "execution_count": 56,
          "metadata": {},
          "output_type": "execute_result"
        }
      ],
      "source": [
        "Sn"
      ]
    },
    {
      "cell_type": "code",
      "execution_count": null,
      "id": "16c50f2a-4a38-497f-90c5-3476f7e92626",
      "metadata": {
        "id": "16c50f2a-4a38-497f-90c5-3476f7e92626",
        "outputId": "d837489c-3e2c-41a8-edb3-bb5615f77734"
      },
      "outputs": [
        {
          "data": {
            "text/plain": [
              "False"
            ]
          },
          "execution_count": 57,
          "metadata": {},
          "output_type": "execute_result"
        }
      ],
      "source": [
        "V == Vn"
      ]
    },
    {
      "cell_type": "code",
      "execution_count": null,
      "id": "563d0052-0b3f-4475-bab3-5f3fb0b393fa",
      "metadata": {
        "id": "563d0052-0b3f-4475-bab3-5f3fb0b393fa",
        "outputId": "693791e4-817c-4569-a1d7-636846ac62a6"
      },
      "outputs": [
        {
          "data": {
            "text/latex": [
              "$\\displaystyle \\left[\\begin{matrix}\\frac{\\sqrt{30}}{6} & 0 & - \\frac{\\sqrt{6}}{6}\\\\- \\frac{\\sqrt{30}}{15} & \\frac{\\sqrt{5}}{5} & - \\frac{\\sqrt{6}}{3}\\\\\\frac{\\sqrt{30}}{30} & \\frac{2 \\sqrt{5}}{5} & \\frac{\\sqrt{6}}{6}\\end{matrix}\\right]$"
            ],
            "text/plain": [
              "Matrix([\n",
              "[  sqrt(30)/6,           0, -sqrt(6)/6],\n",
              "[-sqrt(30)/15,   sqrt(5)/5, -sqrt(6)/3],\n",
              "[ sqrt(30)/30, 2*sqrt(5)/5,  sqrt(6)/6]])"
            ]
          },
          "execution_count": 58,
          "metadata": {},
          "output_type": "execute_result"
        }
      ],
      "source": [
        "V"
      ]
    },
    {
      "cell_type": "code",
      "execution_count": null,
      "id": "df29c110-4c7a-4ff8-a2d8-cf2048f46c98",
      "metadata": {
        "id": "df29c110-4c7a-4ff8-a2d8-cf2048f46c98",
        "outputId": "0b7a203c-549d-42eb-8ab5-31b809e0b0b6"
      },
      "outputs": [
        {
          "data": {
            "text/latex": [
              "$\\displaystyle \\left[\\begin{matrix}0 & - \\frac{\\sqrt{30}}{6}\\\\\\frac{\\sqrt{5}}{5} & \\frac{\\sqrt{30}}{15}\\\\\\frac{2 \\sqrt{5}}{5} & - \\frac{\\sqrt{30}}{30}\\end{matrix}\\right]$"
            ],
            "text/plain": [
              "Matrix([\n",
              "[          0,  -sqrt(30)/6],\n",
              "[  sqrt(5)/5,  sqrt(30)/15],\n",
              "[2*sqrt(5)/5, -sqrt(30)/30]])"
            ]
          },
          "execution_count": 59,
          "metadata": {},
          "output_type": "execute_result"
        }
      ],
      "source": [
        "Vn"
      ]
    },
    {
      "cell_type": "code",
      "execution_count": null,
      "id": "aa482056-dc60-4c82-ae83-b5387c03ca08",
      "metadata": {
        "id": "aa482056-dc60-4c82-ae83-b5387c03ca08",
        "outputId": "a6db9b80-ce02-4bec-b724-6010de6bc075"
      },
      "outputs": [
        {
          "data": {
            "text/latex": [
              "$\\displaystyle \\left[\\begin{matrix}1 & 0 & 1\\\\-2 & 1 & 0\\end{matrix}\\right]$"
            ],
            "text/plain": [
              "Matrix([\n",
              "[ 1, 0, 1],\n",
              "[-2, 1, 0]])"
            ]
          },
          "execution_count": 60,
          "metadata": {},
          "output_type": "execute_result"
        }
      ],
      "source": [
        "Un*Sn*Vn.T"
      ]
    }
  ],
  "metadata": {
    "kernelspec": {
      "display_name": "Python 3 (ipykernel)",
      "language": "python",
      "name": "python3"
    },
    "language_info": {
      "codemirror_mode": {
        "name": "ipython",
        "version": 3
      },
      "file_extension": ".py",
      "mimetype": "text/x-python",
      "name": "python",
      "nbconvert_exporter": "python",
      "pygments_lexer": "ipython3",
      "version": "3.10.11"
    },
    "colab": {
      "provenance": [],
      "include_colab_link": true
    }
  },
  "nbformat": 4,
  "nbformat_minor": 5
}