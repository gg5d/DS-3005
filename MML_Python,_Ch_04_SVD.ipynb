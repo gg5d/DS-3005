{
  "cells": [
    {
      "cell_type": "markdown",
      "metadata": {
        "id": "view-in-github",
        "colab_type": "text"
      },
      "source": [
        "<a href=\"https://colab.research.google.com/github/gg5d/DS-3005/blob/main/MML_Python%2C_Ch_04_SVD.ipynb\" target=\"_parent\"><img src=\"https://colab.research.google.com/assets/colab-badge.svg\" alt=\"Open In Colab\"/></a>"
      ]
    },
    {
      "cell_type": "markdown",
      "id": "6e80a93f-40c7-4b86-8c23-73a7de05175f",
      "metadata": {
        "id": "6e80a93f-40c7-4b86-8c23-73a7de05175f"
      },
      "source": [
        "# MML Python, Ch.04\n",
        "\n",
        "## Singular Value Decomposition"
      ]
    },
    {
      "cell_type": "code",
      "execution_count": 1,
      "id": "60585c39-dc2c-4e03-b08b-0bbd4d232d51",
      "metadata": {
        "tags": [],
        "id": "60585c39-dc2c-4e03-b08b-0bbd4d232d51"
      },
      "outputs": [],
      "source": [
        "import numpy as np\n",
        "import numpy.linalg as npl\n",
        "import matplotlib.pyplot as plt\n",
        "import itertools as it\n",
        "from matplotlib.pyplot import figure\n",
        "from sympy import *\n",
        "from sympy.abc import x\n",
        "import networkx as nx\n",
        "from IPython.core.interactiveshell import InteractiveShell\n",
        "from mpl_toolkits.mplot3d import Axes3D\n",
        "from matplotlib import cm\n",
        "import random\n",
        "from scipy.io import loadmat\n",
        "import scipy.linalg as spl\n",
        "import PIL\n",
        "from PIL import Image"
      ]
    },
    {
      "cell_type": "markdown",
      "id": "f5ddca5b-2dba-45fc-a9a7-dd5fdbc7e5b1",
      "metadata": {
        "id": "f5ddca5b-2dba-45fc-a9a7-dd5fdbc7e5b1"
      },
      "source": [
        "Reference\n",
        "https://docs.sympy.org/latest/tutorials/intro-tutorial/matrices.html\n",
        "\n",
        "For the `singular_value_decomposition()` method:\n",
        "\n",
        "https://docs.sympy.org/latest/modules/matrices/matrices.html"
      ]
    },
    {
      "cell_type": "markdown",
      "source": [
        "#Movie Ratings"
      ],
      "metadata": {
        "id": "9zy0UbCMA5mb"
      },
      "id": "9zy0UbCMA5mb"
    },
    {
      "cell_type": "code",
      "execution_count": 4,
      "id": "c5fdbd52-901d-4f15-a0d2-112421dede91",
      "metadata": {
        "tags": [],
        "id": "c5fdbd52-901d-4f15-a0d2-112421dede91",
        "outputId": "7c0cbe7e-8b28-49ba-ea39-025d9254f60c",
        "colab": {
          "base_uri": "https://localhost:8080/",
          "height": 98
        }
      },
      "outputs": [
        {
          "output_type": "execute_result",
          "data": {
            "text/plain": [
              "Matrix([\n",
              "[5, 4, 1],\n",
              "[5, 5, 0],\n",
              "[0, 0, 5],\n",
              "[1, 0, 4]])"
            ],
            "text/latex": "$\\displaystyle \\left[\\begin{matrix}5 & 4 & 1\\\\5 & 5 & 0\\\\0 & 0 & 5\\\\1 & 0 & 4\\end{matrix}\\right]$"
          },
          "metadata": {},
          "execution_count": 4
        }
      ],
      "source": [
        "A = np.vstack([[5,4,1],[5,5,0],[0,0,5],[1,0,4]])\n",
        "A = Matrix([[5,4,1],[5,5,0],[0,0,5],[1,0,4]])\n",
        "A"
      ]
    },
    {
      "cell_type": "code",
      "execution_count": null,
      "id": "e2f2c318-b06f-4dbc-a6d0-f61a44d3867c",
      "metadata": {
        "tags": [],
        "id": "e2f2c318-b06f-4dbc-a6d0-f61a44d3867c"
      },
      "outputs": [],
      "source": [
        "# A.singular_value_decomposition()"
      ]
    },
    {
      "cell_type": "code",
      "execution_count": null,
      "id": "fec9aaea-fdea-4926-9948-961f02264c0b",
      "metadata": {
        "tags": [],
        "id": "fec9aaea-fdea-4926-9948-961f02264c0b",
        "outputId": "49a039f7-de6d-4028-990a-ebfc1957157d"
      },
      "outputs": [
        {
          "data": {
            "text/plain": [
              "numpy.ndarray"
            ]
          },
          "execution_count": 4,
          "metadata": {},
          "output_type": "execute_result"
        }
      ],
      "source": [
        "# type(A)"
      ]
    },
    {
      "cell_type": "markdown",
      "id": "3069090b-6b0e-4b87-ac75-353a8fd26e64",
      "metadata": {
        "id": "3069090b-6b0e-4b87-ac75-353a8fd26e64"
      },
      "source": [
        "## Example 4.13\n",
        "Computing the SVD"
      ]
    },
    {
      "cell_type": "code",
      "execution_count": 5,
      "id": "58a7c041-f39e-4e9d-a71c-459b1e4b6aa8",
      "metadata": {
        "tags": [],
        "id": "58a7c041-f39e-4e9d-a71c-459b1e4b6aa8",
        "outputId": "b70cdd74-704a-497d-fccf-e2bbe01d7fc2",
        "colab": {
          "base_uri": "https://localhost:8080/",
          "height": 58
        }
      },
      "outputs": [
        {
          "output_type": "execute_result",
          "data": {
            "text/plain": [
              "Matrix([\n",
              "[ 1, 0, 1],\n",
              "[-2, 1, 0]])"
            ],
            "text/latex": "$\\displaystyle \\left[\\begin{matrix}1 & 0 & 1\\\\-2 & 1 & 0\\end{matrix}\\right]$"
          },
          "metadata": {},
          "execution_count": 5
        }
      ],
      "source": [
        "A = Matrix([[1,0,1],[-2,1,0]])\n",
        "A"
      ]
    },
    {
      "cell_type": "code",
      "execution_count": 6,
      "id": "1b346837-2ece-42b1-9838-41ef81ef27c6",
      "metadata": {
        "tags": [],
        "id": "1b346837-2ece-42b1-9838-41ef81ef27c6",
        "outputId": "f8333941-fa34-431d-cb79-b3be72ffea33",
        "colab": {
          "base_uri": "https://localhost:8080/",
          "height": 78
        }
      },
      "outputs": [
        {
          "output_type": "execute_result",
          "data": {
            "text/plain": [
              "Matrix([\n",
              "[1, -2],\n",
              "[0,  1],\n",
              "[1,  0]])"
            ],
            "text/latex": "$\\displaystyle \\left[\\begin{matrix}1 & -2\\\\0 & 1\\\\1 & 0\\end{matrix}\\right]$"
          },
          "metadata": {},
          "execution_count": 6
        }
      ],
      "source": [
        "A.T"
      ]
    },
    {
      "cell_type": "code",
      "execution_count": 7,
      "id": "cb7f099f-ef4d-40d7-9d4d-576ecc90ce81",
      "metadata": {
        "id": "cb7f099f-ef4d-40d7-9d4d-576ecc90ce81",
        "outputId": "aba124ac-35be-483f-a4dd-1ccef425474e",
        "colab": {
          "base_uri": "https://localhost:8080/",
          "height": 78
        }
      },
      "outputs": [
        {
          "output_type": "execute_result",
          "data": {
            "text/plain": [
              "Matrix([\n",
              "[ 5, -2, 1],\n",
              "[-2,  1, 0],\n",
              "[ 1,  0, 1]])"
            ],
            "text/latex": "$\\displaystyle \\left[\\begin{matrix}5 & -2 & 1\\\\-2 & 1 & 0\\\\1 & 0 & 1\\end{matrix}\\right]$"
          },
          "metadata": {},
          "execution_count": 7
        }
      ],
      "source": [
        "ATA = A.T*A\n",
        "ATA"
      ]
    },
    {
      "cell_type": "code",
      "execution_count": 8,
      "id": "cb754573-0a7d-45f3-a1f5-aefabffe1f16",
      "metadata": {
        "id": "cb754573-0a7d-45f3-a1f5-aefabffe1f16",
        "outputId": "bf400f8c-b930-4c0f-cce8-e8dad403e513",
        "colab": {
          "base_uri": "https://localhost:8080/"
        }
      },
      "outputs": [
        {
          "output_type": "execute_result",
          "data": {
            "text/plain": [
              "{6: 1, 1: 1, 0: 1}"
            ]
          },
          "metadata": {},
          "execution_count": 8
        }
      ],
      "source": [
        "ATA.eigenvals()"
      ]
    },
    {
      "cell_type": "code",
      "execution_count": 9,
      "id": "8dc1e0d9-c999-438f-9525-ce86d31856aa",
      "metadata": {
        "id": "8dc1e0d9-c999-438f-9525-ce86d31856aa",
        "outputId": "7d2efa05-dd17-4672-a386-39cad0fa7776",
        "colab": {
          "base_uri": "https://localhost:8080/"
        }
      },
      "outputs": [
        {
          "output_type": "execute_result",
          "data": {
            "text/plain": [
              "[(0,\n",
              "  1,\n",
              "  [Matrix([\n",
              "   [-1],\n",
              "   [-2],\n",
              "   [ 1]])]),\n",
              " (1,\n",
              "  1,\n",
              "  [Matrix([\n",
              "   [  0],\n",
              "   [1/2],\n",
              "   [  1]])]),\n",
              " (6,\n",
              "  1,\n",
              "  [Matrix([\n",
              "   [ 5],\n",
              "   [-2],\n",
              "   [ 1]])])]"
            ]
          },
          "metadata": {},
          "execution_count": 9
        }
      ],
      "source": [
        "e_vects = ATA.eigenvects()\n",
        "e_vects"
      ]
    },
    {
      "cell_type": "markdown",
      "source": [
        "Sort the eigenvectors by eigenvectors decreasing values"
      ],
      "metadata": {
        "id": "wOIwR1dEBK06"
      },
      "id": "wOIwR1dEBK06"
    },
    {
      "cell_type": "code",
      "execution_count": 10,
      "id": "e3009714-c565-46f5-a0d9-6894ab3ae267",
      "metadata": {
        "id": "e3009714-c565-46f5-a0d9-6894ab3ae267",
        "outputId": "bf8c5547-b717-49a7-bd68-a0b2d72276ef",
        "colab": {
          "base_uri": "https://localhost:8080/"
        }
      },
      "outputs": [
        {
          "output_type": "execute_result",
          "data": {
            "text/plain": [
              "[(6,\n",
              "  1,\n",
              "  [Matrix([\n",
              "   [ 5],\n",
              "   [-2],\n",
              "   [ 1]])]),\n",
              " (1,\n",
              "  1,\n",
              "  [Matrix([\n",
              "   [  0],\n",
              "   [1/2],\n",
              "   [  1]])]),\n",
              " (0,\n",
              "  1,\n",
              "  [Matrix([\n",
              "   [-1],\n",
              "   [-2],\n",
              "   [ 1]])])]"
            ]
          },
          "metadata": {},
          "execution_count": 10
        }
      ],
      "source": [
        "e_vects = e_vects[::-1]\n",
        "e_vects"
      ]
    },
    {
      "cell_type": "markdown",
      "source": [
        "Normalize the first eigenvector"
      ],
      "metadata": {
        "id": "jP6DDLPXBhLN"
      },
      "id": "jP6DDLPXBhLN"
    },
    {
      "cell_type": "code",
      "execution_count": 11,
      "id": "1a5ee84b-f4ee-4d71-b065-1ba51cadaa02",
      "metadata": {
        "id": "1a5ee84b-f4ee-4d71-b065-1ba51cadaa02",
        "outputId": "3dcb76f0-a410-49d5-f994-d5e4ad40cd59",
        "colab": {
          "base_uri": "https://localhost:8080/",
          "height": 88
        }
      },
      "outputs": [
        {
          "output_type": "execute_result",
          "data": {
            "text/plain": [
              "Matrix([\n",
              "[  sqrt(30)/6],\n",
              "[-sqrt(30)/15],\n",
              "[ sqrt(30)/30]])"
            ],
            "text/latex": "$\\displaystyle \\left[\\begin{matrix}\\frac{\\sqrt{30}}{6}\\\\- \\frac{\\sqrt{30}}{15}\\\\\\frac{\\sqrt{30}}{30}\\end{matrix}\\right]$"
          },
          "metadata": {},
          "execution_count": 11
        }
      ],
      "source": [
        "e_vec1 = e_vects[0]\n",
        "v1= e_vec1[2]\n",
        "v1 = v1[0].normalized()\n",
        "v1"
      ]
    },
    {
      "cell_type": "markdown",
      "source": [
        "Check: is it really an eigenvector?"
      ],
      "metadata": {
        "id": "e1suuOpyBkxI"
      },
      "id": "e1suuOpyBkxI"
    },
    {
      "cell_type": "code",
      "execution_count": null,
      "id": "d0acfaed-066b-4ce7-b36e-99b627541df7",
      "metadata": {
        "id": "d0acfaed-066b-4ce7-b36e-99b627541df7",
        "outputId": "6de9cb13-9a71-4652-831e-614942dedb6e"
      },
      "outputs": [
        {
          "data": {
            "text/plain": [
              "True"
            ]
          },
          "execution_count": 61,
          "metadata": {},
          "output_type": "execute_result"
        }
      ],
      "source": [
        "ATA*v1 == 6* v1"
      ]
    },
    {
      "cell_type": "markdown",
      "source": [
        "Normalize the second eigenvector"
      ],
      "metadata": {
        "id": "IB2uJXlQBqwa"
      },
      "id": "IB2uJXlQBqwa"
    },
    {
      "cell_type": "code",
      "execution_count": 17,
      "id": "5870fb22-52c9-4358-b5e8-340989652165",
      "metadata": {
        "id": "5870fb22-52c9-4358-b5e8-340989652165",
        "outputId": "a4eaf1a9-5265-4740-ecca-7e97f6c515d6",
        "colab": {
          "base_uri": "https://localhost:8080/",
          "height": 88
        }
      },
      "outputs": [
        {
          "output_type": "execute_result",
          "data": {
            "text/plain": [
              "Matrix([\n",
              "[          0],\n",
              "[  sqrt(5)/5],\n",
              "[2*sqrt(5)/5]])"
            ],
            "text/latex": "$\\displaystyle \\left[\\begin{matrix}0\\\\\\frac{\\sqrt{5}}{5}\\\\\\frac{2 \\sqrt{5}}{5}\\end{matrix}\\right]$"
          },
          "metadata": {},
          "execution_count": 17
        }
      ],
      "source": [
        "e_vec2 = e_vects[1]\n",
        "v2=e_vec2[2][0].normalized()\n",
        "v2"
      ]
    },
    {
      "cell_type": "markdown",
      "source": [
        "Normalize the third eigenvector"
      ],
      "metadata": {
        "id": "LzCyMiFABtpy"
      },
      "id": "LzCyMiFABtpy"
    },
    {
      "cell_type": "code",
      "execution_count": 14,
      "id": "83934c41-19b3-4b2d-a6cd-4e13048fe70a",
      "metadata": {
        "id": "83934c41-19b3-4b2d-a6cd-4e13048fe70a",
        "outputId": "7de104c2-fb4f-40ad-84a0-bfbaf28f99f1",
        "colab": {
          "base_uri": "https://localhost:8080/",
          "height": 88
        }
      },
      "outputs": [
        {
          "output_type": "execute_result",
          "data": {
            "text/plain": [
              "Matrix([\n",
              "[-sqrt(6)/6],\n",
              "[-sqrt(6)/3],\n",
              "[ sqrt(6)/6]])"
            ],
            "text/latex": "$\\displaystyle \\left[\\begin{matrix}- \\frac{\\sqrt{6}}{6}\\\\- \\frac{\\sqrt{6}}{3}\\\\\\frac{\\sqrt{6}}{6}\\end{matrix}\\right]$"
          },
          "metadata": {},
          "execution_count": 14
        }
      ],
      "source": [
        "v3 = e_vects[2][2][0]\n",
        "v3=v3.normalized()\n",
        "v3"
      ]
    },
    {
      "cell_type": "markdown",
      "source": [
        "Build the $V$ matrix"
      ],
      "metadata": {
        "id": "Wp7lnrcvBw6W"
      },
      "id": "Wp7lnrcvBw6W"
    },
    {
      "cell_type": "code",
      "execution_count": 18,
      "id": "72e97d66-0ba3-497f-afe9-4cc2a2130737",
      "metadata": {
        "id": "72e97d66-0ba3-497f-afe9-4cc2a2130737",
        "outputId": "87c6e990-44ad-42ed-c7d2-2436b5f39326",
        "colab": {
          "base_uri": "https://localhost:8080/",
          "height": 88
        }
      },
      "outputs": [
        {
          "output_type": "execute_result",
          "data": {
            "text/plain": [
              "Matrix([\n",
              "[  sqrt(30)/6,           0, -sqrt(6)/6],\n",
              "[-sqrt(30)/15,   sqrt(5)/5, -sqrt(6)/3],\n",
              "[ sqrt(30)/30, 2*sqrt(5)/5,  sqrt(6)/6]])"
            ],
            "text/latex": "$\\displaystyle \\left[\\begin{matrix}\\frac{\\sqrt{30}}{6} & 0 & - \\frac{\\sqrt{6}}{6}\\\\- \\frac{\\sqrt{30}}{15} & \\frac{\\sqrt{5}}{5} & - \\frac{\\sqrt{6}}{3}\\\\\\frac{\\sqrt{30}}{30} & \\frac{2 \\sqrt{5}}{5} & \\frac{\\sqrt{6}}{6}\\end{matrix}\\right]$"
          },
          "metadata": {},
          "execution_count": 18
        }
      ],
      "source": [
        "V = Matrix([[v1.T],[v2.T],[v3.T]]).T\n",
        "V"
      ]
    },
    {
      "cell_type": "markdown",
      "source": [
        "Check that $V$ is orthogonal"
      ],
      "metadata": {
        "id": "6Q4EpkJ_B5E8"
      },
      "id": "6Q4EpkJ_B5E8"
    },
    {
      "cell_type": "code",
      "execution_count": 19,
      "id": "7a27d302-862e-430d-bfe9-e48c05bea6c1",
      "metadata": {
        "id": "7a27d302-862e-430d-bfe9-e48c05bea6c1",
        "outputId": "9f66dfff-ea47-4c0d-f9da-17065b3471b8",
        "colab": {
          "base_uri": "https://localhost:8080/",
          "height": 78
        }
      },
      "outputs": [
        {
          "output_type": "execute_result",
          "data": {
            "text/plain": [
              "Matrix([\n",
              "[1, 0, 0],\n",
              "[0, 1, 0],\n",
              "[0, 0, 1]])"
            ],
            "text/latex": "$\\displaystyle \\left[\\begin{matrix}1 & 0 & 0\\\\0 & 1 & 0\\\\0 & 0 & 1\\end{matrix}\\right]$"
          },
          "metadata": {},
          "execution_count": 19
        }
      ],
      "source": [
        "V*V.T"
      ]
    },
    {
      "cell_type": "code",
      "execution_count": null,
      "id": "2cafe7cf-5180-41a5-aae0-578abb51b3a5",
      "metadata": {
        "id": "2cafe7cf-5180-41a5-aae0-578abb51b3a5",
        "outputId": "237dc0f6-4083-4c02-f25e-e8e583ddbcd7"
      },
      "outputs": [
        {
          "data": {
            "text/latex": [
              "$\\displaystyle \\left[\\begin{matrix}\\sqrt{30} & 0 & 0\\\\- \\frac{2 \\sqrt{30}}{5} & \\frac{\\sqrt{5}}{5} & 0\\\\\\frac{\\sqrt{30}}{5} & \\frac{2 \\sqrt{5}}{5} & 0\\end{matrix}\\right]$"
            ],
            "text/plain": [
              "Matrix([\n",
              "[     sqrt(30),           0, 0],\n",
              "[-2*sqrt(30)/5,   sqrt(5)/5, 0],\n",
              "[   sqrt(30)/5, 2*sqrt(5)/5, 0]])"
            ]
          },
          "execution_count": 23,
          "metadata": {},
          "output_type": "execute_result"
        }
      ],
      "source": [
        "ATA*V"
      ]
    },
    {
      "cell_type": "markdown",
      "source": [
        "Set the diagonal matrix $\\Sigma^2$, for sake of notation, we'll label it as $D$.\n",
        "\n",
        "Here the order is important, as it has to match the order of eigenvectors in $V$."
      ],
      "metadata": {
        "id": "eAmaQGiCFOGG"
      },
      "id": "eAmaQGiCFOGG"
    },
    {
      "cell_type": "code",
      "execution_count": 20,
      "id": "253d963a-de24-4f1f-9f51-cc2b23747256",
      "metadata": {
        "id": "253d963a-de24-4f1f-9f51-cc2b23747256",
        "outputId": "31e60ed0-49e3-48ea-9f07-ce566294e9be",
        "colab": {
          "base_uri": "https://localhost:8080/",
          "height": 78
        }
      },
      "outputs": [
        {
          "output_type": "execute_result",
          "data": {
            "text/plain": [
              "Matrix([\n",
              "[6, 0, 0],\n",
              "[0, 1, 0],\n",
              "[0, 0, 0]])"
            ],
            "text/latex": "$\\displaystyle \\left[\\begin{matrix}6 & 0 & 0\\\\0 & 1 & 0\\\\0 & 0 & 0\\end{matrix}\\right]$"
          },
          "metadata": {},
          "execution_count": 20
        }
      ],
      "source": [
        "D = Matrix([[6,0,0],[0,1,0],[0,0,0]])\n",
        "D"
      ]
    },
    {
      "cell_type": "markdown",
      "source": [
        "Can you explain why $V\\cdot D \\cdot V^T = A^T\\cdot A$?\n",
        "\n",
        "Here is the check in python."
      ],
      "metadata": {
        "id": "eyYKGZXnGA3m"
      },
      "id": "eyYKGZXnGA3m"
    },
    {
      "cell_type": "code",
      "execution_count": 22,
      "id": "72a88f94-168e-475b-a521-371312edba6f",
      "metadata": {
        "id": "72a88f94-168e-475b-a521-371312edba6f",
        "outputId": "30688f68-cdcf-45b6-a4e8-1af1cfa7e603",
        "colab": {
          "base_uri": "https://localhost:8080/",
          "height": 78
        }
      },
      "outputs": [
        {
          "output_type": "execute_result",
          "data": {
            "text/plain": [
              "Matrix([\n",
              "[ 5, -2, 1],\n",
              "[-2,  1, 0],\n",
              "[ 1,  0, 1]])"
            ],
            "text/latex": "$\\displaystyle \\left[\\begin{matrix}5 & -2 & 1\\\\-2 & 1 & 0\\\\1 & 0 & 1\\end{matrix}\\right]$"
          },
          "metadata": {},
          "execution_count": 22
        }
      ],
      "source": [
        "V*D*V.T"
      ]
    },
    {
      "cell_type": "markdown",
      "source": [
        "Define the matrix $\\Sigma$, which we label $S$ for sake of notation."
      ],
      "metadata": {
        "id": "hCYIvol_GcYi"
      },
      "id": "hCYIvol_GcYi"
    },
    {
      "cell_type": "code",
      "execution_count": 24,
      "id": "29aab4df-3bd2-4a87-8938-f77afc2aacae",
      "metadata": {
        "id": "29aab4df-3bd2-4a87-8938-f77afc2aacae",
        "outputId": "07c60ce6-986f-438a-cd11-5a5a04bdaa9e",
        "colab": {
          "base_uri": "https://localhost:8080/",
          "height": 59
        }
      },
      "outputs": [
        {
          "output_type": "execute_result",
          "data": {
            "text/plain": [
              "Matrix([\n",
              "[sqrt(6), 0, 0],\n",
              "[      0, 1, 0]])"
            ],
            "text/latex": "$\\displaystyle \\left[\\begin{matrix}\\sqrt{6} & 0 & 0\\\\0 & 1 & 0\\end{matrix}\\right]$"
          },
          "metadata": {},
          "execution_count": 24
        }
      ],
      "source": [
        "S = Matrix([[sqrt(6),0,0],[0,1,0]])\n",
        "S"
      ]
    },
    {
      "cell_type": "markdown",
      "source": [
        "Find the **left-singular vectors** of $A$ (also eigenvectors of $AA^T$)."
      ],
      "metadata": {
        "id": "w2bezVYWGmgr"
      },
      "id": "w2bezVYWGmgr"
    },
    {
      "cell_type": "code",
      "execution_count": 23,
      "id": "7ac95072-5947-4c2b-9317-45a1536179a5",
      "metadata": {
        "id": "7ac95072-5947-4c2b-9317-45a1536179a5",
        "outputId": "4a51b987-b761-4251-bdd6-e191bfdca04c",
        "colab": {
          "base_uri": "https://localhost:8080/",
          "height": 68
        }
      },
      "outputs": [
        {
          "output_type": "execute_result",
          "data": {
            "text/plain": [
              "Matrix([\n",
              "[   sqrt(5)/5],\n",
              "[-2*sqrt(5)/5]])"
            ],
            "text/latex": "$\\displaystyle \\left[\\begin{matrix}\\frac{\\sqrt{5}}{5}\\\\- \\frac{2 \\sqrt{5}}{5}\\end{matrix}\\right]$"
          },
          "metadata": {},
          "execution_count": 23
        }
      ],
      "source": [
        "u_1 = A*v1/sqrt(6)\n",
        "u_1"
      ]
    },
    {
      "cell_type": "code",
      "execution_count": 25,
      "id": "71c259d3-1bf6-4edf-ba27-ace14144b9a2",
      "metadata": {
        "id": "71c259d3-1bf6-4edf-ba27-ace14144b9a2",
        "outputId": "e31e7c23-cb47-46d2-ef01-2753f91eda61",
        "colab": {
          "base_uri": "https://localhost:8080/",
          "height": 68
        }
      },
      "outputs": [
        {
          "output_type": "execute_result",
          "data": {
            "text/plain": [
              "Matrix([\n",
              "[2*sqrt(5)/5],\n",
              "[  sqrt(5)/5]])"
            ],
            "text/latex": "$\\displaystyle \\left[\\begin{matrix}\\frac{2 \\sqrt{5}}{5}\\\\\\frac{\\sqrt{5}}{5}\\end{matrix}\\right]$"
          },
          "metadata": {},
          "execution_count": 25
        }
      ],
      "source": [
        "u_2 = A*v2/sqrt(1)\n",
        "u_2"
      ]
    },
    {
      "cell_type": "markdown",
      "source": [
        "Build the $U$ matrix."
      ],
      "metadata": {
        "id": "Wz_YgOEwJIbF"
      },
      "id": "Wz_YgOEwJIbF"
    },
    {
      "cell_type": "code",
      "execution_count": 26,
      "id": "71dc9b4a-8fd9-4e3a-900a-085f591fae13",
      "metadata": {
        "id": "71dc9b4a-8fd9-4e3a-900a-085f591fae13",
        "outputId": "23256a22-3c78-4d85-95f1-221e05ae8582",
        "colab": {
          "base_uri": "https://localhost:8080/",
          "height": 68
        }
      },
      "outputs": [
        {
          "output_type": "execute_result",
          "data": {
            "text/plain": [
              "Matrix([\n",
              "[   sqrt(5)/5, 2*sqrt(5)/5],\n",
              "[-2*sqrt(5)/5,   sqrt(5)/5]])"
            ],
            "text/latex": "$\\displaystyle \\left[\\begin{matrix}\\frac{\\sqrt{5}}{5} & \\frac{2 \\sqrt{5}}{5}\\\\- \\frac{2 \\sqrt{5}}{5} & \\frac{\\sqrt{5}}{5}\\end{matrix}\\right]$"
          },
          "metadata": {},
          "execution_count": 26
        }
      ],
      "source": [
        "U = Matrix([u_1.T,u_2.T]).T\n",
        "U"
      ]
    },
    {
      "cell_type": "markdown",
      "source": [
        "Put all matrices together and check that the **Singular Value Decomposition** is correct"
      ],
      "metadata": {
        "id": "oUW6tFpoJNOE"
      },
      "id": "oUW6tFpoJNOE"
    },
    {
      "cell_type": "code",
      "execution_count": 29,
      "id": "73e2c855-7343-41b6-be9e-f260687d6a35",
      "metadata": {
        "id": "73e2c855-7343-41b6-be9e-f260687d6a35",
        "outputId": "3fe58585-3a57-4b6a-be73-ba108e834dc1",
        "colab": {
          "base_uri": "https://localhost:8080/",
          "height": 58
        }
      },
      "outputs": [
        {
          "output_type": "execute_result",
          "data": {
            "text/plain": [
              "Matrix([\n",
              "[ 1, 0, 1],\n",
              "[-2, 1, 0]])"
            ],
            "text/latex": "$\\displaystyle \\left[\\begin{matrix}1 & 0 & 1\\\\-2 & 1 & 0\\end{matrix}\\right]$"
          },
          "metadata": {},
          "execution_count": 29
        }
      ],
      "source": [
        "U*S*V.T\n"
      ]
    },
    {
      "cell_type": "code",
      "source": [
        "A == U*S*V.T"
      ],
      "metadata": {
        "id": "QTiK2nxmJgYf",
        "outputId": "86f56727-bff2-4101-91fc-e28635213094",
        "colab": {
          "base_uri": "https://localhost:8080/"
        }
      },
      "id": "QTiK2nxmJgYf",
      "execution_count": 30,
      "outputs": [
        {
          "output_type": "execute_result",
          "data": {
            "text/plain": [
              "True"
            ]
          },
          "metadata": {},
          "execution_count": 30
        }
      ]
    },
    {
      "cell_type": "markdown",
      "source": [
        "We could have found the **left-singular vectors** of $A$ as eigenvectors of $AA^T$."
      ],
      "metadata": {
        "id": "wI1j_aAeJnyY"
      },
      "id": "wI1j_aAeJnyY"
    },
    {
      "cell_type": "code",
      "execution_count": 33,
      "id": "bc9f57ba-197c-4991-b773-ebaf940d9300",
      "metadata": {
        "id": "bc9f57ba-197c-4991-b773-ebaf940d9300",
        "outputId": "ce18276d-847e-4a60-e0c3-a6c53d9b48fe",
        "colab": {
          "base_uri": "https://localhost:8080/",
          "height": 58
        }
      },
      "outputs": [
        {
          "output_type": "execute_result",
          "data": {
            "text/plain": [
              "Matrix([\n",
              "[ 2, -2],\n",
              "[-2,  5]])"
            ],
            "text/latex": "$\\displaystyle \\left[\\begin{matrix}2 & -2\\\\-2 & 5\\end{matrix}\\right]$"
          },
          "metadata": {},
          "execution_count": 33
        }
      ],
      "source": [
        "AAT = A*A.T\n",
        "AAT"
      ]
    },
    {
      "cell_type": "markdown",
      "source": [
        "Find eigenvectors of $AA^T$.\n",
        "\n",
        "Sort them by highest eigevalue."
      ],
      "metadata": {
        "id": "euro09iDJ12i"
      },
      "id": "euro09iDJ12i"
    },
    {
      "cell_type": "code",
      "execution_count": 34,
      "id": "ed455b7e-ef25-4cf9-9b2d-d03b2b4d5b14",
      "metadata": {
        "id": "ed455b7e-ef25-4cf9-9b2d-d03b2b4d5b14",
        "outputId": "6539c371-b9a6-42f2-c462-b4f94b180613",
        "colab": {
          "base_uri": "https://localhost:8080/"
        }
      },
      "outputs": [
        {
          "output_type": "execute_result",
          "data": {
            "text/plain": [
              "[(6,\n",
              "  1,\n",
              "  [Matrix([\n",
              "   [-1/2],\n",
              "   [   1]])]),\n",
              " (1,\n",
              "  1,\n",
              "  [Matrix([\n",
              "   [2],\n",
              "   [1]])])]"
            ]
          },
          "metadata": {},
          "execution_count": 34
        }
      ],
      "source": [
        "e_vectsAAT = AAT.eigenvects()\n",
        "e_vectsAAT = e_vectsAAT[::-1] # change the order\n",
        "e_vectsAAT"
      ]
    },
    {
      "cell_type": "markdown",
      "source": [
        "Normalize the eigenvectors\n",
        "\n",
        "We use the same notation $\\vec{u}_1$ and $\\vec{u}_2$"
      ],
      "metadata": {
        "id": "2zGTSQFCKGcJ"
      },
      "id": "2zGTSQFCKGcJ"
    },
    {
      "cell_type": "code",
      "execution_count": 35,
      "id": "2a4b3df5-c65a-46b3-8f2e-ae921100f409",
      "metadata": {
        "id": "2a4b3df5-c65a-46b3-8f2e-ae921100f409",
        "outputId": "606ff5f2-95c7-4bd6-d478-722462dd2d1c",
        "colab": {
          "base_uri": "https://localhost:8080/",
          "height": 68
        }
      },
      "outputs": [
        {
          "output_type": "execute_result",
          "data": {
            "text/plain": [
              "Matrix([\n",
              "[   sqrt(5)/5],\n",
              "[-2*sqrt(5)/5]])"
            ],
            "text/latex": "$\\displaystyle \\left[\\begin{matrix}\\frac{\\sqrt{5}}{5}\\\\- \\frac{2 \\sqrt{5}}{5}\\end{matrix}\\right]$"
          },
          "metadata": {},
          "execution_count": 35
        }
      ],
      "source": [
        "u_1 = e_vectsAAT[0][2][0]\n",
        "u_1 = -u_1.normalized()\n",
        "u_1"
      ]
    },
    {
      "cell_type": "code",
      "execution_count": 36,
      "id": "9760d86a-ec1d-4bb1-9580-bd084f4cf6c7",
      "metadata": {
        "id": "9760d86a-ec1d-4bb1-9580-bd084f4cf6c7",
        "outputId": "477045db-c709-4c6d-c7ae-8051d52fb3ed",
        "colab": {
          "base_uri": "https://localhost:8080/",
          "height": 68
        }
      },
      "outputs": [
        {
          "output_type": "execute_result",
          "data": {
            "text/plain": [
              "Matrix([\n",
              "[2*sqrt(5)/5],\n",
              "[  sqrt(5)/5]])"
            ],
            "text/latex": "$\\displaystyle \\left[\\begin{matrix}\\frac{2 \\sqrt{5}}{5}\\\\\\frac{\\sqrt{5}}{5}\\end{matrix}\\right]$"
          },
          "metadata": {},
          "execution_count": 36
        }
      ],
      "source": [
        "u_2 = e_vectsAAT[1][2][0]\n",
        "u_2 = u_2.normalized()\n",
        "u_2"
      ]
    },
    {
      "cell_type": "markdown",
      "source": [
        "Define the matrix $U$, which we label $U2$, to keep it separate from the proviously defined $U$."
      ],
      "metadata": {
        "id": "GavlFB3DLSXs"
      },
      "id": "GavlFB3DLSXs"
    },
    {
      "cell_type": "code",
      "execution_count": 37,
      "id": "17fb5928-7609-4b67-9e9d-1facec22bc8d",
      "metadata": {
        "id": "17fb5928-7609-4b67-9e9d-1facec22bc8d",
        "outputId": "410dff1d-6d57-4f2d-d051-e0389855c0ba",
        "colab": {
          "base_uri": "https://localhost:8080/",
          "height": 68
        }
      },
      "outputs": [
        {
          "output_type": "execute_result",
          "data": {
            "text/plain": [
              "Matrix([\n",
              "[   sqrt(5)/5, 2*sqrt(5)/5],\n",
              "[-2*sqrt(5)/5,   sqrt(5)/5]])"
            ],
            "text/latex": "$\\displaystyle \\left[\\begin{matrix}\\frac{\\sqrt{5}}{5} & \\frac{2 \\sqrt{5}}{5}\\\\- \\frac{2 \\sqrt{5}}{5} & \\frac{\\sqrt{5}}{5}\\end{matrix}\\right]$"
          },
          "metadata": {},
          "execution_count": 37
        }
      ],
      "source": [
        "U2 = Matrix([u_1.T,u_2.T]).T\n",
        "U2"
      ]
    },
    {
      "cell_type": "markdown",
      "source": [
        "We obtained (as expected) the same result.\n",
        "\n",
        "Below is just a check"
      ],
      "metadata": {
        "id": "1cDqGbg3LLZ6"
      },
      "id": "1cDqGbg3LLZ6"
    },
    {
      "cell_type": "code",
      "execution_count": 38,
      "id": "f218679d-d507-48e1-b56c-d950011f3e91",
      "metadata": {
        "id": "f218679d-d507-48e1-b56c-d950011f3e91",
        "outputId": "0fc2217d-71f9-4822-cdbf-06a67900a593",
        "colab": {
          "base_uri": "https://localhost:8080/",
          "height": 58
        }
      },
      "outputs": [
        {
          "output_type": "execute_result",
          "data": {
            "text/plain": [
              "Matrix([\n",
              "[ 1, 0, 1],\n",
              "[-2, 1, 0]])"
            ],
            "text/latex": "$\\displaystyle \\left[\\begin{matrix}1 & 0 & 1\\\\-2 & 1 & 0\\end{matrix}\\right]$"
          },
          "metadata": {},
          "execution_count": 38
        }
      ],
      "source": [
        "U2*S*V.T"
      ]
    },
    {
      "cell_type": "markdown",
      "source": [
        "## Now, let's look at the sympy method `singular_value_decomposition()`:\n",
        "\n",
        "We label the matrices generated by `singular_value_decomposition()` with an index $n$, just for notation purposes (and to keep them separate from the previous $U, S, V$)."
      ],
      "metadata": {
        "id": "td-rfGTmNO3w"
      },
      "id": "td-rfGTmNO3w"
    },
    {
      "cell_type": "code",
      "execution_count": 39,
      "id": "b36ccebd-9ab4-4f6d-8ec4-d787d11d676e",
      "metadata": {
        "id": "b36ccebd-9ab4-4f6d-8ec4-d787d11d676e"
      },
      "outputs": [],
      "source": [
        "Un, Sn, Vn = A.singular_value_decomposition()"
      ]
    },
    {
      "cell_type": "markdown",
      "source": [
        "The matrices are not the same as ours.\n",
        "\n",
        "Let's check:"
      ],
      "metadata": {
        "id": "Uiy5WqRkN6jC"
      },
      "id": "Uiy5WqRkN6jC"
    },
    {
      "cell_type": "code",
      "execution_count": 40,
      "id": "ff18d3df-cdae-4d0a-9993-037ed1587c7f",
      "metadata": {
        "id": "ff18d3df-cdae-4d0a-9993-037ed1587c7f",
        "outputId": "4bd0e744-55eb-48e9-d43c-888f8c171ca6",
        "colab": {
          "base_uri": "https://localhost:8080/",
          "height": 68
        }
      },
      "outputs": [
        {
          "output_type": "execute_result",
          "data": {
            "text/plain": [
              "Matrix([\n",
              "[2*sqrt(5)/5,  -sqrt(5)/5],\n",
              "[  sqrt(5)/5, 2*sqrt(5)/5]])"
            ],
            "text/latex": "$\\displaystyle \\left[\\begin{matrix}\\frac{2 \\sqrt{5}}{5} & - \\frac{\\sqrt{5}}{5}\\\\\\frac{\\sqrt{5}}{5} & \\frac{2 \\sqrt{5}}{5}\\end{matrix}\\right]$"
          },
          "metadata": {},
          "execution_count": 40
        }
      ],
      "source": [
        "Un"
      ]
    },
    {
      "cell_type": "code",
      "execution_count": 41,
      "id": "5674e105-7f7d-4296-8e25-6b4580ba426a",
      "metadata": {
        "id": "5674e105-7f7d-4296-8e25-6b4580ba426a",
        "outputId": "9797320b-f248-4c9a-bb0a-d05404cb21dc",
        "colab": {
          "base_uri": "https://localhost:8080/",
          "height": 68
        }
      },
      "outputs": [
        {
          "output_type": "execute_result",
          "data": {
            "text/plain": [
              "Matrix([\n",
              "[   sqrt(5)/5, 2*sqrt(5)/5],\n",
              "[-2*sqrt(5)/5,   sqrt(5)/5]])"
            ],
            "text/latex": "$\\displaystyle \\left[\\begin{matrix}\\frac{\\sqrt{5}}{5} & \\frac{2 \\sqrt{5}}{5}\\\\- \\frac{2 \\sqrt{5}}{5} & \\frac{\\sqrt{5}}{5}\\end{matrix}\\right]$"
          },
          "metadata": {},
          "execution_count": 41
        }
      ],
      "source": [
        "U"
      ]
    },
    {
      "cell_type": "code",
      "execution_count": 43,
      "id": "a35fdda6-e7ff-4a8c-b733-ccb910b6e6f9",
      "metadata": {
        "id": "a35fdda6-e7ff-4a8c-b733-ccb910b6e6f9",
        "outputId": "11555a0c-dc71-491a-f4e9-ff7349837dee",
        "colab": {
          "base_uri": "https://localhost:8080/",
          "height": 59
        }
      },
      "outputs": [
        {
          "output_type": "execute_result",
          "data": {
            "text/plain": [
              "Matrix([\n",
              "[sqrt(6), 0, 0],\n",
              "[      0, 1, 0]])"
            ],
            "text/latex": "$\\displaystyle \\left[\\begin{matrix}\\sqrt{6} & 0 & 0\\\\0 & 1 & 0\\end{matrix}\\right]$"
          },
          "metadata": {},
          "execution_count": 43
        }
      ],
      "source": [
        "S"
      ]
    },
    {
      "cell_type": "code",
      "execution_count": 44,
      "id": "64348f1f-0232-4f73-9517-1f53a1bbdb36",
      "metadata": {
        "id": "64348f1f-0232-4f73-9517-1f53a1bbdb36",
        "outputId": "8509bb7a-7ef8-4c58-e5b7-6e2d0a53c9bb",
        "colab": {
          "base_uri": "https://localhost:8080/",
          "height": 59
        }
      },
      "outputs": [
        {
          "output_type": "execute_result",
          "data": {
            "text/plain": [
              "Matrix([\n",
              "[1,       0],\n",
              "[0, sqrt(6)]])"
            ],
            "text/latex": "$\\displaystyle \\left[\\begin{matrix}1 & 0\\\\0 & \\sqrt{6}\\end{matrix}\\right]$"
          },
          "metadata": {},
          "execution_count": 44
        }
      ],
      "source": [
        "Sn"
      ]
    },
    {
      "cell_type": "code",
      "execution_count": 46,
      "id": "563d0052-0b3f-4475-bab3-5f3fb0b393fa",
      "metadata": {
        "id": "563d0052-0b3f-4475-bab3-5f3fb0b393fa",
        "outputId": "ebe15847-b832-435d-a38e-95f2f0903fe5",
        "colab": {
          "base_uri": "https://localhost:8080/",
          "height": 88
        }
      },
      "outputs": [
        {
          "output_type": "execute_result",
          "data": {
            "text/plain": [
              "Matrix([\n",
              "[  sqrt(30)/6,           0, -sqrt(6)/6],\n",
              "[-sqrt(30)/15,   sqrt(5)/5, -sqrt(6)/3],\n",
              "[ sqrt(30)/30, 2*sqrt(5)/5,  sqrt(6)/6]])"
            ],
            "text/latex": "$\\displaystyle \\left[\\begin{matrix}\\frac{\\sqrt{30}}{6} & 0 & - \\frac{\\sqrt{6}}{6}\\\\- \\frac{\\sqrt{30}}{15} & \\frac{\\sqrt{5}}{5} & - \\frac{\\sqrt{6}}{3}\\\\\\frac{\\sqrt{30}}{30} & \\frac{2 \\sqrt{5}}{5} & \\frac{\\sqrt{6}}{6}\\end{matrix}\\right]$"
          },
          "metadata": {},
          "execution_count": 46
        }
      ],
      "source": [
        "V"
      ]
    },
    {
      "cell_type": "code",
      "execution_count": 47,
      "id": "df29c110-4c7a-4ff8-a2d8-cf2048f46c98",
      "metadata": {
        "id": "df29c110-4c7a-4ff8-a2d8-cf2048f46c98",
        "outputId": "6e90a00a-45c3-4c25-9bbe-126e7eb42a7c",
        "colab": {
          "base_uri": "https://localhost:8080/",
          "height": 88
        }
      },
      "outputs": [
        {
          "output_type": "execute_result",
          "data": {
            "text/plain": [
              "Matrix([\n",
              "[          0,  -sqrt(30)/6],\n",
              "[  sqrt(5)/5,  sqrt(30)/15],\n",
              "[2*sqrt(5)/5, -sqrt(30)/30]])"
            ],
            "text/latex": "$\\displaystyle \\left[\\begin{matrix}0 & - \\frac{\\sqrt{30}}{6}\\\\\\frac{\\sqrt{5}}{5} & \\frac{\\sqrt{30}}{15}\\\\\\frac{2 \\sqrt{5}}{5} & - \\frac{\\sqrt{30}}{30}\\end{matrix}\\right]$"
          },
          "metadata": {},
          "execution_count": 47
        }
      ],
      "source": [
        "Vn"
      ]
    },
    {
      "cell_type": "markdown",
      "source": [
        "Nevertheless, the decomposition works, as we can get back $A$ as the product $U_n\\cdot S_n\\cdot V^T_n$."
      ],
      "metadata": {
        "id": "OV04rRYROLHe"
      },
      "id": "OV04rRYROLHe"
    },
    {
      "cell_type": "code",
      "execution_count": 48,
      "id": "aa482056-dc60-4c82-ae83-b5387c03ca08",
      "metadata": {
        "id": "aa482056-dc60-4c82-ae83-b5387c03ca08",
        "outputId": "0a1cf374-0836-4b73-a5a2-728df853c964",
        "colab": {
          "base_uri": "https://localhost:8080/",
          "height": 58
        }
      },
      "outputs": [
        {
          "output_type": "execute_result",
          "data": {
            "text/plain": [
              "Matrix([\n",
              "[ 1, 0, 1],\n",
              "[-2, 1, 0]])"
            ],
            "text/latex": "$\\displaystyle \\left[\\begin{matrix}1 & 0 & 1\\\\-2 & 1 & 0\\end{matrix}\\right]$"
          },
          "metadata": {},
          "execution_count": 48
        }
      ],
      "source": [
        "Un*Sn*Vn.T"
      ]
    },
    {
      "cell_type": "markdown",
      "source": [
        "What is going on?"
      ],
      "metadata": {
        "id": "qjBgfz9WO4_V"
      },
      "id": "qjBgfz9WO4_V"
    }
  ],
  "metadata": {
    "kernelspec": {
      "display_name": "Python 3 (ipykernel)",
      "language": "python",
      "name": "python3"
    },
    "language_info": {
      "codemirror_mode": {
        "name": "ipython",
        "version": 3
      },
      "file_extension": ".py",
      "mimetype": "text/x-python",
      "name": "python",
      "nbconvert_exporter": "python",
      "pygments_lexer": "ipython3",
      "version": "3.10.11"
    },
    "colab": {
      "provenance": [],
      "include_colab_link": true
    }
  },
  "nbformat": 4,
  "nbformat_minor": 5
}