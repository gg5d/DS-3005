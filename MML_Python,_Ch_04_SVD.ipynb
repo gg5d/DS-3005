{
  "cells": [
    {
      "cell_type": "markdown",
      "metadata": {
        "id": "view-in-github",
        "colab_type": "text"
      },
      "source": [
        "<a href=\"https://colab.research.google.com/github/gg5d/DS-3005/blob/main/MML_Python%2C_Ch_04_SVD.ipynb\" target=\"_parent\"><img src=\"https://colab.research.google.com/assets/colab-badge.svg\" alt=\"Open In Colab\"/></a>"
      ]
    },
    {
      "cell_type": "markdown",
      "id": "6e80a93f-40c7-4b86-8c23-73a7de05175f",
      "metadata": {
        "id": "6e80a93f-40c7-4b86-8c23-73a7de05175f"
      },
      "source": [
        "# MML Python, Ch.04\n",
        "\n",
        "## Singular Value Decomposition"
      ]
    },
    {
      "cell_type": "code",
      "execution_count": null,
      "id": "60585c39-dc2c-4e03-b08b-0bbd4d232d51",
      "metadata": {
        "tags": [],
        "id": "60585c39-dc2c-4e03-b08b-0bbd4d232d51"
      },
      "outputs": [],
      "source": [
        "import numpy as np\n",
        "import numpy.linalg as npl\n",
        "import matplotlib.pyplot as plt\n",
        "import itertools as it\n",
        "from matplotlib.pyplot import figure\n",
        "from sympy import *\n",
        "from sympy.abc import x\n",
        "import networkx as nx\n",
        "from IPython.core.interactiveshell import InteractiveShell\n",
        "from mpl_toolkits.mplot3d import Axes3D\n",
        "from matplotlib import cm\n",
        "import random\n",
        "from scipy.io import loadmat\n",
        "import scipy.linalg as spl\n",
        "import PIL\n",
        "from PIL import Image"
      ]
    },
    {
      "cell_type": "markdown",
      "id": "f5ddca5b-2dba-45fc-a9a7-dd5fdbc7e5b1",
      "metadata": {
        "id": "f5ddca5b-2dba-45fc-a9a7-dd5fdbc7e5b1"
      },
      "source": [
        "Reference\n",
        "https://docs.sympy.org/latest/tutorials/intro-tutorial/matrices.html\n",
        "\n",
        "For the `singular_value_decomposition()` method:\n",
        "\n",
        "https://docs.sympy.org/latest/modules/matrices/matrices.html"
      ]
    },
    {
      "cell_type": "markdown",
      "source": [
        "#Movie Ratings"
      ],
      "metadata": {
        "id": "9zy0UbCMA5mb"
      },
      "id": "9zy0UbCMA5mb"
    },
    {
      "cell_type": "code",
      "execution_count": null,
      "id": "c5fdbd52-901d-4f15-a0d2-112421dede91",
      "metadata": {
        "tags": [],
        "id": "c5fdbd52-901d-4f15-a0d2-112421dede91"
      },
      "outputs": [],
      "source": [
        "A = np.vstack([[5,4,1],[5,5,0],[0,0,5],[1,0,4]])\n",
        "A = Matrix([[5,4,1],[5,5,0],[0,0,5],[1,0,4]])\n",
        "A"
      ]
    },
    {
      "cell_type": "code",
      "execution_count": null,
      "id": "e2f2c318-b06f-4dbc-a6d0-f61a44d3867c",
      "metadata": {
        "tags": [],
        "id": "e2f2c318-b06f-4dbc-a6d0-f61a44d3867c"
      },
      "outputs": [],
      "source": [
        "# A.singular_value_decomposition()"
      ]
    },
    {
      "cell_type": "code",
      "execution_count": null,
      "id": "fec9aaea-fdea-4926-9948-961f02264c0b",
      "metadata": {
        "tags": [],
        "id": "fec9aaea-fdea-4926-9948-961f02264c0b"
      },
      "outputs": [],
      "source": [
        "# type(A)"
      ]
    },
    {
      "cell_type": "markdown",
      "id": "3069090b-6b0e-4b87-ac75-353a8fd26e64",
      "metadata": {
        "id": "3069090b-6b0e-4b87-ac75-353a8fd26e64"
      },
      "source": [
        "## Example 4.13\n",
        "Computing the SVD"
      ]
    },
    {
      "cell_type": "code",
      "execution_count": null,
      "id": "58a7c041-f39e-4e9d-a71c-459b1e4b6aa8",
      "metadata": {
        "tags": [],
        "id": "58a7c041-f39e-4e9d-a71c-459b1e4b6aa8"
      },
      "outputs": [],
      "source": [
        "A = Matrix([[1,0,1],[-2,1,0]])\n",
        "A"
      ]
    },
    {
      "cell_type": "code",
      "execution_count": null,
      "id": "1b346837-2ece-42b1-9838-41ef81ef27c6",
      "metadata": {
        "tags": [],
        "id": "1b346837-2ece-42b1-9838-41ef81ef27c6"
      },
      "outputs": [],
      "source": [
        "A.T"
      ]
    },
    {
      "cell_type": "code",
      "execution_count": null,
      "id": "cb7f099f-ef4d-40d7-9d4d-576ecc90ce81",
      "metadata": {
        "id": "cb7f099f-ef4d-40d7-9d4d-576ecc90ce81"
      },
      "outputs": [],
      "source": [
        "ATA = A.T*A\n",
        "ATA"
      ]
    },
    {
      "cell_type": "code",
      "execution_count": null,
      "id": "cb754573-0a7d-45f3-a1f5-aefabffe1f16",
      "metadata": {
        "id": "cb754573-0a7d-45f3-a1f5-aefabffe1f16"
      },
      "outputs": [],
      "source": [
        "ATA.eigenvals()"
      ]
    },
    {
      "cell_type": "code",
      "execution_count": null,
      "id": "8dc1e0d9-c999-438f-9525-ce86d31856aa",
      "metadata": {
        "id": "8dc1e0d9-c999-438f-9525-ce86d31856aa"
      },
      "outputs": [],
      "source": [
        "e_vects = ATA.eigenvects()\n",
        "e_vects"
      ]
    },
    {
      "cell_type": "markdown",
      "source": [
        "Sort the eigenvectors by eigenvectors decreasing values"
      ],
      "metadata": {
        "id": "wOIwR1dEBK06"
      },
      "id": "wOIwR1dEBK06"
    },
    {
      "cell_type": "code",
      "execution_count": null,
      "id": "e3009714-c565-46f5-a0d9-6894ab3ae267",
      "metadata": {
        "id": "e3009714-c565-46f5-a0d9-6894ab3ae267"
      },
      "outputs": [],
      "source": [
        "e_vects = e_vects[::-1]\n",
        "e_vects"
      ]
    },
    {
      "cell_type": "markdown",
      "source": [
        "Normalize the first eigenvector"
      ],
      "metadata": {
        "id": "jP6DDLPXBhLN"
      },
      "id": "jP6DDLPXBhLN"
    },
    {
      "cell_type": "code",
      "execution_count": null,
      "id": "1a5ee84b-f4ee-4d71-b065-1ba51cadaa02",
      "metadata": {
        "id": "1a5ee84b-f4ee-4d71-b065-1ba51cadaa02"
      },
      "outputs": [],
      "source": [
        "e_vec1 = e_vects[0]\n",
        "v1= e_vec1[2]\n",
        "v1 = v1[0].normalized()\n",
        "v1"
      ]
    },
    {
      "cell_type": "markdown",
      "source": [
        "Check: is it really an eigenvector?"
      ],
      "metadata": {
        "id": "e1suuOpyBkxI"
      },
      "id": "e1suuOpyBkxI"
    },
    {
      "cell_type": "code",
      "execution_count": null,
      "id": "d0acfaed-066b-4ce7-b36e-99b627541df7",
      "metadata": {
        "id": "d0acfaed-066b-4ce7-b36e-99b627541df7"
      },
      "outputs": [],
      "source": [
        "ATA*v1 == 6* v1"
      ]
    },
    {
      "cell_type": "markdown",
      "source": [
        "Normalize the second eigenvector"
      ],
      "metadata": {
        "id": "IB2uJXlQBqwa"
      },
      "id": "IB2uJXlQBqwa"
    },
    {
      "cell_type": "code",
      "execution_count": null,
      "id": "5870fb22-52c9-4358-b5e8-340989652165",
      "metadata": {
        "id": "5870fb22-52c9-4358-b5e8-340989652165"
      },
      "outputs": [],
      "source": [
        "e_vec2 = e_vects[1]\n",
        "v2=e_vec2[2][0].normalized()\n",
        "v2"
      ]
    },
    {
      "cell_type": "markdown",
      "source": [
        "Normalize the third eigenvector"
      ],
      "metadata": {
        "id": "LzCyMiFABtpy"
      },
      "id": "LzCyMiFABtpy"
    },
    {
      "cell_type": "code",
      "execution_count": null,
      "id": "83934c41-19b3-4b2d-a6cd-4e13048fe70a",
      "metadata": {
        "id": "83934c41-19b3-4b2d-a6cd-4e13048fe70a"
      },
      "outputs": [],
      "source": [
        "v3 = e_vects[2][2][0]\n",
        "v3=v3.normalized()\n",
        "v3"
      ]
    },
    {
      "cell_type": "markdown",
      "source": [
        "Build the $V$ matrix"
      ],
      "metadata": {
        "id": "Wp7lnrcvBw6W"
      },
      "id": "Wp7lnrcvBw6W"
    },
    {
      "cell_type": "code",
      "execution_count": null,
      "id": "72e97d66-0ba3-497f-afe9-4cc2a2130737",
      "metadata": {
        "id": "72e97d66-0ba3-497f-afe9-4cc2a2130737"
      },
      "outputs": [],
      "source": [
        "V = Matrix([[v1.T],[v2.T],[v3.T]]).T\n",
        "V"
      ]
    },
    {
      "cell_type": "markdown",
      "source": [
        "Check that $V$ is orthogonal"
      ],
      "metadata": {
        "id": "6Q4EpkJ_B5E8"
      },
      "id": "6Q4EpkJ_B5E8"
    },
    {
      "cell_type": "code",
      "execution_count": null,
      "id": "7a27d302-862e-430d-bfe9-e48c05bea6c1",
      "metadata": {
        "id": "7a27d302-862e-430d-bfe9-e48c05bea6c1"
      },
      "outputs": [],
      "source": [
        "V*V.T"
      ]
    },
    {
      "cell_type": "code",
      "execution_count": null,
      "id": "2cafe7cf-5180-41a5-aae0-578abb51b3a5",
      "metadata": {
        "id": "2cafe7cf-5180-41a5-aae0-578abb51b3a5"
      },
      "outputs": [],
      "source": [
        "ATA*V"
      ]
    },
    {
      "cell_type": "markdown",
      "source": [
        "Set the diagonal matrix $\\Sigma^2$, for sake of notation, we'll label it as $D$.\n",
        "\n",
        "Here the order is important, as it has to match the order of eigenvectors in $V$."
      ],
      "metadata": {
        "id": "eAmaQGiCFOGG"
      },
      "id": "eAmaQGiCFOGG"
    },
    {
      "cell_type": "code",
      "execution_count": null,
      "id": "253d963a-de24-4f1f-9f51-cc2b23747256",
      "metadata": {
        "id": "253d963a-de24-4f1f-9f51-cc2b23747256"
      },
      "outputs": [],
      "source": [
        "D = Matrix([[6,0,0],[0,1,0],[0,0,0]])\n",
        "D"
      ]
    },
    {
      "cell_type": "markdown",
      "source": [
        "Can you explain why $V\\cdot D \\cdot V^T = A^T\\cdot A$?\n",
        "\n",
        "Here is the check in python."
      ],
      "metadata": {
        "id": "eyYKGZXnGA3m"
      },
      "id": "eyYKGZXnGA3m"
    },
    {
      "cell_type": "code",
      "execution_count": null,
      "id": "72a88f94-168e-475b-a521-371312edba6f",
      "metadata": {
        "id": "72a88f94-168e-475b-a521-371312edba6f"
      },
      "outputs": [],
      "source": [
        "V*D*V.T"
      ]
    },
    {
      "cell_type": "markdown",
      "source": [
        "Define the matrix $\\Sigma$, which we label $S$ for sake of notation."
      ],
      "metadata": {
        "id": "hCYIvol_GcYi"
      },
      "id": "hCYIvol_GcYi"
    },
    {
      "cell_type": "code",
      "execution_count": null,
      "id": "29aab4df-3bd2-4a87-8938-f77afc2aacae",
      "metadata": {
        "id": "29aab4df-3bd2-4a87-8938-f77afc2aacae"
      },
      "outputs": [],
      "source": [
        "S = Matrix([[sqrt(6),0,0],[0,1,0]])\n",
        "S"
      ]
    },
    {
      "cell_type": "markdown",
      "source": [
        "Find the **left-singular vectors** of $A$ (also eigenvectors of $AA^T$)."
      ],
      "metadata": {
        "id": "w2bezVYWGmgr"
      },
      "id": "w2bezVYWGmgr"
    },
    {
      "cell_type": "code",
      "execution_count": null,
      "id": "7ac95072-5947-4c2b-9317-45a1536179a5",
      "metadata": {
        "id": "7ac95072-5947-4c2b-9317-45a1536179a5"
      },
      "outputs": [],
      "source": [
        "u_1 = A*v1/sqrt(6)\n",
        "u_1"
      ]
    },
    {
      "cell_type": "code",
      "execution_count": null,
      "id": "71c259d3-1bf6-4edf-ba27-ace14144b9a2",
      "metadata": {
        "id": "71c259d3-1bf6-4edf-ba27-ace14144b9a2"
      },
      "outputs": [],
      "source": [
        "u_2 = A*v2/sqrt(1)\n",
        "u_2"
      ]
    },
    {
      "cell_type": "markdown",
      "source": [
        "Build the $U$ matrix."
      ],
      "metadata": {
        "id": "Wz_YgOEwJIbF"
      },
      "id": "Wz_YgOEwJIbF"
    },
    {
      "cell_type": "code",
      "execution_count": null,
      "id": "71dc9b4a-8fd9-4e3a-900a-085f591fae13",
      "metadata": {
        "id": "71dc9b4a-8fd9-4e3a-900a-085f591fae13"
      },
      "outputs": [],
      "source": [
        "U = Matrix([u_1.T,u_2.T]).T\n",
        "U"
      ]
    },
    {
      "cell_type": "markdown",
      "source": [
        "Put all matrices together and check that the **Singular Value Decomposition** is correct"
      ],
      "metadata": {
        "id": "oUW6tFpoJNOE"
      },
      "id": "oUW6tFpoJNOE"
    },
    {
      "cell_type": "code",
      "execution_count": null,
      "id": "73e2c855-7343-41b6-be9e-f260687d6a35",
      "metadata": {
        "id": "73e2c855-7343-41b6-be9e-f260687d6a35"
      },
      "outputs": [],
      "source": [
        "U*S*V.T\n"
      ]
    },
    {
      "cell_type": "code",
      "source": [
        "A == U*S*V.T"
      ],
      "metadata": {
        "id": "QTiK2nxmJgYf"
      },
      "id": "QTiK2nxmJgYf",
      "execution_count": null,
      "outputs": []
    },
    {
      "cell_type": "markdown",
      "source": [
        "We could have found the **left-singular vectors** of $A$ as eigenvectors of $AA^T$."
      ],
      "metadata": {
        "id": "wI1j_aAeJnyY"
      },
      "id": "wI1j_aAeJnyY"
    },
    {
      "cell_type": "code",
      "execution_count": null,
      "id": "bc9f57ba-197c-4991-b773-ebaf940d9300",
      "metadata": {
        "id": "bc9f57ba-197c-4991-b773-ebaf940d9300"
      },
      "outputs": [],
      "source": [
        "AAT = A*A.T\n",
        "AAT"
      ]
    },
    {
      "cell_type": "markdown",
      "source": [
        "Find eigenvectors of $AA^T$.\n",
        "\n",
        "Sort them by highest eigevalue."
      ],
      "metadata": {
        "id": "euro09iDJ12i"
      },
      "id": "euro09iDJ12i"
    },
    {
      "cell_type": "code",
      "execution_count": null,
      "id": "ed455b7e-ef25-4cf9-9b2d-d03b2b4d5b14",
      "metadata": {
        "id": "ed455b7e-ef25-4cf9-9b2d-d03b2b4d5b14"
      },
      "outputs": [],
      "source": [
        "e_vectsAAT = AAT.eigenvects()\n",
        "e_vectsAAT = e_vectsAAT[::-1] # change the order\n",
        "e_vectsAAT"
      ]
    },
    {
      "cell_type": "markdown",
      "source": [
        "Normalize the eigenvectors\n",
        "\n",
        "We use the same notation $\\vec{u}_1$ and $\\vec{u}_2$"
      ],
      "metadata": {
        "id": "2zGTSQFCKGcJ"
      },
      "id": "2zGTSQFCKGcJ"
    },
    {
      "cell_type": "code",
      "execution_count": null,
      "id": "2a4b3df5-c65a-46b3-8f2e-ae921100f409",
      "metadata": {
        "id": "2a4b3df5-c65a-46b3-8f2e-ae921100f409"
      },
      "outputs": [],
      "source": [
        "u_1 = e_vectsAAT[0][2][0]\n",
        "u_1 = -u_1.normalized()\n",
        "u_1"
      ]
    },
    {
      "cell_type": "code",
      "execution_count": null,
      "id": "9760d86a-ec1d-4bb1-9580-bd084f4cf6c7",
      "metadata": {
        "id": "9760d86a-ec1d-4bb1-9580-bd084f4cf6c7"
      },
      "outputs": [],
      "source": [
        "u_2 = e_vectsAAT[1][2][0]\n",
        "u_2 = u_2.normalized()\n",
        "u_2"
      ]
    },
    {
      "cell_type": "markdown",
      "source": [
        "Define the matrix $U$, which we label $U2$, to keep it separate from the proviously defined $U$."
      ],
      "metadata": {
        "id": "GavlFB3DLSXs"
      },
      "id": "GavlFB3DLSXs"
    },
    {
      "cell_type": "code",
      "execution_count": null,
      "id": "17fb5928-7609-4b67-9e9d-1facec22bc8d",
      "metadata": {
        "id": "17fb5928-7609-4b67-9e9d-1facec22bc8d"
      },
      "outputs": [],
      "source": [
        "U2 = Matrix([u_1.T,u_2.T]).T\n",
        "U2"
      ]
    },
    {
      "cell_type": "markdown",
      "source": [
        "We obtained (as expected) the same result.\n",
        "\n",
        "Below is just a check"
      ],
      "metadata": {
        "id": "1cDqGbg3LLZ6"
      },
      "id": "1cDqGbg3LLZ6"
    },
    {
      "cell_type": "code",
      "execution_count": null,
      "id": "f218679d-d507-48e1-b56c-d950011f3e91",
      "metadata": {
        "id": "f218679d-d507-48e1-b56c-d950011f3e91"
      },
      "outputs": [],
      "source": [
        "U2*S*V.T"
      ]
    },
    {
      "cell_type": "markdown",
      "source": [
        "## Now, let's look at the sympy method `singular_value_decomposition()`:\n",
        "\n",
        "We label the matrices generated by `singular_value_decomposition()` with an index $n$, just for notation purposes (and to keep them separate from the previous $U, S, V$)."
      ],
      "metadata": {
        "id": "td-rfGTmNO3w"
      },
      "id": "td-rfGTmNO3w"
    },
    {
      "cell_type": "code",
      "execution_count": null,
      "id": "b36ccebd-9ab4-4f6d-8ec4-d787d11d676e",
      "metadata": {
        "id": "b36ccebd-9ab4-4f6d-8ec4-d787d11d676e"
      },
      "outputs": [],
      "source": [
        "Un, Sn, Vn = A.singular_value_decomposition()"
      ]
    },
    {
      "cell_type": "markdown",
      "source": [
        "The matrices are not the same as ours.\n",
        "\n",
        "Let's check:"
      ],
      "metadata": {
        "id": "Uiy5WqRkN6jC"
      },
      "id": "Uiy5WqRkN6jC"
    },
    {
      "cell_type": "code",
      "execution_count": null,
      "id": "ff18d3df-cdae-4d0a-9993-037ed1587c7f",
      "metadata": {
        "id": "ff18d3df-cdae-4d0a-9993-037ed1587c7f"
      },
      "outputs": [],
      "source": [
        "Un"
      ]
    },
    {
      "cell_type": "code",
      "execution_count": null,
      "id": "5674e105-7f7d-4296-8e25-6b4580ba426a",
      "metadata": {
        "id": "5674e105-7f7d-4296-8e25-6b4580ba426a"
      },
      "outputs": [],
      "source": [
        "U"
      ]
    },
    {
      "cell_type": "code",
      "execution_count": null,
      "id": "a35fdda6-e7ff-4a8c-b733-ccb910b6e6f9",
      "metadata": {
        "id": "a35fdda6-e7ff-4a8c-b733-ccb910b6e6f9"
      },
      "outputs": [],
      "source": [
        "S"
      ]
    },
    {
      "cell_type": "code",
      "execution_count": null,
      "id": "64348f1f-0232-4f73-9517-1f53a1bbdb36",
      "metadata": {
        "id": "64348f1f-0232-4f73-9517-1f53a1bbdb36"
      },
      "outputs": [],
      "source": [
        "Sn"
      ]
    },
    {
      "cell_type": "code",
      "execution_count": null,
      "id": "563d0052-0b3f-4475-bab3-5f3fb0b393fa",
      "metadata": {
        "id": "563d0052-0b3f-4475-bab3-5f3fb0b393fa"
      },
      "outputs": [],
      "source": [
        "V"
      ]
    },
    {
      "cell_type": "code",
      "execution_count": null,
      "id": "df29c110-4c7a-4ff8-a2d8-cf2048f46c98",
      "metadata": {
        "id": "df29c110-4c7a-4ff8-a2d8-cf2048f46c98"
      },
      "outputs": [],
      "source": [
        "Vn"
      ]
    },
    {
      "cell_type": "markdown",
      "source": [
        "Nevertheless, the decomposition works, as we can get back $A$ as the product $U_n\\cdot S_n\\cdot V^T_n$."
      ],
      "metadata": {
        "id": "OV04rRYROLHe"
      },
      "id": "OV04rRYROLHe"
    },
    {
      "cell_type": "code",
      "execution_count": null,
      "id": "aa482056-dc60-4c82-ae83-b5387c03ca08",
      "metadata": {
        "id": "aa482056-dc60-4c82-ae83-b5387c03ca08"
      },
      "outputs": [],
      "source": [
        "Un*Sn*Vn.T"
      ]
    },
    {
      "cell_type": "markdown",
      "source": [
        "What is going on?"
      ],
      "metadata": {
        "id": "qjBgfz9WO4_V"
      },
      "id": "qjBgfz9WO4_V"
    }
  ],
  "metadata": {
    "kernelspec": {
      "display_name": "Python 3 (ipykernel)",
      "language": "python",
      "name": "python3"
    },
    "language_info": {
      "codemirror_mode": {
        "name": "ipython",
        "version": 3
      },
      "file_extension": ".py",
      "mimetype": "text/x-python",
      "name": "python",
      "nbconvert_exporter": "python",
      "pygments_lexer": "ipython3",
      "version": "3.10.11"
    },
    "colab": {
      "provenance": [],
      "include_colab_link": true
    }
  },
  "nbformat": 4,
  "nbformat_minor": 5
}