{
  "cells": [
    {
      "cell_type": "markdown",
      "source": [
        "The goal of this project is to train a simple Neural Network.\n",
        "\n",
        "We will start with the following toy model"
      ],
      "metadata": {
        "id": "J1jKBtm_rXmg"
      },
      "id": "J1jKBtm_rXmg"
    },
    {
      "cell_type": "markdown",
      "source": [
        "\n",
        "\n",
        "![image-3.png](https://drive.google.com/uc?id=1SjPymYoI0iJPYAJqSKLttuUXjJi7fgB0)\n",
        "\n"
      ],
      "metadata": {
        "id": "8OFKp7eFrrA5"
      },
      "id": "8OFKp7eFrrA5"
    },
    {
      "cell_type": "markdown",
      "id": "98cf809a",
      "metadata": {
        "id": "98cf809a"
      },
      "source": [
        "# NN Training Steps\n",
        "\n",
        "\n",
        "---\n",
        "## 1. Feed forward\n",
        "---\n",
        "\n",
        "- Apply linear transformation and activation function to determine the neurons in the next layers of NN\n",
        "\n",
        "\n",
        "> \\begin{array}{ccccccccc}\n",
        "\\text{Input = Output Layer 0} & & \\text{Layer 1} & & \\text{Output Layer 1} & & \\text{Layer 2} & & \\text{Output Layer 2}\\\\\n",
        "\\hline\n",
        "\\vec{x} = \\vec{a}^{(0)} & ⇒  & \\mathbf{W}^{(1)} \\cdot \\vec{x} + \\vec{b}^{(1)} = \\vec{z}^{(1)} & ⇒ &\n",
        " \\sigma(\\vec{z}^{(1)}) = \\vec{a}^{(1)} & ⇒ &  \\mathbf{W}^{(2)} \\cdot \\vec{a}^{(1)} + \\vec{b}^{(2)} = \\vec{z}^{(2)} & ⇒ &  \\sigma(\\vec{z}^{(2)}) = \\vec{a}^{(2)} = \\hat{y}\n",
        "\\end{array}\n",
        "\n",
        "#### LAYER 1\n",
        "\n",
        "1. Linear Transformation:\n",
        "\n",
        "$$\n",
        "\\vec{z}_1 = \\mathbf{W}_1 \\cdot \\vec{x} + \\vec{b}_1\n",
        "$$\n",
        "\n",
        "2. Activation Function (sigmoid):\n",
        "\n",
        "$$\n",
        "\\vec{a}_1 = \\sigma(\\vec{z}_1)\n",
        "$$\n",
        "\n",
        "#### LAYER 2\n",
        "\n",
        "1. Linear Transformation:\n",
        "\n",
        "$$\n",
        "\\vec{z}_2 = \\mathbf{W}_2 \\cdot \\vec{a}_1 + \\vec{b}_2\n",
        "$$\n",
        "\n",
        "2. Activation Function (sigmoid):\n",
        "\n",
        "$$\n",
        "\\vec{a}_2 = \\sigma(\\vec{z}_2)\n",
        "$$\n",
        "\n",
        "\n",
        "![image-5.png](https://drive.google.com/uc?id=1ZmRXr2zCthT5kS3K4Ah532whDvKEX_mm)\n",
        "\n",
        "\n",
        "\n",
        "\n"
      ]
    },
    {
      "cell_type": "markdown",
      "source": [
        "---\n",
        "## 2. Define the loss/Cost function\n",
        "---"
      ],
      "metadata": {
        "id": "ObqvNO7EMmp-"
      },
      "id": "ObqvNO7EMmp-"
    },
    {
      "cell_type": "markdown",
      "id": "4410a720",
      "metadata": {
        "id": "4410a720"
      },
      "source": [
        "---\n",
        "## 3. Backpropagate\n",
        "---\n",
        "\n",
        "Define $\\vec{\\theta} = \\{ W^{(1)}_{1,1},W^{(1)}_{2,1},...,b_1^{(1)},...\\}$\n",
        "\n",
        "Then the gradient of the Loss function is\n",
        "\n",
        "$$\n",
        "\\nabla_{\\vec{\\theta}} C (\\vec{\\theta})\n",
        "$$\n",
        "\n",
        "We will visualize this in a smaller case for clarity:\n",
        "(in this case W is used for the weight matrices instead of A)\n",
        "\n",
        "![image-4.png](https://drive.google.com/uc?id=1xyP1ocJGA-pS6z1BUpNISUmlTK09L4g8)\n",
        "\n",
        "---\n",
        "## 4. Update Values of Weights\n",
        "---\n",
        "\n",
        "(h is the learning rate)\n",
        "\n",
        "![image-5.png](https://drive.google.com/uc?id=1E5OIQQMK-wXDHxSbMdYNacifuAD9weC_)\n",
        "\n",
        "---\n",
        "### 5. Repeat!\n",
        "---"
      ]
    },
    {
      "cell_type": "markdown",
      "source": [
        "# Neural Network\n",
        "\n",
        ">   #### Now we're going to complicate the simple Neural Network that we showed above.  Our input layer (in $\\color{blue} {\\text{blue}}$) is now in $\\mathbb{R}^3$ and we are going to add a hidden layer (in $\\color{lightgreen} {\\text{green}}$) also in $\\mathbb{R}^3$.  Our output (in $\\color{red} {\\text{red}}$) is still in $\\mathbb{R}$.\n",
        "\n",
        "![image1](https://drive.google.com/uc?id=16GbDnjSC5PjilwKReDqNJC_BirxuIoko)\n",
        "\n",
        "\n",
        "\n",
        "\n",
        "> #### Here you can see all the neurons, weight matrices, and biases labeled and the dimension of each given.\n",
        "\n",
        "![image2](https://drive.google.com/uc?id=1OyfiK0-U9xObswZdhxZXM0H8a0nHW_9r)\n",
        "\n",
        "\n"
      ],
      "metadata": {
        "id": "_DyVDeXCP93n"
      },
      "id": "_DyVDeXCP93n"
    },
    {
      "cell_type": "markdown",
      "source": [
        "# Our dataset\n",
        "\n",
        "> #### Let's first take a look at the dataset we will use to build our neural network, the `penquin` dataset."
      ],
      "metadata": {
        "id": "dbuaTym89wN9"
      },
      "id": "dbuaTym89wN9"
    },
    {
      "cell_type": "code",
      "source": [
        "import pandas as pd\n",
        "X = pd.read_csv('penguins1.csv', usecols=range(1,4))\n",
        "Y = pd.read_csv('penguins2.csv', usecols=range(1,2))"
      ],
      "metadata": {
        "id": "4eDOsQdR-Ib5"
      },
      "id": "4eDOsQdR-Ib5",
      "execution_count": null,
      "outputs": []
    },
    {
      "cell_type": "code",
      "source": [
        "X"
      ],
      "metadata": {
        "colab": {
          "base_uri": "https://localhost:8080/",
          "height": 423
        },
        "id": "HnQWNKoG-Jcj",
        "outputId": "e9da5724-2d85-47fc-f74f-72d998808774"
      },
      "id": "HnQWNKoG-Jcj",
      "execution_count": null,
      "outputs": [
        {
          "output_type": "execute_result",
          "data": {
            "text/plain": [
              "     bill_length_mm  bill_depth_mm  flipper_length_mm\n",
              "0              39.1           18.7                181\n",
              "1              39.5           17.4                186\n",
              "2              40.3           18.0                195\n",
              "3              36.7           19.3                193\n",
              "4              39.3           20.6                190\n",
              "..              ...            ...                ...\n",
              "260            47.2           13.7                214\n",
              "261            46.8           14.3                215\n",
              "262            50.4           15.7                222\n",
              "263            45.2           14.8                212\n",
              "264            49.9           16.1                213\n",
              "\n",
              "[265 rows x 3 columns]"
            ],
            "text/html": [
              "\n",
              "  <div id=\"df-de6512aa-8d62-4ba5-9c35-8dce5cca7a60\" class=\"colab-df-container\">\n",
              "    <div>\n",
              "<style scoped>\n",
              "    .dataframe tbody tr th:only-of-type {\n",
              "        vertical-align: middle;\n",
              "    }\n",
              "\n",
              "    .dataframe tbody tr th {\n",
              "        vertical-align: top;\n",
              "    }\n",
              "\n",
              "    .dataframe thead th {\n",
              "        text-align: right;\n",
              "    }\n",
              "</style>\n",
              "<table border=\"1\" class=\"dataframe\">\n",
              "  <thead>\n",
              "    <tr style=\"text-align: right;\">\n",
              "      <th></th>\n",
              "      <th>bill_length_mm</th>\n",
              "      <th>bill_depth_mm</th>\n",
              "      <th>flipper_length_mm</th>\n",
              "    </tr>\n",
              "  </thead>\n",
              "  <tbody>\n",
              "    <tr>\n",
              "      <th>0</th>\n",
              "      <td>39.1</td>\n",
              "      <td>18.7</td>\n",
              "      <td>181</td>\n",
              "    </tr>\n",
              "    <tr>\n",
              "      <th>1</th>\n",
              "      <td>39.5</td>\n",
              "      <td>17.4</td>\n",
              "      <td>186</td>\n",
              "    </tr>\n",
              "    <tr>\n",
              "      <th>2</th>\n",
              "      <td>40.3</td>\n",
              "      <td>18.0</td>\n",
              "      <td>195</td>\n",
              "    </tr>\n",
              "    <tr>\n",
              "      <th>3</th>\n",
              "      <td>36.7</td>\n",
              "      <td>19.3</td>\n",
              "      <td>193</td>\n",
              "    </tr>\n",
              "    <tr>\n",
              "      <th>4</th>\n",
              "      <td>39.3</td>\n",
              "      <td>20.6</td>\n",
              "      <td>190</td>\n",
              "    </tr>\n",
              "    <tr>\n",
              "      <th>...</th>\n",
              "      <td>...</td>\n",
              "      <td>...</td>\n",
              "      <td>...</td>\n",
              "    </tr>\n",
              "    <tr>\n",
              "      <th>260</th>\n",
              "      <td>47.2</td>\n",
              "      <td>13.7</td>\n",
              "      <td>214</td>\n",
              "    </tr>\n",
              "    <tr>\n",
              "      <th>261</th>\n",
              "      <td>46.8</td>\n",
              "      <td>14.3</td>\n",
              "      <td>215</td>\n",
              "    </tr>\n",
              "    <tr>\n",
              "      <th>262</th>\n",
              "      <td>50.4</td>\n",
              "      <td>15.7</td>\n",
              "      <td>222</td>\n",
              "    </tr>\n",
              "    <tr>\n",
              "      <th>263</th>\n",
              "      <td>45.2</td>\n",
              "      <td>14.8</td>\n",
              "      <td>212</td>\n",
              "    </tr>\n",
              "    <tr>\n",
              "      <th>264</th>\n",
              "      <td>49.9</td>\n",
              "      <td>16.1</td>\n",
              "      <td>213</td>\n",
              "    </tr>\n",
              "  </tbody>\n",
              "</table>\n",
              "<p>265 rows × 3 columns</p>\n",
              "</div>\n",
              "    <div class=\"colab-df-buttons\">\n",
              "\n",
              "  <div class=\"colab-df-container\">\n",
              "    <button class=\"colab-df-convert\" onclick=\"convertToInteractive('df-de6512aa-8d62-4ba5-9c35-8dce5cca7a60')\"\n",
              "            title=\"Convert this dataframe to an interactive table.\"\n",
              "            style=\"display:none;\">\n",
              "\n",
              "  <svg xmlns=\"http://www.w3.org/2000/svg\" height=\"24px\" viewBox=\"0 -960 960 960\">\n",
              "    <path d=\"M120-120v-720h720v720H120Zm60-500h600v-160H180v160Zm220 220h160v-160H400v160Zm0 220h160v-160H400v160ZM180-400h160v-160H180v160Zm440 0h160v-160H620v160ZM180-180h160v-160H180v160Zm440 0h160v-160H620v160Z\"/>\n",
              "  </svg>\n",
              "    </button>\n",
              "\n",
              "  <style>\n",
              "    .colab-df-container {\n",
              "      display:flex;\n",
              "      gap: 12px;\n",
              "    }\n",
              "\n",
              "    .colab-df-convert {\n",
              "      background-color: #E8F0FE;\n",
              "      border: none;\n",
              "      border-radius: 50%;\n",
              "      cursor: pointer;\n",
              "      display: none;\n",
              "      fill: #1967D2;\n",
              "      height: 32px;\n",
              "      padding: 0 0 0 0;\n",
              "      width: 32px;\n",
              "    }\n",
              "\n",
              "    .colab-df-convert:hover {\n",
              "      background-color: #E2EBFA;\n",
              "      box-shadow: 0px 1px 2px rgba(60, 64, 67, 0.3), 0px 1px 3px 1px rgba(60, 64, 67, 0.15);\n",
              "      fill: #174EA6;\n",
              "    }\n",
              "\n",
              "    .colab-df-buttons div {\n",
              "      margin-bottom: 4px;\n",
              "    }\n",
              "\n",
              "    [theme=dark] .colab-df-convert {\n",
              "      background-color: #3B4455;\n",
              "      fill: #D2E3FC;\n",
              "    }\n",
              "\n",
              "    [theme=dark] .colab-df-convert:hover {\n",
              "      background-color: #434B5C;\n",
              "      box-shadow: 0px 1px 3px 1px rgba(0, 0, 0, 0.15);\n",
              "      filter: drop-shadow(0px 1px 2px rgba(0, 0, 0, 0.3));\n",
              "      fill: #FFFFFF;\n",
              "    }\n",
              "  </style>\n",
              "\n",
              "    <script>\n",
              "      const buttonEl =\n",
              "        document.querySelector('#df-de6512aa-8d62-4ba5-9c35-8dce5cca7a60 button.colab-df-convert');\n",
              "      buttonEl.style.display =\n",
              "        google.colab.kernel.accessAllowed ? 'block' : 'none';\n",
              "\n",
              "      async function convertToInteractive(key) {\n",
              "        const element = document.querySelector('#df-de6512aa-8d62-4ba5-9c35-8dce5cca7a60');\n",
              "        const dataTable =\n",
              "          await google.colab.kernel.invokeFunction('convertToInteractive',\n",
              "                                                    [key], {});\n",
              "        if (!dataTable) return;\n",
              "\n",
              "        const docLinkHtml = 'Like what you see? Visit the ' +\n",
              "          '<a target=\"_blank\" href=https://colab.research.google.com/notebooks/data_table.ipynb>data table notebook</a>'\n",
              "          + ' to learn more about interactive tables.';\n",
              "        element.innerHTML = '';\n",
              "        dataTable['output_type'] = 'display_data';\n",
              "        await google.colab.output.renderOutput(dataTable, element);\n",
              "        const docLink = document.createElement('div');\n",
              "        docLink.innerHTML = docLinkHtml;\n",
              "        element.appendChild(docLink);\n",
              "      }\n",
              "    </script>\n",
              "  </div>\n",
              "\n",
              "\n",
              "<div id=\"df-67536012-4fb9-4f94-94b4-c6fae98c8d64\">\n",
              "  <button class=\"colab-df-quickchart\" onclick=\"quickchart('df-67536012-4fb9-4f94-94b4-c6fae98c8d64')\"\n",
              "            title=\"Suggest charts\"\n",
              "            style=\"display:none;\">\n",
              "\n",
              "<svg xmlns=\"http://www.w3.org/2000/svg\" height=\"24px\"viewBox=\"0 0 24 24\"\n",
              "     width=\"24px\">\n",
              "    <g>\n",
              "        <path d=\"M19 3H5c-1.1 0-2 .9-2 2v14c0 1.1.9 2 2 2h14c1.1 0 2-.9 2-2V5c0-1.1-.9-2-2-2zM9 17H7v-7h2v7zm4 0h-2V7h2v10zm4 0h-2v-4h2v4z\"/>\n",
              "    </g>\n",
              "</svg>\n",
              "  </button>\n",
              "\n",
              "<style>\n",
              "  .colab-df-quickchart {\n",
              "      --bg-color: #E8F0FE;\n",
              "      --fill-color: #1967D2;\n",
              "      --hover-bg-color: #E2EBFA;\n",
              "      --hover-fill-color: #174EA6;\n",
              "      --disabled-fill-color: #AAA;\n",
              "      --disabled-bg-color: #DDD;\n",
              "  }\n",
              "\n",
              "  [theme=dark] .colab-df-quickchart {\n",
              "      --bg-color: #3B4455;\n",
              "      --fill-color: #D2E3FC;\n",
              "      --hover-bg-color: #434B5C;\n",
              "      --hover-fill-color: #FFFFFF;\n",
              "      --disabled-bg-color: #3B4455;\n",
              "      --disabled-fill-color: #666;\n",
              "  }\n",
              "\n",
              "  .colab-df-quickchart {\n",
              "    background-color: var(--bg-color);\n",
              "    border: none;\n",
              "    border-radius: 50%;\n",
              "    cursor: pointer;\n",
              "    display: none;\n",
              "    fill: var(--fill-color);\n",
              "    height: 32px;\n",
              "    padding: 0;\n",
              "    width: 32px;\n",
              "  }\n",
              "\n",
              "  .colab-df-quickchart:hover {\n",
              "    background-color: var(--hover-bg-color);\n",
              "    box-shadow: 0 1px 2px rgba(60, 64, 67, 0.3), 0 1px 3px 1px rgba(60, 64, 67, 0.15);\n",
              "    fill: var(--button-hover-fill-color);\n",
              "  }\n",
              "\n",
              "  .colab-df-quickchart-complete:disabled,\n",
              "  .colab-df-quickchart-complete:disabled:hover {\n",
              "    background-color: var(--disabled-bg-color);\n",
              "    fill: var(--disabled-fill-color);\n",
              "    box-shadow: none;\n",
              "  }\n",
              "\n",
              "  .colab-df-spinner {\n",
              "    border: 2px solid var(--fill-color);\n",
              "    border-color: transparent;\n",
              "    border-bottom-color: var(--fill-color);\n",
              "    animation:\n",
              "      spin 1s steps(1) infinite;\n",
              "  }\n",
              "\n",
              "  @keyframes spin {\n",
              "    0% {\n",
              "      border-color: transparent;\n",
              "      border-bottom-color: var(--fill-color);\n",
              "      border-left-color: var(--fill-color);\n",
              "    }\n",
              "    20% {\n",
              "      border-color: transparent;\n",
              "      border-left-color: var(--fill-color);\n",
              "      border-top-color: var(--fill-color);\n",
              "    }\n",
              "    30% {\n",
              "      border-color: transparent;\n",
              "      border-left-color: var(--fill-color);\n",
              "      border-top-color: var(--fill-color);\n",
              "      border-right-color: var(--fill-color);\n",
              "    }\n",
              "    40% {\n",
              "      border-color: transparent;\n",
              "      border-right-color: var(--fill-color);\n",
              "      border-top-color: var(--fill-color);\n",
              "    }\n",
              "    60% {\n",
              "      border-color: transparent;\n",
              "      border-right-color: var(--fill-color);\n",
              "    }\n",
              "    80% {\n",
              "      border-color: transparent;\n",
              "      border-right-color: var(--fill-color);\n",
              "      border-bottom-color: var(--fill-color);\n",
              "    }\n",
              "    90% {\n",
              "      border-color: transparent;\n",
              "      border-bottom-color: var(--fill-color);\n",
              "    }\n",
              "  }\n",
              "</style>\n",
              "\n",
              "  <script>\n",
              "    async function quickchart(key) {\n",
              "      const quickchartButtonEl =\n",
              "        document.querySelector('#' + key + ' button');\n",
              "      quickchartButtonEl.disabled = true;  // To prevent multiple clicks.\n",
              "      quickchartButtonEl.classList.add('colab-df-spinner');\n",
              "      try {\n",
              "        const charts = await google.colab.kernel.invokeFunction(\n",
              "            'suggestCharts', [key], {});\n",
              "      } catch (error) {\n",
              "        console.error('Error during call to suggestCharts:', error);\n",
              "      }\n",
              "      quickchartButtonEl.classList.remove('colab-df-spinner');\n",
              "      quickchartButtonEl.classList.add('colab-df-quickchart-complete');\n",
              "    }\n",
              "    (() => {\n",
              "      let quickchartButtonEl =\n",
              "        document.querySelector('#df-67536012-4fb9-4f94-94b4-c6fae98c8d64 button');\n",
              "      quickchartButtonEl.style.display =\n",
              "        google.colab.kernel.accessAllowed ? 'block' : 'none';\n",
              "    })();\n",
              "  </script>\n",
              "</div>\n",
              "    </div>\n",
              "  </div>\n"
            ],
            "application/vnd.google.colaboratory.intrinsic+json": {
              "type": "dataframe",
              "variable_name": "X",
              "summary": "{\n  \"name\": \"X\",\n  \"rows\": 265,\n  \"fields\": [\n    {\n      \"column\": \"bill_length_mm\",\n      \"properties\": {\n        \"dtype\": \"number\",\n        \"std\": 5.214803525997052,\n        \"min\": 32.1,\n        \"max\": 59.6,\n        \"num_unique_values\": 145,\n        \"samples\": [\n          41.5,\n          48.1,\n          42.2\n        ],\n        \"semantic_type\": \"\",\n        \"description\": \"\"\n      }\n    },\n    {\n      \"column\": \"bill_depth_mm\",\n      \"properties\": {\n        \"dtype\": \"number\",\n        \"std\": 2.0097754952860427,\n        \"min\": 13.1,\n        \"max\": 21.5,\n        \"num_unique_values\": 77,\n        \"samples\": [\n          20.6,\n          16.2,\n          19.0\n        ],\n        \"semantic_type\": \"\",\n        \"description\": \"\"\n      }\n    },\n    {\n      \"column\": \"flipper_length_mm\",\n      \"properties\": {\n        \"dtype\": \"number\",\n        \"std\": 15,\n        \"min\": 172,\n        \"max\": 231,\n        \"num_unique_values\": 53,\n        \"samples\": [\n          188,\n          221,\n          231\n        ],\n        \"semantic_type\": \"\",\n        \"description\": \"\"\n      }\n    }\n  ]\n}"
            }
          },
          "metadata": {},
          "execution_count": 3
        }
      ]
    },
    {
      "cell_type": "code",
      "source": [
        "Y"
      ],
      "metadata": {
        "colab": {
          "base_uri": "https://localhost:8080/",
          "height": 423
        },
        "id": "wJLE1fUg-kvy",
        "outputId": "cd58b9b2-b055-4cee-8040-70dc7fb1ff80"
      },
      "id": "wJLE1fUg-kvy",
      "execution_count": null,
      "outputs": [
        {
          "output_type": "execute_result",
          "data": {
            "text/plain": [
              "     species\n",
              "0          1\n",
              "1          1\n",
              "2          1\n",
              "3          1\n",
              "4          1\n",
              "..       ...\n",
              "260        0\n",
              "261        0\n",
              "262        0\n",
              "263        0\n",
              "264        0\n",
              "\n",
              "[265 rows x 1 columns]"
            ],
            "text/html": [
              "\n",
              "  <div id=\"df-590d827e-cd3d-4250-9d36-d51cc445d107\" class=\"colab-df-container\">\n",
              "    <div>\n",
              "<style scoped>\n",
              "    .dataframe tbody tr th:only-of-type {\n",
              "        vertical-align: middle;\n",
              "    }\n",
              "\n",
              "    .dataframe tbody tr th {\n",
              "        vertical-align: top;\n",
              "    }\n",
              "\n",
              "    .dataframe thead th {\n",
              "        text-align: right;\n",
              "    }\n",
              "</style>\n",
              "<table border=\"1\" class=\"dataframe\">\n",
              "  <thead>\n",
              "    <tr style=\"text-align: right;\">\n",
              "      <th></th>\n",
              "      <th>species</th>\n",
              "    </tr>\n",
              "  </thead>\n",
              "  <tbody>\n",
              "    <tr>\n",
              "      <th>0</th>\n",
              "      <td>1</td>\n",
              "    </tr>\n",
              "    <tr>\n",
              "      <th>1</th>\n",
              "      <td>1</td>\n",
              "    </tr>\n",
              "    <tr>\n",
              "      <th>2</th>\n",
              "      <td>1</td>\n",
              "    </tr>\n",
              "    <tr>\n",
              "      <th>3</th>\n",
              "      <td>1</td>\n",
              "    </tr>\n",
              "    <tr>\n",
              "      <th>4</th>\n",
              "      <td>1</td>\n",
              "    </tr>\n",
              "    <tr>\n",
              "      <th>...</th>\n",
              "      <td>...</td>\n",
              "    </tr>\n",
              "    <tr>\n",
              "      <th>260</th>\n",
              "      <td>0</td>\n",
              "    </tr>\n",
              "    <tr>\n",
              "      <th>261</th>\n",
              "      <td>0</td>\n",
              "    </tr>\n",
              "    <tr>\n",
              "      <th>262</th>\n",
              "      <td>0</td>\n",
              "    </tr>\n",
              "    <tr>\n",
              "      <th>263</th>\n",
              "      <td>0</td>\n",
              "    </tr>\n",
              "    <tr>\n",
              "      <th>264</th>\n",
              "      <td>0</td>\n",
              "    </tr>\n",
              "  </tbody>\n",
              "</table>\n",
              "<p>265 rows × 1 columns</p>\n",
              "</div>\n",
              "    <div class=\"colab-df-buttons\">\n",
              "\n",
              "  <div class=\"colab-df-container\">\n",
              "    <button class=\"colab-df-convert\" onclick=\"convertToInteractive('df-590d827e-cd3d-4250-9d36-d51cc445d107')\"\n",
              "            title=\"Convert this dataframe to an interactive table.\"\n",
              "            style=\"display:none;\">\n",
              "\n",
              "  <svg xmlns=\"http://www.w3.org/2000/svg\" height=\"24px\" viewBox=\"0 -960 960 960\">\n",
              "    <path d=\"M120-120v-720h720v720H120Zm60-500h600v-160H180v160Zm220 220h160v-160H400v160Zm0 220h160v-160H400v160ZM180-400h160v-160H180v160Zm440 0h160v-160H620v160ZM180-180h160v-160H180v160Zm440 0h160v-160H620v160Z\"/>\n",
              "  </svg>\n",
              "    </button>\n",
              "\n",
              "  <style>\n",
              "    .colab-df-container {\n",
              "      display:flex;\n",
              "      gap: 12px;\n",
              "    }\n",
              "\n",
              "    .colab-df-convert {\n",
              "      background-color: #E8F0FE;\n",
              "      border: none;\n",
              "      border-radius: 50%;\n",
              "      cursor: pointer;\n",
              "      display: none;\n",
              "      fill: #1967D2;\n",
              "      height: 32px;\n",
              "      padding: 0 0 0 0;\n",
              "      width: 32px;\n",
              "    }\n",
              "\n",
              "    .colab-df-convert:hover {\n",
              "      background-color: #E2EBFA;\n",
              "      box-shadow: 0px 1px 2px rgba(60, 64, 67, 0.3), 0px 1px 3px 1px rgba(60, 64, 67, 0.15);\n",
              "      fill: #174EA6;\n",
              "    }\n",
              "\n",
              "    .colab-df-buttons div {\n",
              "      margin-bottom: 4px;\n",
              "    }\n",
              "\n",
              "    [theme=dark] .colab-df-convert {\n",
              "      background-color: #3B4455;\n",
              "      fill: #D2E3FC;\n",
              "    }\n",
              "\n",
              "    [theme=dark] .colab-df-convert:hover {\n",
              "      background-color: #434B5C;\n",
              "      box-shadow: 0px 1px 3px 1px rgba(0, 0, 0, 0.15);\n",
              "      filter: drop-shadow(0px 1px 2px rgba(0, 0, 0, 0.3));\n",
              "      fill: #FFFFFF;\n",
              "    }\n",
              "  </style>\n",
              "\n",
              "    <script>\n",
              "      const buttonEl =\n",
              "        document.querySelector('#df-590d827e-cd3d-4250-9d36-d51cc445d107 button.colab-df-convert');\n",
              "      buttonEl.style.display =\n",
              "        google.colab.kernel.accessAllowed ? 'block' : 'none';\n",
              "\n",
              "      async function convertToInteractive(key) {\n",
              "        const element = document.querySelector('#df-590d827e-cd3d-4250-9d36-d51cc445d107');\n",
              "        const dataTable =\n",
              "          await google.colab.kernel.invokeFunction('convertToInteractive',\n",
              "                                                    [key], {});\n",
              "        if (!dataTable) return;\n",
              "\n",
              "        const docLinkHtml = 'Like what you see? Visit the ' +\n",
              "          '<a target=\"_blank\" href=https://colab.research.google.com/notebooks/data_table.ipynb>data table notebook</a>'\n",
              "          + ' to learn more about interactive tables.';\n",
              "        element.innerHTML = '';\n",
              "        dataTable['output_type'] = 'display_data';\n",
              "        await google.colab.output.renderOutput(dataTable, element);\n",
              "        const docLink = document.createElement('div');\n",
              "        docLink.innerHTML = docLinkHtml;\n",
              "        element.appendChild(docLink);\n",
              "      }\n",
              "    </script>\n",
              "  </div>\n",
              "\n",
              "\n",
              "<div id=\"df-e8a5e8c9-cf43-4a9e-ae05-745909bfb375\">\n",
              "  <button class=\"colab-df-quickchart\" onclick=\"quickchart('df-e8a5e8c9-cf43-4a9e-ae05-745909bfb375')\"\n",
              "            title=\"Suggest charts\"\n",
              "            style=\"display:none;\">\n",
              "\n",
              "<svg xmlns=\"http://www.w3.org/2000/svg\" height=\"24px\"viewBox=\"0 0 24 24\"\n",
              "     width=\"24px\">\n",
              "    <g>\n",
              "        <path d=\"M19 3H5c-1.1 0-2 .9-2 2v14c0 1.1.9 2 2 2h14c1.1 0 2-.9 2-2V5c0-1.1-.9-2-2-2zM9 17H7v-7h2v7zm4 0h-2V7h2v10zm4 0h-2v-4h2v4z\"/>\n",
              "    </g>\n",
              "</svg>\n",
              "  </button>\n",
              "\n",
              "<style>\n",
              "  .colab-df-quickchart {\n",
              "      --bg-color: #E8F0FE;\n",
              "      --fill-color: #1967D2;\n",
              "      --hover-bg-color: #E2EBFA;\n",
              "      --hover-fill-color: #174EA6;\n",
              "      --disabled-fill-color: #AAA;\n",
              "      --disabled-bg-color: #DDD;\n",
              "  }\n",
              "\n",
              "  [theme=dark] .colab-df-quickchart {\n",
              "      --bg-color: #3B4455;\n",
              "      --fill-color: #D2E3FC;\n",
              "      --hover-bg-color: #434B5C;\n",
              "      --hover-fill-color: #FFFFFF;\n",
              "      --disabled-bg-color: #3B4455;\n",
              "      --disabled-fill-color: #666;\n",
              "  }\n",
              "\n",
              "  .colab-df-quickchart {\n",
              "    background-color: var(--bg-color);\n",
              "    border: none;\n",
              "    border-radius: 50%;\n",
              "    cursor: pointer;\n",
              "    display: none;\n",
              "    fill: var(--fill-color);\n",
              "    height: 32px;\n",
              "    padding: 0;\n",
              "    width: 32px;\n",
              "  }\n",
              "\n",
              "  .colab-df-quickchart:hover {\n",
              "    background-color: var(--hover-bg-color);\n",
              "    box-shadow: 0 1px 2px rgba(60, 64, 67, 0.3), 0 1px 3px 1px rgba(60, 64, 67, 0.15);\n",
              "    fill: var(--button-hover-fill-color);\n",
              "  }\n",
              "\n",
              "  .colab-df-quickchart-complete:disabled,\n",
              "  .colab-df-quickchart-complete:disabled:hover {\n",
              "    background-color: var(--disabled-bg-color);\n",
              "    fill: var(--disabled-fill-color);\n",
              "    box-shadow: none;\n",
              "  }\n",
              "\n",
              "  .colab-df-spinner {\n",
              "    border: 2px solid var(--fill-color);\n",
              "    border-color: transparent;\n",
              "    border-bottom-color: var(--fill-color);\n",
              "    animation:\n",
              "      spin 1s steps(1) infinite;\n",
              "  }\n",
              "\n",
              "  @keyframes spin {\n",
              "    0% {\n",
              "      border-color: transparent;\n",
              "      border-bottom-color: var(--fill-color);\n",
              "      border-left-color: var(--fill-color);\n",
              "    }\n",
              "    20% {\n",
              "      border-color: transparent;\n",
              "      border-left-color: var(--fill-color);\n",
              "      border-top-color: var(--fill-color);\n",
              "    }\n",
              "    30% {\n",
              "      border-color: transparent;\n",
              "      border-left-color: var(--fill-color);\n",
              "      border-top-color: var(--fill-color);\n",
              "      border-right-color: var(--fill-color);\n",
              "    }\n",
              "    40% {\n",
              "      border-color: transparent;\n",
              "      border-right-color: var(--fill-color);\n",
              "      border-top-color: var(--fill-color);\n",
              "    }\n",
              "    60% {\n",
              "      border-color: transparent;\n",
              "      border-right-color: var(--fill-color);\n",
              "    }\n",
              "    80% {\n",
              "      border-color: transparent;\n",
              "      border-right-color: var(--fill-color);\n",
              "      border-bottom-color: var(--fill-color);\n",
              "    }\n",
              "    90% {\n",
              "      border-color: transparent;\n",
              "      border-bottom-color: var(--fill-color);\n",
              "    }\n",
              "  }\n",
              "</style>\n",
              "\n",
              "  <script>\n",
              "    async function quickchart(key) {\n",
              "      const quickchartButtonEl =\n",
              "        document.querySelector('#' + key + ' button');\n",
              "      quickchartButtonEl.disabled = true;  // To prevent multiple clicks.\n",
              "      quickchartButtonEl.classList.add('colab-df-spinner');\n",
              "      try {\n",
              "        const charts = await google.colab.kernel.invokeFunction(\n",
              "            'suggestCharts', [key], {});\n",
              "      } catch (error) {\n",
              "        console.error('Error during call to suggestCharts:', error);\n",
              "      }\n",
              "      quickchartButtonEl.classList.remove('colab-df-spinner');\n",
              "      quickchartButtonEl.classList.add('colab-df-quickchart-complete');\n",
              "    }\n",
              "    (() => {\n",
              "      let quickchartButtonEl =\n",
              "        document.querySelector('#df-e8a5e8c9-cf43-4a9e-ae05-745909bfb375 button');\n",
              "      quickchartButtonEl.style.display =\n",
              "        google.colab.kernel.accessAllowed ? 'block' : 'none';\n",
              "    })();\n",
              "  </script>\n",
              "</div>\n",
              "    </div>\n",
              "  </div>\n"
            ],
            "application/vnd.google.colaboratory.intrinsic+json": {
              "type": "dataframe",
              "variable_name": "Y",
              "summary": "{\n  \"name\": \"Y\",\n  \"rows\": 265,\n  \"fields\": [\n    {\n      \"column\": \"species\",\n      \"properties\": {\n        \"dtype\": \"number\",\n        \"std\": 0,\n        \"min\": 0,\n        \"max\": 1,\n        \"num_unique_values\": 2,\n        \"samples\": [\n          0,\n          1\n        ],\n        \"semantic_type\": \"\",\n        \"description\": \"\"\n      }\n    }\n  ]\n}"
            }
          },
          "metadata": {},
          "execution_count": 4
        }
      ]
    },
    {
      "cell_type": "markdown",
      "source": [
        "> #### We notice that the `X` dataset consists of 265 different samples (penguins) with 3 features each (`bill_length_mm`, `bill_depth_mm`, and `flipper_length_mm`).  \n",
        "\n",
        "> #### Our neural network takes as input each row of the `X` dataset (which is a vector in $\\mathbb{R}^3$) and outputs a value that classifies the species of penguin.  We have 2 types of penguins in the `Y` dataset, 0 and 1.  "
      ],
      "metadata": {
        "id": "GcUs8POR-s69"
      },
      "id": "GcUs8POR-s69"
    },
    {
      "cell_type": "markdown",
      "id": "7a47261c",
      "metadata": {
        "id": "7a47261c"
      },
      "source": [
        "---\n",
        "# Make Neural Network !\n",
        "\n",
        "## TODO: MAKE A COPY OF THIS ASSIGNMENT AND EDIT\n",
        "\n",
        "Tips:\n",
        "- use `print` statements to debug your code\n",
        "- code small helper functions first and check if correct by running practice tests\n",
        "- check if matrices are the **correct dimension for matrix multiplication** by printing the matrix or printing the dimension of the matrix (may need to transpose by using `matrix.T` in some cases)\n",
        "- make sure you understand the math behind feeding forward and backpropogating before implementing the `feed_forward` and `gradient` functions\n",
        "- The internet is your friend! Look up unknown python syntax and error messages  \n",
        "- Other potentially useful functions: `np.dot`, `np.random.normal`, `np.exp`, `pd.DataFrame`"
      ]
    },
    {
      "cell_type": "markdown",
      "id": "2a369a29",
      "metadata": {
        "id": "2a369a29"
      },
      "source": [
        "# Load Libraries"
      ]
    },
    {
      "cell_type": "code",
      "execution_count": null,
      "id": "71669f29",
      "metadata": {
        "id": "71669f29"
      },
      "outputs": [],
      "source": [
        "import numpy as np\n",
        "import pandas as pd\n",
        "from sklearn.model_selection import train_test_split\n",
        "from sklearn.preprocessing import normalize"
      ]
    },
    {
      "cell_type": "markdown",
      "id": "ee8be56c",
      "metadata": {
        "id": "ee8be56c"
      },
      "source": [
        "# Create Functions"
      ]
    },
    {
      "cell_type": "markdown",
      "id": "c1233ded",
      "metadata": {
        "id": "c1233ded"
      },
      "source": [
        "## Small Helper Functions:"
      ]
    },
    {
      "cell_type": "markdown",
      "id": "fa53e104",
      "metadata": {
        "id": "fa53e104"
      },
      "source": [
        "#### `sigmoid(z)`\n",
        "- activation function\n",
        "-takes in a numpy array `z` and returns sigmoid `sig_z`"
      ]
    },
    {
      "cell_type": "code",
      "execution_count": null,
      "id": "5b5f637b",
      "metadata": {
        "id": "5b5f637b"
      },
      "outputs": [],
      "source": [
        "def sigmoid(z):\n",
        "    # edit\n",
        "    return sig_z"
      ]
    },
    {
      "cell_type": "markdown",
      "id": "61c46a36",
      "metadata": {
        "id": "61c46a36"
      },
      "source": [
        "#### `sigmoid_derivative(a)`\n",
        "- derivative of activation function - for backpropogation\n",
        "- takes in numpy array `a`, such that `a` = `simgoid(z)`, and returns the sigmoid derivative `sig_deriv_a`"
      ]
    },
    {
      "cell_type": "code",
      "execution_count": null,
      "id": "63989bc2",
      "metadata": {
        "id": "63989bc2"
      },
      "outputs": [],
      "source": [
        "def sigmoid_derivative(a):\n",
        "    # edit\n",
        "    return sig_deriv_a"
      ]
    },
    {
      "cell_type": "markdown",
      "id": "d7c0b2ff",
      "metadata": {
        "id": "d7c0b2ff"
      },
      "source": [
        "#### `initialize_random_weights(i,j)`\n",
        "- initialize a n`i` by `j`  numpy matrix with random values (from a standard normal distribution)\n",
        "- takes in integer dimensions `i` and `j` and returns a `matrix` of random values"
      ]
    },
    {
      "cell_type": "code",
      "execution_count": null,
      "id": "ce1d5f83",
      "metadata": {
        "id": "ce1d5f83"
      },
      "outputs": [],
      "source": [
        "def initialize_random_weights(i,j):\n",
        "    # edit\n",
        "    return matrix"
      ]
    },
    {
      "cell_type": "markdown",
      "id": "596f6260",
      "metadata": {
        "id": "596f6260"
      },
      "source": [
        "#### `cost_function(y, y_hat)`\n",
        "- takes in two values `y`, `yhat` and returns `error` between them"
      ]
    },
    {
      "cell_type": "code",
      "execution_count": null,
      "id": "bb2279c6",
      "metadata": {
        "id": "bb2279c6"
      },
      "outputs": [],
      "source": [
        "def cost_function(y, y_hat):\n",
        "    # edit\n",
        "    return error"
      ]
    },
    {
      "cell_type": "markdown",
      "id": "54e50ed1",
      "metadata": {
        "id": "54e50ed1"
      },
      "source": [
        "## Major Functions:"
      ]
    },
    {
      "cell_type": "markdown",
      "id": "73f4b896",
      "metadata": {
        "id": "73f4b896"
      },
      "source": [
        "#### ` feed_forward(x)`\n",
        "- takes in input numpy array `x` and applies linear transformation and sigmoid function for layers 1 and 2\n",
        "- returns output values for layers 1 and 2: `a1` = (a11, a12, a13) and `a2` = (a21)\n",
        "- INITIALIZE your weight matrices (W1 and W2 ) before doing this (the code to initialize is below in the loading data section)"
      ]
    },
    {
      "cell_type": "code",
      "execution_count": null,
      "id": "364373fc",
      "metadata": {
        "id": "364373fc"
      },
      "outputs": [],
      "source": [
        "def feed_forward(x):\n",
        "    # edit\n",
        "    return a1, a2"
      ]
    },
    {
      "cell_type": "markdown",
      "id": "59cf247c",
      "metadata": {
        "id": "59cf247c"
      },
      "source": [
        "#### `gradient(x,y,a1,a2)`\n",
        "- takes in input `x` and output `y` as well as calculated hidden layer `a1` and calculated output layer `a2`\n",
        "- calculates the gradient (see equations above) and returns change in weight matrices `dW1`, `dW2` and biases `db1`, `db2`"
      ]
    },
    {
      "cell_type": "code",
      "execution_count": null,
      "id": "a86c475a",
      "metadata": {
        "id": "a86c475a"
      },
      "outputs": [],
      "source": [
        "def gradient(x, y, a1, a2):\n",
        "    # edit\n",
        "    return dW1, db1, dW2, db2"
      ]
    },
    {
      "cell_type": "markdown",
      "id": "278c2212",
      "metadata": {
        "id": "278c2212"
      },
      "source": [
        "#### `train(inputs, outputs, learning_rate, epochs)`\n",
        "- applies helper functions to train neural network\n",
        "- does not need to return anything, works by updating weights and biases `W1`, `W2`, `b1`, `b2`"
      ]
    },
    {
      "cell_type": "code",
      "execution_count": null,
      "id": "d5a8da57",
      "metadata": {
        "id": "d5a8da57"
      },
      "outputs": [],
      "source": [
        "def train(inputs, outputs, learning_rate, epochs):\n",
        "\n",
        "    for epoch in range(epochs):\n",
        "        for x,y in zip(inputs,outputs):\n",
        "            # reshape x to correct vector size\n",
        "            x = np.reshape(x, (3,1))\n",
        "\n",
        "            # edit: feed forward\n",
        "\n",
        "            # edit: calculate error using cost function\n",
        "\n",
        "            # edit: backpropogate using gradient function\n",
        "\n",
        "            # set to global variable to update values outside of function\n",
        "            global W1\n",
        "            global b1\n",
        "            global W2\n",
        "            global b2\n",
        "\n",
        "            # edit: reassign matrices"
      ]
    },
    {
      "cell_type": "markdown",
      "id": "2c37d965",
      "metadata": {
        "id": "2c37d965"
      },
      "source": [
        "#### `test(inputs, outputs)`\n",
        "- run after training to see if neural network works well on other data points that it didn't see during training\n",
        "- takes in test `inputs` and `outputs` and returns `percent_correct`"
      ]
    },
    {
      "cell_type": "code",
      "execution_count": null,
      "id": "137247e8",
      "metadata": {
        "id": "137247e8"
      },
      "outputs": [],
      "source": [
        "def test(inputs, outputs):\n",
        "\n",
        "    count_correct = 0\n",
        "    for x,y in zip(inputs,outputs):\n",
        "\n",
        "        # edit: feed forward\n",
        "\n",
        "        # edit: determine if result is correct & update count_correct value\n",
        "\n",
        "\n",
        "    # edit: calculate percent_correct = 100*count_correct/total_count\n",
        "    return percent_correct"
      ]
    },
    {
      "cell_type": "markdown",
      "id": "bd17c7e2",
      "metadata": {
        "id": "bd17c7e2"
      },
      "source": [
        "# Load Data and Run Neural Network\n",
        "No editing needed below but can try out different values for `learning_rate` or `epochs`\n",
        "\n",
        "**NOTE**: make sure to rerun `initialize_random_weights` each time you train the network (otherwise `train` function will have edited the matices and you want them to start random)"
      ]
    },
    {
      "cell_type": "markdown",
      "id": "faec914f",
      "metadata": {
        "id": "faec914f"
      },
      "source": [
        "### Load Data"
      ]
    },
    {
      "cell_type": "code",
      "execution_count": null,
      "id": "9115ee7f",
      "metadata": {
        "id": "9115ee7f"
      },
      "outputs": [],
      "source": [
        "X = pd.read_csv('penguins1.csv', usecols=range(1,4))\n",
        "X = X.to_numpy()\n",
        "Y = pd.read_csv('penguins2.csv', usecols=range(1,2))\n",
        "Y = Y.to_numpy()\n",
        "\n",
        "# normalize X dataset\n",
        "X = normalize(X, axis=1, norm='l2')"
      ]
    },
    {
      "cell_type": "markdown",
      "id": "99214f39",
      "metadata": {
        "id": "99214f39"
      },
      "source": [
        "### Split into test (`x_test`, `y_test`) and train (`x_train`, `y_train`) datasets"
      ]
    },
    {
      "cell_type": "code",
      "execution_count": null,
      "id": "35322037",
      "metadata": {
        "id": "35322037"
      },
      "outputs": [],
      "source": [
        "x_train,x_test,y_train,y_test = train_test_split(X,Y,test_size=0.2)"
      ]
    },
    {
      "cell_type": "markdown",
      "id": "52ab62d2",
      "metadata": {
        "id": "52ab62d2"
      },
      "source": [
        "### Initialize values of weights `W1`, `W2` and biases `b1`, `b2`"
      ]
    },
    {
      "cell_type": "code",
      "execution_count": null,
      "id": "07f632fb",
      "metadata": {
        "id": "07f632fb"
      },
      "outputs": [],
      "source": [
        "#Weights\n",
        "W1 = initialize_random_weights(3,3)\n",
        "W2 = initialize_random_weights(3,1)\n",
        "\n",
        "#Biases\n",
        "b1 = initialize_random_weights(3,1)\n",
        "b2 = initialize_random_weights(1,1)\n",
        "\n",
        "learning_rate = .1\n",
        "epochs = 500"
      ]
    },
    {
      "cell_type": "markdown",
      "id": "51ac51be",
      "metadata": {
        "id": "51ac51be"
      },
      "source": [
        "### `train`"
      ]
    },
    {
      "cell_type": "code",
      "execution_count": null,
      "id": "6ed3ab7d",
      "metadata": {
        "id": "6ed3ab7d"
      },
      "outputs": [],
      "source": [
        "train(x_train, y_train, learning_rate, epochs)"
      ]
    },
    {
      "cell_type": "markdown",
      "id": "bd563cd4",
      "metadata": {
        "id": "bd563cd4"
      },
      "source": [
        "### `test`"
      ]
    },
    {
      "cell_type": "code",
      "execution_count": null,
      "id": "c18f1077",
      "metadata": {
        "id": "c18f1077"
      },
      "outputs": [],
      "source": [
        "test(x_test, y_test)"
      ]
    },
    {
      "cell_type": "markdown",
      "id": "13027e85",
      "metadata": {
        "id": "13027e85"
      },
      "source": [
        "# Analysis\n",
        "\n",
        "1. How are the weight matrices updated?\n",
        "    - print the weight matrices every 50 epochs in `train` function\n",
        "    \n",
        "    \n",
        "\n",
        "2. How does the error change over epochs?\n",
        "    - implement a method of calculating and graphing the change in error of your neural network in `train` function\n",
        "    -I did this by returning a pandas dataframe, `error_df`, from the `train` function that contained two columns, the epoch number and the calculated error for that epoch (remember to average over the whole epoch).  Then I plotted using `error_df.plot(x = \"epoch\", y = \"error\")`. There are many different ways this could be done though!\n",
        "    \n",
        "    Want to make something like this:\n",
        "    \n",
        "    ![image-4.png](https://drive.google.com/uc?id=10LqjzKCplZjWXnSxuGjQYF8ycTToNx9K)\n",
        "\n",
        "  "
      ]
    }
  ],
  "metadata": {
    "kernelspec": {
      "display_name": "Python 3 (ipykernel)",
      "language": "python",
      "name": "python3"
    },
    "language_info": {
      "codemirror_mode": {
        "name": "ipython",
        "version": 3
      },
      "file_extension": ".py",
      "mimetype": "text/x-python",
      "name": "python",
      "nbconvert_exporter": "python",
      "pygments_lexer": "ipython3",
      "version": "3.9.13"
    },
    "colab": {
      "provenance": []
    }
  },
  "nbformat": 4,
  "nbformat_minor": 5
}