{
  "nbformat": 4,
  "nbformat_minor": 0,
  "metadata": {
    "colab": {
      "provenance": [],
      "collapsed_sections": [
        "K2rKcXOOO1VP",
        "Ec0ewSU39NZB",
        "VXB2rzs_9NZG"
      ],
      "include_colab_link": true
    },
    "kernelspec": {
      "name": "python3",
      "display_name": "Python 3"
    },
    "language_info": {
      "name": "python"
    }
  },
  "cells": [
    {
      "cell_type": "markdown",
      "metadata": {
        "id": "view-in-github",
        "colab_type": "text"
      },
      "source": [
        "<a href=\"https://colab.research.google.com/github/gg5d/DS-3005/blob/main/MML_Python%2C_Ch_02_sp2024.ipynb\" target=\"_parent\"><img src=\"https://colab.research.google.com/assets/colab-badge.svg\" alt=\"Open In Colab\"/></a>"
      ]
    },
    {
      "cell_type": "code",
      "execution_count": 11,
      "metadata": {
        "id": "2aMSPm6HN9s1"
      },
      "outputs": [],
      "source": [
        "from sympy import *\n",
        "import numpy as np\n",
        "import numpy.linalg as npl\n",
        "import pandas as pd\n",
        "init_printing(use_unicode=True)\n",
        "from IPython.display import display"
      ]
    },
    {
      "cell_type": "markdown",
      "source": [
        "How to use **sympy** in Linear Algebra\n",
        "[Matrices in sympy](https://docs.sympy.org/latest/tutorials/intro-tutorial/matrices.html)"
      ],
      "metadata": {
        "id": "a98qtIBUr9A7"
      }
    },
    {
      "cell_type": "markdown",
      "metadata": {
        "id": "U8IB6eep9NY6"
      },
      "source": [
        "# Chapter 02. Linear Algebra\n"
      ]
    },
    {
      "cell_type": "markdown",
      "source": [
        "## 2.1 Systems of Linear Equations\n"
      ],
      "metadata": {
        "id": "K2rKcXOOO1VP"
      }
    },
    {
      "cell_type": "markdown",
      "source": [
        "### Example 2.2"
      ],
      "metadata": {
        "id": "TO6y942XTvTx"
      }
    },
    {
      "cell_type": "code",
      "source": [
        "mat = Matrix([[1,1,1],[1,-1,2],[2,0,3]])\n",
        "sol = Matrix([3,2,1])\n",
        "try:\n",
        "  mat.solve(sol)\n",
        "except:\n",
        "  pprint(Matrix.hstack(mat, sol))\n",
        "  print(\"Not solveable. Adding rows 1 and 2 contradicts row 3.\")"
      ],
      "metadata": {
        "colab": {
          "base_uri": "https://localhost:8080/"
        },
        "id": "MnxiNY40PmBj",
        "outputId": "acc70062-d6da-48db-ae67-dee74e456224"
      },
      "execution_count": null,
      "outputs": [
        {
          "output_type": "stream",
          "name": "stdout",
          "text": [
            "⎡1  1   1  3⎤\n",
            "⎢           ⎥\n",
            "⎢1  -1  2  2⎥\n",
            "⎢           ⎥\n",
            "⎣2  0   3  1⎦\n",
            "Not solveable. Adding rows 1 and 2 contradicts row 3.\n"
          ]
        }
      ]
    },
    {
      "cell_type": "code",
      "source": [
        "mat = Matrix([[1,1,1],[1,-1,2],[0,1,1]])\n",
        "sol = Matrix([3,2,2])\n",
        "pprint(Matrix.hstack(mat, sol))\n",
        "print(\"Solveable. Adding row 1 and 3 reveals x = 1, which fits with all rows.\")\n",
        "mat.solve(sol)"
      ],
      "metadata": {
        "colab": {
          "base_uri": "https://localhost:8080/",
          "height": 180
        },
        "id": "_m2Uw3z-RWb9",
        "outputId": "38a82a16-b3cb-4bad-a12d-29db9d66161d"
      },
      "execution_count": null,
      "outputs": [
        {
          "output_type": "stream",
          "name": "stdout",
          "text": [
            "⎡1  1   1  3⎤\n",
            "⎢           ⎥\n",
            "⎢1  -1  2  2⎥\n",
            "⎢           ⎥\n",
            "⎣0  1   1  2⎦\n",
            "Solveable. Adding row 1 and 3 reveals x = 1, which fits with all rows.\n"
          ]
        },
        {
          "output_type": "execute_result",
          "data": {
            "text/plain": [
              "Matrix([\n",
              "[1],\n",
              "[1],\n",
              "[1]])"
            ],
            "text/latex": "$\\displaystyle \\left[\\begin{matrix}1\\\\1\\\\1\\end{matrix}\\right]$"
          },
          "metadata": {},
          "execution_count": 6
        }
      ]
    },
    {
      "cell_type": "code",
      "source": [
        "mat = Matrix([[1,1,1],[1,-1,2],[2,0,3]])\n",
        "sol = Matrix([3,2,1])\n",
        "try:\n",
        "  mat.solve(sol)\n",
        "except:\n",
        "  pprint(Matrix.hstack(mat, sol))\n",
        "  print(\"Not solveable. Adding rows 1 and 2 contradicts row 3.\")"
      ],
      "metadata": {
        "colab": {
          "base_uri": "https://localhost:8080/"
        },
        "id": "WYECP1_WSDuB",
        "outputId": "d0fe7fdd-0080-4a86-e01c-fe9fd1aa3c05"
      },
      "execution_count": null,
      "outputs": [
        {
          "output_type": "stream",
          "name": "stdout",
          "text": [
            "⎡1  1   1  3⎤\n",
            "⎢           ⎥\n",
            "⎢1  -1  2  2⎥\n",
            "⎢           ⎥\n",
            "⎣2  0   3  1⎦\n",
            "Not solveable. Adding rows 1 and 2 contradicts row 3.\n"
          ]
        }
      ]
    },
    {
      "cell_type": "code",
      "source": [
        "mat = Matrix([[1,1,1],[1,-1,2],[2,0,3]])\n",
        "sol = Matrix([3,2,5])\n",
        "try:\n",
        "  mat.solve(sol)\n",
        "except:\n",
        "  pprint(Matrix.hstack(mat, sol))\n",
        "  print(\"Solution of coefficients multiplied with any # in R. I.e. Infinite real solutions.\")"
      ],
      "metadata": {
        "colab": {
          "base_uri": "https://localhost:8080/"
        },
        "id": "Ca63TbYhSQkh",
        "outputId": "ab9c37c4-62f2-409c-cf25-6c23418dfab3"
      },
      "execution_count": null,
      "outputs": [
        {
          "output_type": "stream",
          "name": "stdout",
          "text": [
            "⎡1  1   1  3⎤\n",
            "⎢           ⎥\n",
            "⎢1  -1  2  2⎥\n",
            "⎢           ⎥\n",
            "⎣2  0   3  5⎦\n",
            "Solution of coefficients multiplied with any # in R. I.e. Infinite real solutions.\n"
          ]
        }
      ]
    },
    {
      "cell_type": "markdown",
      "metadata": {
        "id": "6jlKX-Fu9NY-"
      },
      "source": [
        "#### Figure 2.3\n",
        "The solution space of a system of two linear equations with two variables can be geometrically interepreted as the interesection of two lines. Every linear equation represents a line."
      ]
    },
    {
      "cell_type": "code",
      "execution_count": null,
      "metadata": {
        "tags": [],
        "id": "L_v16RrT9NY-"
      },
      "outputs": [],
      "source": [
        "import matplotlib.pyplot as plt\n",
        "from matplotlib.pyplot import figure\n",
        "vals = np.linspace(-10,10,10000)"
      ]
    },
    {
      "cell_type": "code",
      "execution_count": null,
      "metadata": {
        "tags": [],
        "id": "-JBkrTwG9NY_"
      },
      "outputs": [],
      "source": [
        "plt.rcParams[\"figure.figsize\"] = (5,5)"
      ]
    },
    {
      "cell_type": "code",
      "execution_count": null,
      "metadata": {
        "tags": [],
        "id": "12P2S23K9NY_",
        "outputId": "d05c4747-3eda-45dd-fc9f-6a11e3a4eb0c",
        "colab": {
          "base_uri": "https://localhost:8080/",
          "height": 445
        }
      },
      "outputs": [
        {
          "output_type": "display_data",
          "data": {
            "text/plain": [
              "<Figure size 500x500 with 1 Axes>"
            ],
            "image/png": "[encoded data removed]"
          },
          "metadata": {}
        }
      ],
      "source": [
        "eq0 = lambda x1: (5-4*x1)/4 # 4x1+4x2 = 5\n",
        "y0 = eq0(vals)\n",
        "\n",
        "eq1 = lambda x1: (1-2*x1)/-4 # 2x1-4x2 = 1\n",
        "y1 = eq1(vals)\n",
        "\n",
        "plt.plot(vals,y0,c=\"blue\")\n",
        "plt.plot(vals,y1,\"--\",c=\"red\")\n",
        "idx = np.argwhere(np.diff(np.sign(y0 - y1))).flatten() # finds the intersection between two graphs\n",
        "plt.plot(vals[idx],y0[idx],'ko')\n",
        "plt.legend([\"4$x_1$+4$x_2$ = 5\",\"2$x_1$-4$x_2$ = 1\",str(np.round(vals[idx],3)) + str(np.round(y0[idx],3))]);"
      ]
    },
    {
      "cell_type": "code",
      "execution_count": null,
      "metadata": {
        "tags": [],
        "id": "KNoT6Q1q9NZA",
        "outputId": "e8caa7c9-1c19-4da2-9481-02eb6ec8df5b",
        "colab": {
          "base_uri": "https://localhost:8080/",
          "height": 445
        }
      },
      "outputs": [
        {
          "output_type": "display_data",
          "data": {
            "text/plain": [
              "<Figure size 500x500 with 1 Axes>"
            ],
            "image/png": "[encoded data removed]"
          },
          "metadata": {}
        }
      ],
      "source": [
        "eq0 = lambda x1: (2-4*x1)/-8 # 4x1-8x2 = 2\n",
        "y0 = eq0(vals)\n",
        "\n",
        "eq1 = lambda x1: (1-2*x1)/-4 # 2x1-4x2 = 1\n",
        "y1 = eq1(vals)\n",
        "\n",
        "plt.plot(vals,y0,c=\"blue\")\n",
        "plt.plot(vals,y1,\"--\",c=\"red\")\n",
        "idx = np.argwhere(np.diff(np.sign(y0 - y1))).flatten() # finds the intersection between two graphs\n",
        "plt.plot(vals[idx],y0[idx],'ko')\n",
        "plt.legend([\"4$x_1$-8$x_2$ = 2\",\"2$x_1$-4$x_2$ = 1\",str(np.round(vals[idx],3)) + str(np.round(y0[idx],3))]);"
      ]
    },
    {
      "cell_type": "code",
      "execution_count": null,
      "metadata": {
        "tags": [],
        "id": "9-HZyJLL9NZA",
        "outputId": "1ac792c1-541a-42b6-e91c-42b184833746",
        "colab": {
          "base_uri": "https://localhost:8080/",
          "height": 445
        }
      },
      "outputs": [
        {
          "output_type": "display_data",
          "data": {
            "text/plain": [
              "<Figure size 500x500 with 1 Axes>"
            ],
            "image/png": "[encoded data removed]"
          },
          "metadata": {}
        }
      ],
      "source": [
        "eq0 = lambda x1: (10-2*x1)/-4 # 2x1-4x2 = 10\n",
        "y0 = eq0(vals)\n",
        "\n",
        "eq1 = lambda x1: (1-2*x1)/-4 # 2x1-4x2 = 1\n",
        "y1 = eq1(vals)\n",
        "\n",
        "plt.plot(vals,y0,c=\"blue\")\n",
        "plt.plot(vals,y1,\"--\",c=\"red\")\n",
        "idx = np.argwhere(np.diff(np.sign(y0 - y1))).flatten() # finds the intersection between two graphs\n",
        "plt.plot(vals[idx],y0[idx],'ko')\n",
        "plt.legend([\"2$x_1$-4$x_2$ = 10\",\"2$x_1$-4$x_2$ = 1\",str(np.round(vals[idx],3)) + str(np.round(y0[idx],3))]);"
      ]
    },
    {
      "cell_type": "markdown",
      "metadata": {
        "id": "Ec0ewSU39NZB"
      },
      "source": [
        "## 2.2 Matrices\n"
      ]
    },
    {
      "cell_type": "markdown",
      "source": [
        "#### Figure 2.4\n",
        "*By stacking its columns, a matrix A can be represented as a long vector a.*"
      ],
      "metadata": {
        "id": "1_MwnItyWhy8"
      }
    },
    {
      "cell_type": "code",
      "source": [
        "A = Matrix([1.2,1.2,1.2,1.2])\n",
        "display('A:',A)\n"
      ],
      "metadata": {
        "id": "D_Y4CgNST2_d",
        "colab": {
          "base_uri": "https://localhost:8080/",
          "height": 116
        },
        "outputId": "51bc9dd0-a8fb-4165-9326-eb3b5753162a"
      },
      "execution_count": 44,
      "outputs": [
        {
          "output_type": "display_data",
          "data": {
            "text/plain": [
              "'A:'"
            ],
            "application/vnd.google.colaboratory.intrinsic+json": {
              "type": "string"
            }
          },
          "metadata": {}
        },
        {
          "output_type": "display_data",
          "data": {
            "text/plain": [
              "⎡1.2⎤\n",
              "⎢   ⎥\n",
              "⎢1.2⎥\n",
              "⎢   ⎥\n",
              "⎢1.2⎥\n",
              "⎢   ⎥\n",
              "⎣1.2⎦"
            ],
            "text/latex": "$\\displaystyle \\left[\\begin{matrix}1.2\\\\1.2\\\\1.2\\\\1.2\\end{matrix}\\right]$"
          },
          "metadata": {}
        }
      ]
    },
    {
      "cell_type": "code",
      "source": [
        "B = Matrix([2,2,2,2])\n",
        "display('B:',B)\n"
      ],
      "metadata": {
        "colab": {
          "base_uri": "https://localhost:8080/",
          "height": 116
        },
        "id": "sQGniT-95VNM",
        "outputId": "71da5051-3fc7-4eaf-d4cb-92a9a4dc8ecc"
      },
      "execution_count": 45,
      "outputs": [
        {
          "output_type": "display_data",
          "data": {
            "text/plain": [
              "'B:'"
            ],
            "application/vnd.google.colaboratory.intrinsic+json": {
              "type": "string"
            }
          },
          "metadata": {}
        },
        {
          "output_type": "display_data",
          "data": {
            "text/plain": [
              "⎡2⎤\n",
              "⎢ ⎥\n",
              "⎢2⎥\n",
              "⎢ ⎥\n",
              "⎢2⎥\n",
              "⎢ ⎥\n",
              "⎣2⎦"
            ],
            "text/latex": "$\\displaystyle \\left[\\begin{matrix}2\\\\2\\\\2\\\\2\\end{matrix}\\right]$"
          },
          "metadata": {}
        }
      ]
    },
    {
      "cell_type": "code",
      "source": [
        "display(\"Horizontal stack:\", Matrix.hstack(A,B))\n"
      ],
      "metadata": {
        "colab": {
          "base_uri": "https://localhost:8080/",
          "height": 116
        },
        "id": "m-e97L7r5YL3",
        "outputId": "786287ea-6a0b-49c4-d885-e3f64a503fc2"
      },
      "execution_count": 46,
      "outputs": [
        {
          "output_type": "display_data",
          "data": {
            "text/plain": [
              "'Horizontal stack:'"
            ],
            "application/vnd.google.colaboratory.intrinsic+json": {
              "type": "string"
            }
          },
          "metadata": {}
        },
        {
          "output_type": "display_data",
          "data": {
            "text/plain": [
              "⎡1.2  2⎤\n",
              "⎢      ⎥\n",
              "⎢1.2  2⎥\n",
              "⎢      ⎥\n",
              "⎢1.2  2⎥\n",
              "⎢      ⎥\n",
              "⎣1.2  2⎦"
            ],
            "text/latex": "$\\displaystyle \\left[\\begin{matrix}1.2 & 2\\\\1.2 & 2\\\\1.2 & 2\\\\1.2 & 2\\end{matrix}\\right]$"
          },
          "metadata": {}
        }
      ]
    },
    {
      "cell_type": "code",
      "source": [
        "display(\"Vertical stack:\",Matrix.vstack(A,B))"
      ],
      "metadata": {
        "colab": {
          "base_uri": "https://localhost:8080/",
          "height": 198
        },
        "id": "LvFOmXew5aNG",
        "outputId": "37847cd9-1a8d-4ae1-e5f9-5e3b35fc4d66"
      },
      "execution_count": 47,
      "outputs": [
        {
          "output_type": "display_data",
          "data": {
            "text/plain": [
              "'Vertical stack:'"
            ],
            "application/vnd.google.colaboratory.intrinsic+json": {
              "type": "string"
            }
          },
          "metadata": {}
        },
        {
          "output_type": "display_data",
          "data": {
            "text/plain": [
              "⎡1.2⎤\n",
              "⎢   ⎥\n",
              "⎢1.2⎥\n",
              "⎢   ⎥\n",
              "⎢1.2⎥\n",
              "⎢   ⎥\n",
              "⎢1.2⎥\n",
              "⎢   ⎥\n",
              "⎢ 2 ⎥\n",
              "⎢   ⎥\n",
              "⎢ 2 ⎥\n",
              "⎢   ⎥\n",
              "⎢ 2 ⎥\n",
              "⎢   ⎥\n",
              "⎣ 2 ⎦"
            ],
            "text/latex": "$\\displaystyle \\left[\\begin{matrix}1.2\\\\1.2\\\\1.2\\\\1.2\\\\2\\\\2\\\\2\\\\2\\end{matrix}\\right]$"
          },
          "metadata": {}
        }
      ]
    },
    {
      "cell_type": "markdown",
      "metadata": {
        "id": "-OkdO6SQ9NZC"
      },
      "source": [
        "### Example 2.3\n",
        "To compute element $c_{ij}$ we multiply the elements of the $i$th row of $A$ with the $j$th column of $B$ and sum them up. We will call this the dot product of the correspodning row and column.\n",
        "\n",
        "*Remark.* Matrices can only be multiplied if their neighborign dimensions match. For instance, an $n \\times k$ matrix $A$ can be multipled with a $k \\times m$ matrix $B$, but only from the left."
      ]
    },
    {
      "cell_type": "code",
      "source": [
        "A = Matrix([[1,2,3],[3,2,1]])\n",
        "print(\"A:\")\n",
        "A\n",
        "\n"
      ],
      "metadata": {
        "id": "x3ZyAKYzVJuY",
        "colab": {
          "base_uri": "https://localhost:8080/",
          "height": 75
        },
        "outputId": "2a5f8d40-6552-4d23-a9a7-d2105861b484"
      },
      "execution_count": 48,
      "outputs": [
        {
          "output_type": "stream",
          "name": "stdout",
          "text": [
            "A:\n"
          ]
        },
        {
          "output_type": "execute_result",
          "data": {
            "text/plain": [
              "⎡1  2  3⎤\n",
              "⎢       ⎥\n",
              "⎣3  2  1⎦"
            ],
            "text/latex": "$\\displaystyle \\left[\\begin{matrix}1 & 2 & 3\\\\3 & 2 & 1\\end{matrix}\\right]$"
          },
          "metadata": {},
          "execution_count": 48
        }
      ]
    },
    {
      "cell_type": "code",
      "source": [
        "B = Matrix([[0,2],[1,-1],[0,1]])\n",
        "print(\"B:\")\n",
        "B"
      ],
      "metadata": {
        "colab": {
          "base_uri": "https://localhost:8080/",
          "height": 95
        },
        "id": "FodZIKBI3qow",
        "outputId": "bf83226c-4b5f-4035-ca22-ff75d6044b56"
      },
      "execution_count": 49,
      "outputs": [
        {
          "output_type": "stream",
          "name": "stdout",
          "text": [
            "B:\n"
          ]
        },
        {
          "output_type": "execute_result",
          "data": {
            "text/plain": [
              "⎡0  2 ⎤\n",
              "⎢     ⎥\n",
              "⎢1  -1⎥\n",
              "⎢     ⎥\n",
              "⎣0  1 ⎦"
            ],
            "text/latex": "$\\displaystyle \\left[\\begin{matrix}0 & 2\\\\1 & -1\\\\0 & 1\\end{matrix}\\right]$"
          },
          "metadata": {},
          "execution_count": 49
        }
      ]
    },
    {
      "cell_type": "code",
      "source": [
        "AB =A*B\n",
        "print(\"AB:\")\n",
        "AB"
      ],
      "metadata": {
        "colab": {
          "base_uri": "https://localhost:8080/",
          "height": 75
        },
        "id": "aMFLcqRVVVyj",
        "outputId": "a31295e6-edd1-43b7-8d00-6fc81fbc060d"
      },
      "execution_count": 50,
      "outputs": [
        {
          "output_type": "stream",
          "name": "stdout",
          "text": [
            "AB:\n"
          ]
        },
        {
          "output_type": "execute_result",
          "data": {
            "text/plain": [
              "⎡2  3⎤\n",
              "⎢    ⎥\n",
              "⎣2  5⎦"
            ],
            "text/latex": "$\\displaystyle \\left[\\begin{matrix}2 & 3\\\\2 & 5\\end{matrix}\\right]$"
          },
          "metadata": {},
          "execution_count": 50
        }
      ]
    },
    {
      "cell_type": "code",
      "source": [
        "BA = B*A\n",
        "BA"
      ],
      "metadata": {
        "colab": {
          "base_uri": "https://localhost:8080/",
          "height": 78
        },
        "id": "ST2xfiBOVxRy",
        "outputId": "3cc2502c-d056-4a16-d017-f0f2e5d4cd54"
      },
      "execution_count": null,
      "outputs": [
        {
          "output_type": "execute_result",
          "data": {
            "text/plain": [
              "Matrix([\n",
              "[ 6, 4, 2],\n",
              "[-2, 0, 2],\n",
              "[ 3, 2, 1]])"
            ],
            "text/latex": "$\\displaystyle \\left[\\begin{matrix}6 & 4 & 2\\\\-2 & 0 & 2\\\\3 & 2 & 1\\end{matrix}\\right]$"
          },
          "metadata": {},
          "execution_count": 17
        }
      ]
    },
    {
      "cell_type": "code",
      "source": [
        "print(\"transposing A:\")\n",
        "A.T"
      ],
      "metadata": {
        "colab": {
          "base_uri": "https://localhost:8080/",
          "height": 95
        },
        "id": "CuHx_fnJV0nS",
        "outputId": "be1b76f7-72be-456c-802b-69cfc5385767"
      },
      "execution_count": null,
      "outputs": [
        {
          "output_type": "stream",
          "name": "stdout",
          "text": [
            "transposing A:\n"
          ]
        },
        {
          "output_type": "execute_result",
          "data": {
            "text/plain": [
              "Matrix([\n",
              "[1, 3],\n",
              "[2, 2],\n",
              "[3, 1]])"
            ],
            "text/latex": "$\\displaystyle \\left[\\begin{matrix}1 & 3\\\\2 & 2\\\\3 & 1\\end{matrix}\\right]$"
          },
          "metadata": {},
          "execution_count": 18
        }
      ]
    },
    {
      "cell_type": "markdown",
      "metadata": {
        "id": "HrEi6UUW9NZE"
      },
      "source": [
        "#### Figure 2.5\n",
        "*Even if both matrix multiplciations $AB$ and $BA$ are defined, the dimensions of the results can be different.*"
      ]
    },
    {
      "cell_type": "code",
      "source": [
        "print(\"another way to multiply matrices\")\n",
        "B@A\n",
        "A@B #as seen above"
      ],
      "metadata": {
        "colab": {
          "base_uri": "https://localhost:8080/",
          "height": 75
        },
        "id": "GFkwyoC5V9Eh",
        "outputId": "c6f1c14b-82a0-4a59-db64-ee08cd45ae5e"
      },
      "execution_count": null,
      "outputs": [
        {
          "output_type": "stream",
          "name": "stdout",
          "text": [
            "another way to multiply matrices\n"
          ]
        },
        {
          "output_type": "execute_result",
          "data": {
            "text/plain": [
              "Matrix([\n",
              "[2, 3],\n",
              "[2, 5]])"
            ],
            "text/latex": "$\\displaystyle \\left[\\begin{matrix}2 & 3\\\\2 & 5\\end{matrix}\\right]$"
          },
          "metadata": {},
          "execution_count": 19
        }
      ]
    },
    {
      "cell_type": "markdown",
      "metadata": {
        "id": "WrEXo5cc9NZF"
      },
      "source": [
        "### Example 2.4 (Inverse Matrix)\n",
        "The matrices are inverse to each other since $AB = I = BA$."
      ]
    },
    {
      "cell_type": "code",
      "source": [
        "A = Matrix([[1,2,1],[4,4,5],[6,7,7]])\n",
        "print(\"A:\")\n",
        "A\n"
      ],
      "metadata": {
        "colab": {
          "base_uri": "https://localhost:8080/",
          "height": 95
        },
        "id": "SYko9RmJWSfm",
        "outputId": "caa00710-911c-4c4a-94df-146f8d3d831e"
      },
      "execution_count": 52,
      "outputs": [
        {
          "output_type": "stream",
          "name": "stdout",
          "text": [
            "A:\n"
          ]
        },
        {
          "output_type": "execute_result",
          "data": {
            "text/plain": [
              "⎡1  2  1⎤\n",
              "⎢       ⎥\n",
              "⎢4  4  5⎥\n",
              "⎢       ⎥\n",
              "⎣6  7  7⎦"
            ],
            "text/latex": "$\\displaystyle \\left[\\begin{matrix}1 & 2 & 1\\\\4 & 4 & 5\\\\6 & 7 & 7\\end{matrix}\\right]$"
          },
          "metadata": {},
          "execution_count": 52
        }
      ]
    },
    {
      "cell_type": "code",
      "source": [
        "B = Matrix([[-7,-7,6],[2,1,-1],[4,5,-4]])\n",
        "print(\"B:\")\n",
        "B\n"
      ],
      "metadata": {
        "colab": {
          "base_uri": "https://localhost:8080/",
          "height": 95
        },
        "id": "RECx0I_O6Ey0",
        "outputId": "2378e561-0615-441b-a0b6-23be684f69a0"
      },
      "execution_count": 53,
      "outputs": [
        {
          "output_type": "stream",
          "name": "stdout",
          "text": [
            "B:\n"
          ]
        },
        {
          "output_type": "execute_result",
          "data": {
            "text/plain": [
              "⎡-7  -7  6 ⎤\n",
              "⎢          ⎥\n",
              "⎢2   1   -1⎥\n",
              "⎢          ⎥\n",
              "⎣4   5   -4⎦"
            ],
            "text/latex": "$\\displaystyle \\left[\\begin{matrix}-7 & -7 & 6\\\\2 & 1 & -1\\\\4 & 5 & -4\\end{matrix}\\right]$"
          },
          "metadata": {},
          "execution_count": 53
        }
      ]
    },
    {
      "cell_type": "code",
      "source": [
        "print(\"AB:\")\n",
        "A*B\n",
        "\n"
      ],
      "metadata": {
        "colab": {
          "base_uri": "https://localhost:8080/",
          "height": 95
        },
        "id": "RwXBOd5G6Hw8",
        "outputId": "58f349e3-d135-4d6c-8cf0-39f038dd53f4"
      },
      "execution_count": 54,
      "outputs": [
        {
          "output_type": "stream",
          "name": "stdout",
          "text": [
            "AB:\n"
          ]
        },
        {
          "output_type": "execute_result",
          "data": {
            "text/plain": [
              "⎡1  0  0⎤\n",
              "⎢       ⎥\n",
              "⎢0  1  0⎥\n",
              "⎢       ⎥\n",
              "⎣0  0  1⎦"
            ],
            "text/latex": "$\\displaystyle \\left[\\begin{matrix}1 & 0 & 0\\\\0 & 1 & 0\\\\0 & 0 & 1\\end{matrix}\\right]$"
          },
          "metadata": {},
          "execution_count": 54
        }
      ]
    },
    {
      "cell_type": "code",
      "source": [
        "print(\"BA:\")\n",
        "B*A\n"
      ],
      "metadata": {
        "colab": {
          "base_uri": "https://localhost:8080/",
          "height": 95
        },
        "id": "YalxU7Kp6Jrt",
        "outputId": "11f6253f-cee5-451c-9a3d-a510f60aea9e"
      },
      "execution_count": 55,
      "outputs": [
        {
          "output_type": "stream",
          "name": "stdout",
          "text": [
            "BA:\n"
          ]
        },
        {
          "output_type": "execute_result",
          "data": {
            "text/plain": [
              "⎡1  0  0⎤\n",
              "⎢       ⎥\n",
              "⎢0  1  0⎥\n",
              "⎢       ⎥\n",
              "⎣0  0  1⎦"
            ],
            "text/latex": "$\\displaystyle \\left[\\begin{matrix}1 & 0 & 0\\\\0 & 1 & 0\\\\0 & 0 & 1\\end{matrix}\\right]$"
          },
          "metadata": {},
          "execution_count": 55
        }
      ]
    },
    {
      "cell_type": "code",
      "source": [
        "\n",
        "print(\"equal?\")\n",
        "A*B == B*A"
      ],
      "metadata": {
        "colab": {
          "base_uri": "https://localhost:8080/"
        },
        "id": "Z3UOk5-S6MI6",
        "outputId": "f346f5a5-eba0-49be-878d-4b8b4c98c6d5"
      },
      "execution_count": 56,
      "outputs": [
        {
          "output_type": "stream",
          "name": "stdout",
          "text": [
            "equal?\n"
          ]
        },
        {
          "output_type": "execute_result",
          "data": {
            "text/plain": [
              "True"
            ]
          },
          "metadata": {},
          "execution_count": 56
        }
      ]
    },
    {
      "cell_type": "markdown",
      "metadata": {
        "id": "HctH2O0k9NZF"
      },
      "source": [
        "### Example 2.5 (Distributivity)\n",
        "$ a\\left[\\begin{matrix}1 & 2\\\\3 & 4\\end{matrix}\\right] + b \\left[\\begin{matrix}1 & 2\\\\3 & 4\\end{matrix}\\right] = (a+b) \\left[\\begin{matrix}1 & 2\\\\3 & 4\\end{matrix}\\right]  $\n"
      ]
    },
    {
      "cell_type": "code",
      "source": [
        "C = Matrix([[1,2],[3,4]])\n",
        "display(C)\n",
        "a=2;b=3\n",
        "print('a =', a, 'b =', b)"
      ],
      "metadata": {
        "id": "juMC93VMXL6T",
        "colab": {
          "base_uri": "https://localhost:8080/",
          "height": 75
        },
        "outputId": "2881bb4f-ae91-4649-e517-c5eb5ab86005"
      },
      "execution_count": 65,
      "outputs": [
        {
          "output_type": "display_data",
          "data": {
            "text/plain": [
              "⎡1  2⎤\n",
              "⎢    ⎥\n",
              "⎣3  4⎦"
            ],
            "text/latex": "$\\displaystyle \\left[\\begin{matrix}1 & 2\\\\3 & 4\\end{matrix}\\right]$"
          },
          "metadata": {}
        },
        {
          "output_type": "stream",
          "name": "stdout",
          "text": [
            "a = 2 b = 3\n"
          ]
        }
      ]
    },
    {
      "cell_type": "code",
      "source": [
        "print(\"right hand side of the equation\")\n",
        "(a + b)*C\n"
      ],
      "metadata": {
        "colab": {
          "base_uri": "https://localhost:8080/",
          "height": 75
        },
        "id": "aMb0gpttXcd4",
        "outputId": "770eb399-360a-469a-f4f2-143152ed4da9"
      },
      "execution_count": 70,
      "outputs": [
        {
          "output_type": "stream",
          "name": "stdout",
          "text": [
            "right hand side of the equation\n"
          ]
        },
        {
          "output_type": "execute_result",
          "data": {
            "text/plain": [
              "⎡5   10⎤\n",
              "⎢      ⎥\n",
              "⎣15  20⎦"
            ],
            "text/latex": "$\\displaystyle \\left[\\begin{matrix}5 & 10\\\\15 & 20\\end{matrix}\\right]$"
          },
          "metadata": {},
          "execution_count": 70
        }
      ]
    },
    {
      "cell_type": "code",
      "source": [
        "step1 = a*C\n",
        "step2 = b*C\n",
        "print(\"distributed solution on the left:\")\n",
        "step1 + step2"
      ],
      "metadata": {
        "colab": {
          "base_uri": "https://localhost:8080/",
          "height": 75
        },
        "id": "DenhUF2j9DHY",
        "outputId": "11a8055b-29d2-4f6c-f36e-ebc2d1ed40ba"
      },
      "execution_count": 71,
      "outputs": [
        {
          "output_type": "stream",
          "name": "stdout",
          "text": [
            "distributed solution on the left:\n"
          ]
        },
        {
          "output_type": "execute_result",
          "data": {
            "text/plain": [
              "⎡5   10⎤\n",
              "⎢      ⎥\n",
              "⎣15  20⎦"
            ],
            "text/latex": "$\\displaystyle \\left[\\begin{matrix}5 & 10\\\\15 & 20\\end{matrix}\\right]$"
          },
          "metadata": {},
          "execution_count": 71
        }
      ]
    },
    {
      "cell_type": "markdown",
      "metadata": {
        "id": "VXB2rzs_9NZG"
      },
      "source": [
        "## 2.3 Solving Systems of Linear Equations"
      ]
    },
    {
      "cell_type": "markdown",
      "metadata": {
        "id": "p6dhC_1x9NZM"
      },
      "source": [
        "### Example 2.6\n",
        "Elementary operations are key to solving systems of linear equations and involve the following.\n",
        "1. Exchange of two equations, or rows in the matrix.\n",
        "2. Multiplication of an equation, or row, with a constant $\\lambda \\in \\mathbb{R}$.\n",
        "3. Addition of two equation, or rows."
      ]
    },
    {
      "cell_type": "code",
      "source": [
        "a = Symbol('a')\n",
        "A = Matrix([[-2,4,-2,-1,4],[4,-8,3,-3,1],[1,-2,1,-1,1],[1,-2,0,-3,4]])\n",
        "print('A')\n",
        "A\n"
      ],
      "metadata": {
        "colab": {
          "base_uri": "https://localhost:8080/",
          "height": 115
        },
        "id": "39x9QBIM2Fik",
        "outputId": "5bde4f52-1d03-4a13-bb4a-af3257f0dba8"
      },
      "execution_count": 77,
      "outputs": [
        {
          "output_type": "stream",
          "name": "stdout",
          "text": [
            "A\n"
          ]
        },
        {
          "output_type": "execute_result",
          "data": {
            "text/plain": [
              "⎡-2  4   -2  -1  4⎤\n",
              "⎢                 ⎥\n",
              "⎢4   -8  3   -3  1⎥\n",
              "⎢                 ⎥\n",
              "⎢1   -2  1   -1  1⎥\n",
              "⎢                 ⎥\n",
              "⎣1   -2  0   -3  4⎦"
            ],
            "text/latex": "$\\displaystyle \\left[\\begin{matrix}-2 & 4 & -2 & -1 & 4\\\\4 & -8 & 3 & -3 & 1\\\\1 & -2 & 1 & -1 & 1\\\\1 & -2 & 0 & -3 & 4\\end{matrix}\\right]$"
          },
          "metadata": {},
          "execution_count": 77
        }
      ]
    },
    {
      "cell_type": "code",
      "source": [
        "b = Matrix([-3,2,0,a])\n",
        "print('b:')\n",
        "b\n"
      ],
      "metadata": {
        "colab": {
          "base_uri": "https://localhost:8080/",
          "height": 115
        },
        "id": "XLCqwPVwARyb",
        "outputId": "22e2ee00-b54f-4ffa-8990-b3bd43dfce98"
      },
      "execution_count": 78,
      "outputs": [
        {
          "output_type": "stream",
          "name": "stdout",
          "text": [
            "b:\n"
          ]
        },
        {
          "output_type": "execute_result",
          "data": {
            "text/plain": [
              "⎡-3⎤\n",
              "⎢  ⎥\n",
              "⎢2 ⎥\n",
              "⎢  ⎥\n",
              "⎢0 ⎥\n",
              "⎢  ⎥\n",
              "⎣a ⎦"
            ],
            "text/latex": "$\\displaystyle \\left[\\begin{matrix}-3\\\\2\\\\0\\\\a\\end{matrix}\\right]$"
          },
          "metadata": {},
          "execution_count": 78
        }
      ]
    },
    {
      "cell_type": "code",
      "source": [
        "Ab = Matrix.hstack(A,b)\n",
        "print('Ab:')\n",
        "Ab"
      ],
      "metadata": {
        "colab": {
          "base_uri": "https://localhost:8080/",
          "height": 115
        },
        "id": "C2bqJycxAYJE",
        "outputId": "b5bf94c8-58d9-473f-b62b-0cb3d8abed50"
      },
      "execution_count": 79,
      "outputs": [
        {
          "output_type": "stream",
          "name": "stdout",
          "text": [
            "Ab:\n"
          ]
        },
        {
          "output_type": "execute_result",
          "data": {
            "text/plain": [
              "⎡-2  4   -2  -1  4  -3⎤\n",
              "⎢                     ⎥\n",
              "⎢4   -8  3   -3  1  2 ⎥\n",
              "⎢                     ⎥\n",
              "⎢1   -2  1   -1  1  0 ⎥\n",
              "⎢                     ⎥\n",
              "⎣1   -2  0   -3  4  a ⎦"
            ],
            "text/latex": "$\\displaystyle \\left[\\begin{matrix}-2 & 4 & -2 & -1 & 4 & -3\\\\4 & -8 & 3 & -3 & 1 & 2\\\\1 & -2 & 1 & -1 & 1 & 0\\\\1 & -2 & 0 & -3 & 4 & a\\end{matrix}\\right]$"
          },
          "metadata": {},
          "execution_count": 79
        }
      ]
    },
    {
      "cell_type": "code",
      "source": [
        "Ab.row_swap(0,2)\n",
        "Ab"
      ],
      "metadata": {
        "colab": {
          "base_uri": "https://localhost:8080/",
          "height": 98
        },
        "id": "ZfDwmZfq2aAM",
        "outputId": "430553bb-cfbd-4590-c58a-1f55ccd0cc93"
      },
      "execution_count": 80,
      "outputs": [
        {
          "output_type": "execute_result",
          "data": {
            "text/plain": [
              "⎡1   -2  1   -1  1  0 ⎤\n",
              "⎢                     ⎥\n",
              "⎢4   -8  3   -3  1  2 ⎥\n",
              "⎢                     ⎥\n",
              "⎢-2  4   -2  -1  4  -3⎥\n",
              "⎢                     ⎥\n",
              "⎣1   -2  0   -3  4  a ⎦"
            ],
            "text/latex": "$\\displaystyle \\left[\\begin{matrix}1 & -2 & 1 & -1 & 1 & 0\\\\4 & -8 & 3 & -3 & 1 & 2\\\\-2 & 4 & -2 & -1 & 4 & -3\\\\1 & -2 & 0 & -3 & 4 & a\\end{matrix}\\right]$"
          },
          "metadata": {},
          "execution_count": 80
        }
      ]
    },
    {
      "cell_type": "code",
      "source": [
        "Ab[3,:] = -1*Ab[0,:]+Ab[3,:] # Addition of two equation, or rows. Subtract row 1 from 4.\n",
        "Ab"
      ],
      "metadata": {
        "colab": {
          "base_uri": "https://localhost:8080/",
          "height": 98
        },
        "id": "H9gUczNd2xEP",
        "outputId": "38438643-f263-443c-a6ff-aadbfe413cf7"
      },
      "execution_count": 81,
      "outputs": [
        {
          "output_type": "execute_result",
          "data": {
            "text/plain": [
              "⎡1   -2  1   -1  1  0 ⎤\n",
              "⎢                     ⎥\n",
              "⎢4   -8  3   -3  1  2 ⎥\n",
              "⎢                     ⎥\n",
              "⎢-2  4   -2  -1  4  -3⎥\n",
              "⎢                     ⎥\n",
              "⎣0   0   -1  -2  3  a ⎦"
            ],
            "text/latex": "$\\displaystyle \\left[\\begin{matrix}1 & -2 & 1 & -1 & 1 & 0\\\\4 & -8 & 3 & -3 & 1 & 2\\\\-2 & 4 & -2 & -1 & 4 & -3\\\\0 & 0 & -1 & -2 & 3 & a\\end{matrix}\\right]$"
          },
          "metadata": {},
          "execution_count": 81
        }
      ]
    },
    {
      "cell_type": "code",
      "source": [
        "Ab[2,:] = 2*Ab[0,:] + Ab[2,:]  # Addition of two equation, or rows. Add 2 * row 1 to row 3.\n",
        "Ab"
      ],
      "metadata": {
        "colab": {
          "base_uri": "https://localhost:8080/",
          "height": 98
        },
        "id": "5NOjLUji2x8D",
        "outputId": "8c7c4f9f-6ed6-4326-ba01-7a5661a144de"
      },
      "execution_count": 82,
      "outputs": [
        {
          "output_type": "execute_result",
          "data": {
            "text/plain": [
              "⎡1  -2  1   -1  1  0 ⎤\n",
              "⎢                    ⎥\n",
              "⎢4  -8  3   -3  1  2 ⎥\n",
              "⎢                    ⎥\n",
              "⎢0  0   0   -3  6  -3⎥\n",
              "⎢                    ⎥\n",
              "⎣0  0   -1  -2  3  a ⎦"
            ],
            "text/latex": "$\\displaystyle \\left[\\begin{matrix}1 & -2 & 1 & -1 & 1 & 0\\\\4 & -8 & 3 & -3 & 1 & 2\\\\0 & 0 & 0 & -3 & 6 & -3\\\\0 & 0 & -1 & -2 & 3 & a\\end{matrix}\\right]$"
          },
          "metadata": {},
          "execution_count": 82
        }
      ]
    },
    {
      "cell_type": "code",
      "source": [
        "Ab[1,:] = -4*Ab[0,:] + Ab[1,:] # Addition of two equation, or rows. Subtract 4 * row 1 to row 2\n",
        "Ab"
      ],
      "metadata": {
        "colab": {
          "base_uri": "https://localhost:8080/",
          "height": 98
        },
        "id": "RF6Q_HY32zaf",
        "outputId": "b6292830-308f-46bf-dacd-708bb9876655"
      },
      "execution_count": 83,
      "outputs": [
        {
          "output_type": "execute_result",
          "data": {
            "text/plain": [
              "⎡1  -2  1   -1  1   0 ⎤\n",
              "⎢                     ⎥\n",
              "⎢0  0   -1  1   -3  2 ⎥\n",
              "⎢                     ⎥\n",
              "⎢0  0   0   -3  6   -3⎥\n",
              "⎢                     ⎥\n",
              "⎣0  0   -1  -2  3   a ⎦"
            ],
            "text/latex": "$\\displaystyle \\left[\\begin{matrix}1 & -2 & 1 & -1 & 1 & 0\\\\0 & 0 & -1 & 1 & -3 & 2\\\\0 & 0 & 0 & -3 & 6 & -3\\\\0 & 0 & -1 & -2 & 3 & a\\end{matrix}\\right]$"
          },
          "metadata": {},
          "execution_count": 83
        }
      ]
    },
    {
      "cell_type": "code",
      "source": [
        "Ab[3,:] = -Ab[1,:] +Ab[3,:]# Addition of two equation, or rows. Add -Row 2 to Row 4\n",
        "Ab"
      ],
      "metadata": {
        "colab": {
          "base_uri": "https://localhost:8080/",
          "height": 98
        },
        "id": "iPPvno5S2081",
        "outputId": "4f1bdd05-34a1-4e08-ba49-5e2ca03845e2"
      },
      "execution_count": 84,
      "outputs": [
        {
          "output_type": "execute_result",
          "data": {
            "text/plain": [
              "⎡1  -2  1   -1  1     0  ⎤\n",
              "⎢                        ⎥\n",
              "⎢0  0   -1  1   -3    2  ⎥\n",
              "⎢                        ⎥\n",
              "⎢0  0   0   -3  6    -3  ⎥\n",
              "⎢                        ⎥\n",
              "⎣0  0   0   -3  6   a - 2⎦"
            ],
            "text/latex": "$\\displaystyle \\left[\\begin{matrix}1 & -2 & 1 & -1 & 1 & 0\\\\0 & 0 & -1 & 1 & -3 & 2\\\\0 & 0 & 0 & -3 & 6 & -3\\\\0 & 0 & 0 & -3 & 6 & a - 2\\end{matrix}\\right]$"
          },
          "metadata": {},
          "execution_count": 84
        }
      ]
    },
    {
      "cell_type": "code",
      "source": [
        "Ab[3,:] = -Ab[2,:] + Ab[3,:]\n",
        "Ab"
      ],
      "metadata": {
        "colab": {
          "base_uri": "https://localhost:8080/",
          "height": 98
        },
        "id": "lpJrXbTl23Zn",
        "outputId": "2137fb9f-ea99-41e5-f6f0-8f3a78576b8d"
      },
      "execution_count": 85,
      "outputs": [
        {
          "output_type": "execute_result",
          "data": {
            "text/plain": [
              "⎡1  -2  1   -1  1     0  ⎤\n",
              "⎢                        ⎥\n",
              "⎢0  0   -1  1   -3    2  ⎥\n",
              "⎢                        ⎥\n",
              "⎢0  0   0   -3  6    -3  ⎥\n",
              "⎢                        ⎥\n",
              "⎣0  0   0   0   0   a + 1⎦"
            ],
            "text/latex": "$\\displaystyle \\left[\\begin{matrix}1 & -2 & 1 & -1 & 1 & 0\\\\0 & 0 & -1 & 1 & -3 & 2\\\\0 & 0 & 0 & -3 & 6 & -3\\\\0 & 0 & 0 & 0 & 0 & a + 1\\end{matrix}\\right]$"
          },
          "metadata": {},
          "execution_count": 85
        }
      ]
    },
    {
      "cell_type": "code",
      "source": [
        "Ab[1,:] = -1*Ab[1,:] # Multiplication of an equation, or row, with a constant. Invert row 2\n",
        "# Ab = Ab.astype(float)\n",
        "Ab"
      ],
      "metadata": {
        "colab": {
          "base_uri": "https://localhost:8080/",
          "height": 98
        },
        "id": "-FItqm_Z24dI",
        "outputId": "5bd17220-1be3-4298-f0fd-55eae193b76d"
      },
      "execution_count": 86,
      "outputs": [
        {
          "output_type": "execute_result",
          "data": {
            "text/plain": [
              "⎡1  -2  1  -1  1    0  ⎤\n",
              "⎢                      ⎥\n",
              "⎢0  0   1  -1  3   -2  ⎥\n",
              "⎢                      ⎥\n",
              "⎢0  0   0  -3  6   -3  ⎥\n",
              "⎢                      ⎥\n",
              "⎣0  0   0  0   0  a + 1⎦"
            ],
            "text/latex": "$\\displaystyle \\left[\\begin{matrix}1 & -2 & 1 & -1 & 1 & 0\\\\0 & 0 & 1 & -1 & 3 & -2\\\\0 & 0 & 0 & -3 & 6 & -3\\\\0 & 0 & 0 & 0 & 0 & a + 1\\end{matrix}\\right]$"
          },
          "metadata": {},
          "execution_count": 86
        }
      ]
    },
    {
      "cell_type": "code",
      "source": [
        "Ab[2,:] = -1/3*Ab[2,:] # Multiplication of an equation, or row, with a constant. Divide row 3 by -3\n",
        "Ab"
      ],
      "metadata": {
        "colab": {
          "base_uri": "https://localhost:8080/",
          "height": 98
        },
        "id": "Dm5fkygl26q0",
        "outputId": "2054b707-bde8-4805-a594-8f5e2e01bccf"
      },
      "execution_count": 87,
      "outputs": [
        {
          "output_type": "execute_result",
          "data": {
            "text/plain": [
              "⎡1  -2  1  -1    1      0  ⎤\n",
              "⎢                          ⎥\n",
              "⎢0  0   1  -1    3     -2  ⎥\n",
              "⎢                          ⎥\n",
              "⎢0  0   0  1.0  -2.0   1.0 ⎥\n",
              "⎢                          ⎥\n",
              "⎣0  0   0   0    0    a + 1⎦"
            ],
            "text/latex": "$\\displaystyle \\left[\\begin{matrix}1 & -2 & 1 & -1 & 1 & 0\\\\0 & 0 & 1 & -1 & 3 & -2\\\\0 & 0 & 0 & 1.0 & -2.0 & 1.0\\\\0 & 0 & 0 & 0 & 0 & a + 1\\end{matrix}\\right]$"
          },
          "metadata": {},
          "execution_count": 87
        }
      ]
    },
    {
      "cell_type": "markdown",
      "source": [
        "Clearly $ a+1=0$, that is the solution exists only if $a=-1$."
      ],
      "metadata": {
        "id": "qijuv6xrr_qN"
      }
    },
    {
      "cell_type": "code",
      "source": [
        "solveset(Eq(a+1,0), a)  # solve lin eq with sympy"
      ],
      "metadata": {
        "colab": {
          "base_uri": "https://localhost:8080/",
          "height": 37
        },
        "id": "XxLiWMuU3ctw",
        "outputId": "81cfbd07-30b3-4b42-b7bd-26367f2937a6"
      },
      "execution_count": null,
      "outputs": [
        {
          "output_type": "execute_result",
          "data": {
            "text/plain": [
              "{-1}"
            ],
            "text/latex": "$\\displaystyle \\left\\{-1\\right\\}$"
          },
          "metadata": {},
          "execution_count": 38
        }
      ]
    },
    {
      "cell_type": "code",
      "source": [
        "Ab[3,5] = 0\n",
        "Ab"
      ],
      "metadata": {
        "colab": {
          "base_uri": "https://localhost:8080/",
          "height": 98
        },
        "id": "Xfm1122X3fzy",
        "outputId": "9939477d-28ff-4a2b-c3db-93a5547da6be"
      },
      "execution_count": null,
      "outputs": [
        {
          "output_type": "execute_result",
          "data": {
            "text/plain": [
              "Matrix([\n",
              "[1, -2, 1,  -1,    1,   0],\n",
              "[0,  0, 1,  -1,    3,  -2],\n",
              "[0,  0, 0, 1.0, -2.0, 1.0],\n",
              "[0,  0, 0,   0,    0,   0]])"
            ],
            "text/latex": "$\\displaystyle \\left[\\begin{matrix}1 & -2 & 1 & -1 & 1 & 0\\\\0 & 0 & 1 & -1 & 3 & -2\\\\0 & 0 & 0 & 1.0 & -2.0 & 1.0\\\\0 & 0 & 0 & 0 & 0 & 0\\end{matrix}\\right]$"
          },
          "metadata": {},
          "execution_count": 39
        }
      ]
    },
    {
      "cell_type": "markdown",
      "metadata": {
        "id": "oIBVCvD9DOM3"
      },
      "source": [
        "We keep doing Gaussian Elimination until we get Reduced Row Echelon form\n",
        "\n"
      ]
    },
    {
      "cell_type": "code",
      "execution_count": null,
      "metadata": {
        "tags": [],
        "colab": {
          "base_uri": "https://localhost:8080/",
          "height": 98
        },
        "id": "73Ozr35uDOM4",
        "outputId": "6836fd35-d1c3-4523-daf0-1a706b112479"
      },
      "outputs": [
        {
          "output_type": "execute_result",
          "data": {
            "text/plain": [
              "Matrix([\n",
              "[1, -2, 0,   0,   -2,   2],\n",
              "[0,  0, 1,  -1,    3,  -2],\n",
              "[0,  0, 0, 1.0, -2.0, 1.0],\n",
              "[0,  0, 0,   0,    0,   0]])"
            ],
            "text/latex": "$\\displaystyle \\left[\\begin{matrix}1 & -2 & 0 & 0 & -2 & 2\\\\0 & 0 & 1 & -1 & 3 & -2\\\\0 & 0 & 0 & 1.0 & -2.0 & 1.0\\\\0 & 0 & 0 & 0 & 0 & 0\\end{matrix}\\right]$"
          },
          "metadata": {},
          "execution_count": 40
        }
      ],
      "source": [
        "Ab[0,:] = Ab[0,:] + -1*Ab[1,:]\n",
        "Ab"
      ]
    },
    {
      "cell_type": "code",
      "source": [
        "Ab[1,:] = Ab[1,:] + Ab[2,:]\n",
        "Ab"
      ],
      "metadata": {
        "colab": {
          "base_uri": "https://localhost:8080/",
          "height": 98
        },
        "id": "6twJilC_w7_m",
        "outputId": "9d0d1ba8-94a5-4a01-e53b-78e2ba513241"
      },
      "execution_count": null,
      "outputs": [
        {
          "output_type": "execute_result",
          "data": {
            "text/plain": [
              "Matrix([\n",
              "[1, -2, 0,   0,   -2,    2],\n",
              "[0,  0, 1,   0,  1.0, -1.0],\n",
              "[0,  0, 0, 1.0, -2.0,  1.0],\n",
              "[0,  0, 0,   0,    0,    0]])"
            ],
            "text/latex": "$\\displaystyle \\left[\\begin{matrix}1 & -2 & 0 & 0 & -2 & 2\\\\0 & 0 & 1 & 0 & 1.0 & -1.0\\\\0 & 0 & 0 & 1.0 & -2.0 & 1.0\\\\0 & 0 & 0 & 0 & 0 & 0\\end{matrix}\\right]$"
          },
          "metadata": {},
          "execution_count": 41
        }
      ]
    },
    {
      "cell_type": "markdown",
      "source": [
        "The particular solution is generated by the **pivot** columns:\n",
        "$$\n",
        "  \\begin{bmatrix}\n",
        "  x_1\\\\ x_2\\\\ x_3 \\\\ x_4\\\\ x_5\n",
        "  \\end{bmatrix}\n",
        "  =\n",
        "\\begin{bmatrix}\n",
        " 2\\\\ 0\\\\ -1\\\\ 1\\\\ 0\n",
        " \\end{bmatrix}\n",
        " $$\n",
        "\n",
        " The other solutions are generated by combining the pivot and non pivot columns so as to get the zero vector.\n",
        "\n"
      ],
      "metadata": {
        "id": "GYK7PVm4zpP_"
      }
    },
    {
      "cell_type": "markdown",
      "metadata": {
        "id": "lPJZu4uPDOM5"
      },
      "source": [
        "### Example 2.7 (Reduced Row Echelon Form)"
      ]
    },
    {
      "cell_type": "code",
      "execution_count": null,
      "metadata": {
        "tags": [],
        "id": "kVs8NB8IDOM5",
        "outputId": "cb68527c-87f9-4f3c-d798-a4b6b332b387",
        "colab": {
          "base_uri": "https://localhost:8080/",
          "height": 78
        }
      },
      "outputs": [
        {
          "output_type": "execute_result",
          "data": {
            "text/plain": [
              "Matrix([\n",
              "[1, 3, 0, 0,  3],\n",
              "[0, 0, 1, 0,  9],\n",
              "[0, 0, 0, 1, -4]])"
            ],
            "text/latex": "$\\displaystyle \\left[\\begin{matrix}1 & 3 & 0 & 0 & 3\\\\0 & 0 & 1 & 0 & 9\\\\0 & 0 & 0 & 1 & -4\\end{matrix}\\right]$"
          },
          "metadata": {},
          "execution_count": 42
        }
      ],
      "source": [
        "A = Matrix([[1,3,0,0,3],[0,0,1,0,9],[0,0,0,1,-4]])\n",
        "A"
      ]
    },
    {
      "cell_type": "markdown",
      "metadata": {
        "id": "UfvkDAh7DOM6"
      },
      "source": [
        "\n",
        "*Look for solutions of Ax = 0 by looking at non-pivot columns*.\n",
        "\n",
        "1. The 2nd column is 3 times the 1st column.\n",
        "2. To obtain 0 we subtract the 2nd column from three times the 1st column.\n",
        "3. The 5th column is our 2nd non-pivot. It can be expressed as 3 times the 1st pivot column,\n",
        "    9 times the 2nd pivot column, and -4 times the 3rd pivot column.\n",
        "4. Track the indices of the pivot columns and translate this into:\n",
        "    1. 3 times the 1st pivot column,\n",
        "    2. 0 times the 2nd column, (the 1st non-pivot)\n",
        "    3. 9 times the 3rd column, and (the 2nd pivot column)\n",
        "    4. -4 times the 4th column  (the 3rd pivot column)\n",
        "5. Subtract the 5th column to obtain 0."
      ]
    },
    {
      "cell_type": "code",
      "execution_count": null,
      "metadata": {
        "tags": [],
        "id": "AwM1FX3v9NZV",
        "outputId": "d5b999ad-fcf2-4dbc-bb67-3ee9137b0c9a",
        "colab": {
          "base_uri": "https://localhost:8080/"
        }
      },
      "outputs": [
        {
          "output_type": "execute_result",
          "data": {
            "text/plain": [
              "True"
            ]
          },
          "metadata": {},
          "execution_count": 43
        }
      ],
      "source": [
        "A[:,1] == A[:,0]*3 #step 1"
      ]
    },
    {
      "cell_type": "code",
      "execution_count": null,
      "metadata": {
        "id": "TDs4qIZE9NZW",
        "outputId": "3573133d-068f-4ed1-b9e2-6e361115d8c5",
        "colab": {
          "base_uri": "https://localhost:8080/",
          "height": 78
        }
      },
      "outputs": [
        {
          "output_type": "execute_result",
          "data": {
            "text/plain": [
              "Matrix([\n",
              "[0],\n",
              "[0],\n",
              "[0]])"
            ],
            "text/latex": "$\\displaystyle \\left[\\begin{matrix}0\\\\0\\\\0\\end{matrix}\\right]$"
          },
          "metadata": {},
          "execution_count": 44
        }
      ],
      "source": [
        "A[:,0]*3 + A[:,1]*-1 #step 2\n",
        "A * Matrix([3,-1,0,0,0])"
      ]
    },
    {
      "cell_type": "code",
      "execution_count": null,
      "metadata": {
        "id": "s4b8zbXj9NZW",
        "outputId": "d8ea6842-10cb-4526-aa66-68a7275f2af7",
        "colab": {
          "base_uri": "https://localhost:8080/",
          "height": 78
        }
      },
      "outputs": [
        {
          "output_type": "execute_result",
          "data": {
            "text/plain": [
              "Matrix([\n",
              "[ 3],\n",
              "[ 9],\n",
              "[-4]])"
            ],
            "text/latex": "$\\displaystyle \\left[\\begin{matrix}3\\\\9\\\\-4\\end{matrix}\\right]$"
          },
          "metadata": {},
          "execution_count": 45
        }
      ],
      "source": [
        "A[:,4] #step 3\n",
        "A[:,0]*3 + A[:,2]*9 + A[:,3]*-4"
      ]
    },
    {
      "cell_type": "code",
      "execution_count": null,
      "metadata": {
        "id": "2QXiG-TT9NZW",
        "outputId": "181d0d8e-b1fa-418d-f0e1-947a1fdfe10b",
        "colab": {
          "base_uri": "https://localhost:8080/",
          "height": 78
        }
      },
      "outputs": [
        {
          "output_type": "execute_result",
          "data": {
            "text/plain": [
              "Matrix([\n",
              "[0],\n",
              "[0],\n",
              "[0]])"
            ],
            "text/latex": "$\\displaystyle \\left[\\begin{matrix}0\\\\0\\\\0\\end{matrix}\\right]$"
          },
          "metadata": {},
          "execution_count": 46
        }
      ],
      "source": [
        "A[:,0]*3 #step 4\n",
        "A[:,1]*0\n",
        "A[:,2]*9\n",
        "A[:,3]*-4\n",
        "A[:,4] + A[:,4]*-1 #step 5\n",
        "A * Matrix ([3,0,9,-4,-1])\n",
        "# Which leaves us with our solution of the vectors [3,-1,0,0,0],[3,0,9,-4,-1],\n",
        "# respectively scalable by lam 1 and 2."
      ]
    },
    {
      "cell_type": "markdown",
      "metadata": {
        "id": "rFtymN3SDOM7"
      },
      "source": [
        "### Example 2.8 (Minus-1 Trick)"
      ]
    },
    {
      "cell_type": "code",
      "execution_count": null,
      "metadata": {
        "id": "-OXWwJR_DOM7",
        "outputId": "4ba5035d-6e34-44ca-f356-0a9bcc05997f",
        "colab": {
          "base_uri": "https://localhost:8080/",
          "height": 78
        }
      },
      "outputs": [
        {
          "output_type": "execute_result",
          "data": {
            "text/plain": [
              "Matrix([\n",
              "[1, 3, 0, 0,  3],\n",
              "[0, 0, 1, 0,  9],\n",
              "[0, 0, 0, 1, -4]])"
            ],
            "text/latex": "$\\displaystyle \\left[\\begin{matrix}1 & 3 & 0 & 0 & 3\\\\0 & 0 & 1 & 0 & 9\\\\0 & 0 & 0 & 1 & -4\\end{matrix}\\right]$"
          },
          "metadata": {},
          "execution_count": 47
        }
      ],
      "source": [
        "A1 = A\n",
        "A1"
      ]
    },
    {
      "cell_type": "markdown",
      "metadata": {
        "id": "8yg_ytCUDOM8"
      },
      "source": [
        "The trick is to have the diagonal have either 1 or -1."
      ]
    },
    {
      "cell_type": "code",
      "execution_count": null,
      "metadata": {
        "id": "Z5PeHbX1DOM8",
        "outputId": "0c54991f-ce1f-4236-93e3-3162160739ed",
        "colab": {
          "base_uri": "https://localhost:8080/"
        }
      },
      "outputs": [
        {
          "output_type": "execute_result",
          "data": {
            "text/plain": [
              "array([[1, 3, 0, 0, 3],\n",
              "       [0, -1, 0, 0, 0],\n",
              "       [0, 0, 1, 0, 9],\n",
              "       [0, 0, 0, 1, -4],\n",
              "       [0, 0, 0, 0, -1]], dtype=object)"
            ]
          },
          "metadata": {},
          "execution_count": 48
        }
      ],
      "source": [
        "A1 = np.insert(A1,1,np.array([0,-1,0,0,0]),0)\n",
        "A1 = np.insert(A1,4,np.array([0,0,0,0,-1]),0)\n",
        "A1"
      ]
    },
    {
      "cell_type": "markdown",
      "metadata": {
        "id": "D_ZCJMs4DOM8"
      },
      "source": [
        "Which gives us the solution from Example 2.7 above in columns 2 and 5."
      ]
    },
    {
      "cell_type": "markdown",
      "metadata": {
        "id": "ek8q9qmkDOM8"
      },
      "source": [
        "### Example 2.9 (Calculating an Inverse Matrix by Gaussian Elimination)"
      ]
    },
    {
      "cell_type": "code",
      "execution_count": null,
      "metadata": {
        "id": "5p5WXj4eDOM8",
        "outputId": "a6ce4051-6b06-42fc-8377-9827dcc3c75d",
        "colab": {
          "base_uri": "https://localhost:8080/",
          "height": 98
        }
      },
      "outputs": [
        {
          "output_type": "execute_result",
          "data": {
            "text/plain": [
              "Matrix([\n",
              "[1, 0, 0, 0],\n",
              "[0, 1, 0, 0],\n",
              "[0, 0, 1, 0],\n",
              "[0, 0, 0, 1]])"
            ],
            "text/latex": "$\\displaystyle \\left[\\begin{matrix}1 & 0 & 0 & 0\\\\0 & 1 & 0 & 0\\\\0 & 0 & 1 & 0\\\\0 & 0 & 0 & 1\\end{matrix}\\right]$"
          },
          "metadata": {},
          "execution_count": 49
        }
      ],
      "source": [
        "A = Matrix([[1,0,2,0],[1,1,0,0],[1,2,0,1],[1,1,1,1]])\n",
        "aug = eye(4)\n",
        "aug"
      ]
    },
    {
      "cell_type": "code",
      "execution_count": null,
      "metadata": {
        "id": "-WW_fmoGDOM9",
        "outputId": "b3b2fefb-5988-4f3a-b751-e45c151a1e56",
        "colab": {
          "base_uri": "https://localhost:8080/",
          "height": 98
        }
      },
      "outputs": [
        {
          "output_type": "execute_result",
          "data": {
            "text/plain": [
              "Matrix([\n",
              "[1, 0, 2, 0, 1, 0, 0, 0],\n",
              "[1, 1, 0, 0, 0, 1, 0, 0],\n",
              "[1, 2, 0, 1, 0, 0, 1, 0],\n",
              "[1, 1, 1, 1, 0, 0, 0, 1]])"
            ],
            "text/latex": "$\\displaystyle \\left[\\begin{matrix}1 & 0 & 2 & 0 & 1 & 0 & 0 & 0\\\\1 & 1 & 0 & 0 & 0 & 1 & 0 & 0\\\\1 & 2 & 0 & 1 & 0 & 0 & 1 & 0\\\\1 & 1 & 1 & 1 & 0 & 0 & 0 & 1\\end{matrix}\\right]$"
          },
          "metadata": {},
          "execution_count": 50
        }
      ],
      "source": [
        "Aaug = Matrix.hstack(A, aug)\n",
        "Aaug"
      ]
    },
    {
      "cell_type": "code",
      "execution_count": null,
      "metadata": {
        "id": "MuyVwpgS9NZY",
        "outputId": "64646241-da2a-4d9a-c466-3fcf3fa35aad",
        "colab": {
          "base_uri": "https://localhost:8080/",
          "height": 98
        }
      },
      "outputs": [
        {
          "output_type": "execute_result",
          "data": {
            "text/plain": [
              "Matrix([\n",
              "[-1,  2, -2,  2],\n",
              "[ 1, -1,  2, -2],\n",
              "[ 1, -1,  1, -1],\n",
              "[-1,  0, -1,  2]])"
            ],
            "text/latex": "$\\displaystyle \\left[\\begin{matrix}-1 & 2 & -2 & 2\\\\1 & -1 & 2 & -2\\\\1 & -1 & 1 & -1\\\\-1 & 0 & -1 & 2\\end{matrix}\\right]$"
          },
          "metadata": {},
          "execution_count": 51
        }
      ],
      "source": [
        "A.inv() # Gaussian elimination as above, yields this as the RHS."
      ]
    },
    {
      "cell_type": "code",
      "execution_count": null,
      "metadata": {
        "id": "rH51NfNz9NZZ",
        "outputId": "9e70ba35-994f-4317-f65e-a038f146a6b2",
        "colab": {
          "base_uri": "https://localhost:8080/",
          "height": 98
        }
      },
      "outputs": [
        {
          "output_type": "execute_result",
          "data": {
            "text/plain": [
              "Matrix([\n",
              "[1, 0, 0, 0],\n",
              "[0, 1, 0, 0],\n",
              "[0, 0, 1, 0],\n",
              "[0, 0, 0, 1]])"
            ],
            "text/latex": "$\\displaystyle \\left[\\begin{matrix}1 & 0 & 0 & 0\\\\0 & 1 & 0 & 0\\\\0 & 0 & 1 & 0\\\\0 & 0 & 0 & 1\\end{matrix}\\right]$"
          },
          "metadata": {},
          "execution_count": 52
        }
      ],
      "source": [
        "#The inverse of a matrix is in essence the solution to the matrix given that it represents a system of equations.\n",
        "#This can be verified via AA^-1 = I\n",
        "A*A.inv()"
      ]
    }
  ]
}