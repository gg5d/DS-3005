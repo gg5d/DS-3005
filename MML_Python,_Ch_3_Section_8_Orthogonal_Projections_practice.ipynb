{
  "cells": [
    {
      "cell_type": "markdown",
      "metadata": {
        "id": "view-in-github",
        "colab_type": "text"
      },
      "source": [
        "<a href=\"https://colab.research.google.com/github/gg5d/DS-3005/blob/main/MML_Python%2C_Ch_3_Section_8_Orthogonal_Projections_practice.ipynb\" target=\"_parent\"><img src=\"https://colab.research.google.com/assets/colab-badge.svg\" alt=\"Open In Colab\"/></a>"
      ]
    },
    {
      "cell_type": "code",
      "execution_count": 1,
      "metadata": {
        "id": "RJa1ahMxDaWU"
      },
      "outputs": [],
      "source": [
        "import numpy as np\n",
        "import numpy.linalg as npl\n",
        "import matplotlib.pyplot as plt\n",
        "from matplotlib.pyplot import figure\n",
        "from sympy import *\n",
        "from sympy.abc import x\n",
        "from IPython.core.interactiveshell import InteractiveShell\n",
        "from mpl_toolkits.mplot3d import Axes3D\n",
        "from matplotlib import cm\n",
        "import random"
      ]
    },
    {
      "cell_type": "code",
      "execution_count": 2,
      "metadata": {
        "id": "TLooPUF7DaWV"
      },
      "outputs": [],
      "source": [
        "InteractiveShell.ast_node_interactivity = \"all\"\n",
        "plt.rcParams[ \"figure.figsize\" ] = (10,10)\n",
        "origin2D = np.vstack([0,0])\n",
        "origin3D = np.vstack([0,0,0])\n",
        "scale = 10"
      ]
    },
    {
      "cell_type": "markdown",
      "metadata": {
        "id": "O4n61rqTDaWg"
      },
      "source": [
        "# Chapter 03, Analytic Geometry\n",
        "## 3.8 Orthogonal Projections\n"
      ]
    },
    {
      "cell_type": "markdown",
      "metadata": {
        "id": "Zwd_9t64DaWi"
      },
      "source": [
        "Three steps to determine a projection between any vector x and some basis vector, b, for a subspace, U.\n",
        "\n",
        "1. Find the scalar, $\\lambda$ for b. Given that some projection, p, exists, the inner product between x-p and b, will equal 0. <br>\n",
        "    a. We know that the projection, p, can also be written as a scalar operation of our basis vector, b, so we say $\\langle x-\\lambda b,b \\rangle= 0$. <br>\n",
        "    b. We can then isolate the scalar, $\\lambda$, by seeing that the above is equal to the inner product of x and b minus $\\lambda \\langle b,b \\rangle = 0$ <br>\n",
        "    c. $\\lambda = \\frac{\\langle x,b \\rangle}{\\langle b,b \\rangle}$ which can also be written as the inner product between b and x divided by the squared norm of b, $\\frac{\\langle b,x \\rangle}{||b||^2}$.\n",
        "2. Find the point on U that the projection, p, will create. Seeing as $p = \\lambda b$, we take (c) from above to find $p = \\frac{\\langle x,b \\rangle}{\\langle b,b \\rangle} b$.\n",
        "3. Find a projection matrix $P_p$. We know a projection is simply a linear mapping, so we should be able to find a matrix, $P$, that takes any vector, $x$, and maps it, or creates a new projected vector, $p$, to our subspace or line, such that $p = P_p x$, and $P_p = \\frac{p}{x}$. <br>\n",
        "    a. Seeing as $p = \\frac{\\langle x,b \\rangle}{\\langle b,b \\rangle} b$, from 2. above, $P_p  = \\frac{1}{x}\\frac{\\langle x,b \\rangle}{\\langle b,b \\rangle} b = \\frac{bb^T}{\\langle b,b \\rangle}$\n",
        "    "
      ]
    },
    {
      "cell_type": "markdown",
      "metadata": {
        "id": "Dx80wur6DaWj"
      },
      "source": [
        "### Example 3.10 (Projection onto a Line): Project $\\vec{x}$ onto $\\vec{b}$"
      ]
    },
    {
      "cell_type": "code",
      "execution_count": 31,
      "metadata": {
        "colab": {
          "base_uri": "https://localhost:8080/",
          "height": 78
        },
        "id": "kqjN7cPVDaWj",
        "outputId": "9b2171f2-f4fe-4dc6-e7ca-4c4f4e136193"
      },
      "outputs": [
        {
          "output_type": "execute_result",
          "data": {
            "text/plain": [
              "Matrix([\n",
              "[1],\n",
              "[2],\n",
              "[2]])"
            ],
            "text/latex": "$\\displaystyle \\left[\\begin{matrix}1\\\\2\\\\2\\end{matrix}\\right]$"
          },
          "metadata": {},
          "execution_count": 31
        }
      ],
      "source": [
        "b = np.vstack([1,2,2])\n",
        "\n",
        "Matrix(b)"
      ]
    },
    {
      "cell_type": "code",
      "source": [
        "x = np.vstack([1,1,1])\n",
        "Matrix(x)"
      ],
      "metadata": {
        "colab": {
          "base_uri": "https://localhost:8080/",
          "height": 78
        },
        "id": "VyEJNQsRMTjB",
        "outputId": "ba1a16b4-d26b-4576-d09c-371fea009633"
      },
      "execution_count": 30,
      "outputs": [
        {
          "output_type": "execute_result",
          "data": {
            "text/plain": [
              "Matrix([\n",
              "[1],\n",
              "[1],\n",
              "[1]])"
            ],
            "text/latex": "$\\displaystyle \\left[\\begin{matrix}1\\\\1\\\\1\\end{matrix}\\right]$"
          },
          "metadata": {},
          "execution_count": 30
        }
      ]
    },
    {
      "cell_type": "code",
      "execution_count": 11,
      "metadata": {
        "colab": {
          "base_uri": "https://localhost:8080/",
          "height": 156
        },
        "id": "gijmQWAiDaWj",
        "outputId": "7897511e-a354-4f98-db3d-cc906acb7aa8"
      },
      "outputs": [
        {
          "output_type": "execute_result",
          "data": {
            "text/plain": [
              "Matrix([\n",
              "[1, 2, 2],\n",
              "[2, 4, 4],\n",
              "[2, 4, 4]])"
            ],
            "text/latex": "$\\displaystyle \\left[\\begin{matrix}1 & 2 & 2\\\\2 & 4 & 4\\\\2 & 4 & 4\\end{matrix}\\right]$"
          },
          "metadata": {},
          "execution_count": 11
        },
        {
          "output_type": "execute_result",
          "data": {
            "text/plain": [
              "9.0"
            ]
          },
          "metadata": {},
          "execution_count": 11
        },
        {
          "output_type": "execute_result",
          "data": {
            "text/plain": [
              "Matrix([\n",
              "[0.111111111111111, 0.222222222222222, 0.222222222222222],\n",
              "[0.222222222222222, 0.444444444444444, 0.444444444444444],\n",
              "[0.222222222222222, 0.444444444444444, 0.444444444444444]])"
            ],
            "text/latex": "$\\displaystyle \\left[\\begin{matrix}0.111111111111111 & 0.222222222222222 & 0.222222222222222\\\\0.222222222222222 & 0.444444444444444 & 0.444444444444444\\\\0.222222222222222 & 0.444444444444444 & 0.444444444444444\\end{matrix}\\right]$"
          },
          "metadata": {},
          "execution_count": 11
        }
      ],
      "source": [
        "# Find the matrix P\n",
        "\n",
        "\n",
        "Matrix(P)"
      ]
    },
    {
      "cell_type": "markdown",
      "source": [
        "Find the projection"
      ],
      "metadata": {
        "id": "qcCfjPVlMyUH"
      }
    },
    {
      "cell_type": "code",
      "execution_count": 25,
      "metadata": {
        "colab": {
          "base_uri": "https://localhost:8080/",
          "height": 78
        },
        "id": "r1Vmtw77DaWj",
        "outputId": "6730859a-8621-48e1-88ae-4b87bdf6039c"
      },
      "outputs": [
        {
          "output_type": "execute_result",
          "data": {
            "text/plain": [
              "Matrix([\n",
              "[1.0],\n",
              "[1.0],\n",
              "[1.0]])"
            ],
            "text/latex": "$\\displaystyle \\left[\\begin{matrix}1.0\\\\1.0\\\\1.0\\end{matrix}\\right]$"
          },
          "metadata": {},
          "execution_count": 25
        }
      ],
      "source": []
    },
    {
      "cell_type": "markdown",
      "metadata": {
        "id": "0lDfmOh6DaWj"
      },
      "source": [
        "**Steps 1-3 revisited for projection onto a general subspace.**\n",
        "\n",
        "1. Find lambdas of the projection with respect to the basis of the subspace. <br>\n",
        "    a. $\\lambda = (B^TB)^{-1}B^Tx$. Where $\\lambda$ is the set of all lambdas, and $B$ is the set of all bases.\n",
        "2. Find projection by multiplying lambda by B.\n",
        "3. Find the general projection matrix by dividing the projection in 2 by x."
      ]
    },
    {
      "cell_type": "markdown",
      "metadata": {
        "id": "iJ8BeibODaWk"
      },
      "source": [
        "### Example 3.11 (Projection onto a Two-dimensional Subspace)"
      ]
    },
    {
      "cell_type": "code",
      "execution_count": 33,
      "metadata": {
        "colab": {
          "base_uri": "https://localhost:8080/",
          "height": 139
        },
        "id": "qT5hSkusDaWk",
        "outputId": "e2ccaec4-eb9f-4d39-c3e1-0154a6b191c6"
      },
      "outputs": [
        {
          "output_type": "execute_result",
          "data": {
            "text/plain": [
              "Matrix([\n",
              "[1, 0],\n",
              "[1, 1],\n",
              "[1, 2]])"
            ],
            "text/latex": "$\\displaystyle \\left[\\begin{matrix}1 & 0\\\\1 & 1\\\\1 & 2\\end{matrix}\\right]$"
          },
          "metadata": {},
          "execution_count": 33
        },
        {
          "output_type": "execute_result",
          "data": {
            "text/plain": [
              "Matrix([\n",
              "[6],\n",
              "[0],\n",
              "[0]])"
            ],
            "text/latex": "$\\displaystyle \\left[\\begin{matrix}6\\\\0\\\\0\\end{matrix}\\right]$"
          },
          "metadata": {},
          "execution_count": 33
        }
      ],
      "source": [
        "basis1 = np.vstack([1,1,1])\n",
        "basis2 = np.vstack([0,1,2])\n",
        "B = np.hstack([basis1,basis2])\n",
        "x = np.vstack([6,0,0])\n",
        "\n",
        "Matrix(B)\n",
        "Matrix(x)\n"
      ]
    },
    {
      "cell_type": "markdown",
      "metadata": {
        "id": "55_VnusBDaWk"
      },
      "source": [
        "The projection was found using the steps noted above.\n",
        "1. $\\lambda = (B^TB)^{-1}B^Tx$.\n",
        "2. $\\pi = B\\lambda$\n",
        "3. $\\mathbb{P} = \\frac{B}{x}\\lambda$"
      ]
    },
    {
      "cell_type": "code",
      "execution_count": 28,
      "metadata": {
        "colab": {
          "base_uri": "https://localhost:8080/",
          "height": 241
        },
        "id": "tZts4LjbDaWk",
        "outputId": "b728d1c8-d6e3-4803-a430-06168924649e"
      },
      "outputs": [
        {
          "output_type": "execute_result",
          "data": {
            "text/plain": [
              "Matrix([\n",
              "[ 5.0],\n",
              "[-3.0]])"
            ],
            "text/latex": "$\\displaystyle \\left[\\begin{matrix}5.0\\\\-3.0\\end{matrix}\\right]$"
          },
          "metadata": {},
          "execution_count": 28
        },
        {
          "output_type": "execute_result",
          "data": {
            "text/plain": [
              "Matrix([\n",
              "[ 5.0],\n",
              "[ 2.0],\n",
              "[-1.0]])"
            ],
            "text/latex": "$\\displaystyle \\left[\\begin{matrix}5.0\\\\2.0\\\\-1.0\\end{matrix}\\right]$"
          },
          "metadata": {},
          "execution_count": 28
        },
        {
          "output_type": "execute_result",
          "data": {
            "text/plain": [
              "Matrix([\n",
              "[ 0.833333333333333, 0.333333333333333, -0.166666666666667],\n",
              "[ 0.333333333333333, 0.333333333333333,  0.333333333333333],\n",
              "[-0.166666666666667, 0.333333333333333,  0.833333333333333]])"
            ],
            "text/latex": "$\\displaystyle \\left[\\begin{matrix}0.833333333333333 & 0.333333333333333 & -0.166666666666667\\\\0.333333333333333 & 0.333333333333333 & 0.333333333333333\\\\-0.166666666666667 & 0.333333333333333 & 0.833333333333333\\end{matrix}\\right]$"
          },
          "metadata": {},
          "execution_count": 28
        },
        {
          "output_type": "execute_result",
          "data": {
            "text/plain": [
              "Matrix([\n",
              "[ 5.0],\n",
              "[ 2.0],\n",
              "[-1.0]])"
            ],
            "text/latex": "$\\displaystyle \\left[\\begin{matrix}5.0\\\\2.0\\\\-1.0\\end{matrix}\\right]$"
          },
          "metadata": {},
          "execution_count": 28
        }
      ],
      "source": [
        "# Find lambda\n",
        "\n"
      ]
    },
    {
      "cell_type": "code",
      "source": [
        "\n",
        "# find the projection\n",
        "\n"
      ],
      "metadata": {
        "id": "nHtWERZxNjt7"
      },
      "execution_count": null,
      "outputs": []
    },
    {
      "cell_type": "code",
      "source": [
        "\n",
        "# Find P\n"
      ],
      "metadata": {
        "id": "GyueP1KyNp8V"
      },
      "execution_count": null,
      "outputs": []
    },
    {
      "cell_type": "code",
      "source": [
        "\n",
        "# Find Px\n"
      ],
      "metadata": {
        "id": "RrizbaVQNur7"
      },
      "execution_count": null,
      "outputs": []
    }
  ],
  "metadata": {
    "@webio": {
      "lastCommId": null,
      "lastKernelId": null
    },
    "kernelspec": {
      "display_name": "Python 3",
      "language": "python",
      "name": "python3"
    },
    "language_info": {
      "codemirror_mode": {
        "name": "ipython",
        "version": 3
      },
      "file_extension": ".py",
      "mimetype": "text/x-python",
      "name": "python",
      "nbconvert_exporter": "python",
      "pygments_lexer": "ipython3",
      "version": "3.7.4"
    },
    "colab": {
      "provenance": [],
      "include_colab_link": true
    }
  },
  "nbformat": 4,
  "nbformat_minor": 0
}