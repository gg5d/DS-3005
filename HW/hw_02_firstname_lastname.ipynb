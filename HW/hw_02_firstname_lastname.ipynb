{
  "cells": [
    {
      "cell_type": "markdown",
      "metadata": {
        "id": "view-in-github",
        "colab_type": "text"
      },
      "source": [
        "<a href=\"https://colab.research.google.com/github/gg5d/DS-3005/blob/main/HW/hw_02_firstname_lastname.ipynb\" target=\"_parent\"><img src=\"https://colab.research.google.com/assets/colab-badge.svg\" alt=\"Open In Colab\"/></a>"
      ]
    },
    {
      "cell_type": "code",
      "execution_count": 2,
      "metadata": {
        "tags": [],
        "id": "hI64gYcnDOMl"
      },
      "outputs": [],
      "source": [
        "import numpy as np\n",
        "import numpy.linalg as npl\n",
        "import pandas as pd\n",
        "from IPython.core.interactiveshell import InteractiveShell\n",
        "import sympy as sym"
      ]
    },
    {
      "cell_type": "code",
      "execution_count": 3,
      "metadata": {
        "tags": [],
        "id": "OThdDDcADOMn"
      },
      "outputs": [],
      "source": [
        "InteractiveShell.ast_node_interactivity = \"all\""
      ]
    },
    {
      "cell_type": "markdown",
      "metadata": {
        "id": "lQyoYTnMDOMt"
      },
      "source": [
        "## Homework 02"
      ]
    },
    {
      "cell_type": "markdown",
      "metadata": {
        "id": "mzfEfBO1DOMu"
      },
      "source": [
        "### Introduction   \n",
        "\n",
        "### How to write Matrices in Python\n",
        "\n",
        "You can use numpy vstack, hstack, matrix, array\n",
        "to create matrices. As we have seen in class, we will use the **sympy** for symbolic math.\n",
        "\n",
        "This is an example on how to create a matrix and an augmented matrix. Use this as a template to generate all the matrices in this assignment."
      ]
    },
    {
      "cell_type": "markdown",
      "source": [
        "Create A"
      ],
      "metadata": {
        "id": "fMOBJCEz5DhH"
      }
    },
    {
      "cell_type": "code",
      "execution_count": 15,
      "metadata": {
        "tags": [],
        "colab": {
          "base_uri": "https://localhost:8080/",
          "height": 58
        },
        "id": "f8oR_tIfDOMv",
        "outputId": "533e569b-854f-47fa-b4b5-8804d2642d44"
      },
      "outputs": [
        {
          "output_type": "execute_result",
          "data": {
            "text/plain": [
              "Matrix([\n",
              "[1, 2, 3],\n",
              "[3, 2, 1]])"
            ],
            "text/latex": "$\\displaystyle \\left[\\begin{matrix}1 & 2 & 3\\\\3 & 2 & 1\\end{matrix}\\right]$"
          },
          "metadata": {},
          "execution_count": 15
        }
      ],
      "source": [
        "A = np.matrix([[1,2,3],[3,2,1]]) # create matrix A\n",
        "A = sym.Matrix(A) # cast A into a symbolic Matrix\n",
        "A                 # print A\n",
        "\n"
      ]
    },
    {
      "cell_type": "markdown",
      "source": [
        "Create B"
      ],
      "metadata": {
        "id": "vJAg0jqs5Cu2"
      }
    },
    {
      "cell_type": "code",
      "source": [
        "B = np.matrix([[0,2,0],[1,-1,2]])\n",
        "B = sym.Matrix(B)\n",
        "B"
      ],
      "metadata": {
        "id": "1iY1ZHsz5LaP",
        "outputId": "d49703ae-f263-4969-bbca-c675b50e6cb8",
        "colab": {
          "base_uri": "https://localhost:8080/",
          "height": 58
        }
      },
      "execution_count": 16,
      "outputs": [
        {
          "output_type": "execute_result",
          "data": {
            "text/plain": [
              "Matrix([\n",
              "[0,  2, 0],\n",
              "[1, -1, 2]])"
            ],
            "text/latex": "$\\displaystyle \\left[\\begin{matrix}0 & 2 & 0\\\\1 & -1 & 2\\end{matrix}\\right]$"
          },
          "metadata": {},
          "execution_count": 16
        }
      ]
    },
    {
      "cell_type": "markdown",
      "source": [
        "Create the augmented Matrix AB"
      ],
      "metadata": {
        "id": "x3sKrvcC5Qx9"
      }
    },
    {
      "cell_type": "code",
      "source": [
        "AB = np.hstack([A,B])\n",
        "AB = sym.Matrix(AB)\n",
        "AB"
      ],
      "metadata": {
        "id": "2OUt7oBe5UX4",
        "outputId": "c4f4a7b9-3120-4716-ce4b-0c16cd0bf8d6",
        "colab": {
          "base_uri": "https://localhost:8080/",
          "height": 58
        }
      },
      "execution_count": 17,
      "outputs": [
        {
          "output_type": "execute_result",
          "data": {
            "text/plain": [
              "Matrix([\n",
              "[1, 2, 3, 0,  2, 0],\n",
              "[3, 2, 1, 1, -1, 2]])"
            ],
            "text/latex": "$\\displaystyle \\left[\\begin{matrix}1 & 2 & 3 & 0 & 2 & 0\\\\3 & 2 & 1 & 1 & -1 & 2\\end{matrix}\\right]$"
          },
          "metadata": {},
          "execution_count": 17
        }
      ]
    },
    {
      "cell_type": "markdown",
      "source": [
        "# Question 1\n",
        "\n",
        "### Part a) [2 Pts] Solve the linear systems in problem 2.5 page 65 using Gaussian Elimination, and by reducing it to Reduced Row Echelon Form"
      ],
      "metadata": {
        "id": "8rD-XIDu6A-z"
      }
    },
    {
      "cell_type": "markdown",
      "metadata": {
        "id": "UI_llpdxDOM1"
      },
      "source": [
        "\n",
        "Elementary operations are key to solving systems of linear equations and involve the following.\n",
        "1. Exchange of two equations, or rows in the matrix.\n",
        "2. Multiplication of an equation, or row, with a constant $\\lambda \\in \\mathbb{R}$.\n",
        "3. Addition of two equation, or rows."
      ]
    },
    {
      "cell_type": "markdown",
      "source": [
        "Set up the matrices"
      ],
      "metadata": {
        "id": "nF96CZhU8qvM"
      }
    },
    {
      "cell_type": "code",
      "execution_count": null,
      "metadata": {
        "tags": [],
        "id": "epFStZhiDOM1"
      },
      "outputs": [],
      "source": [
        "a = sym.Symbol('a')\n",
        "A = np.vstack([[row1],[row2],[row3],[row4]]) # replace each row with numbers\n",
        "A = sym.Matrix(A)\n",
        "b = np.vstack([column vector b]) # replace with b values\n",
        "b = sym.Matrix(b)\n",
        "Ab = np.hstack([A,b])\n",
        "Ab = sym.Matrix(Ab)\n",
        "\n",
        "Ab"
      ]
    },
    {
      "cell_type": "markdown",
      "source": [
        "Execute one operation at the time, as we did in class. Execute as many operations as needed to Reduced Row Echelon Form."
      ],
      "metadata": {
        "id": "H07pICjNnswR"
      }
    },
    {
      "cell_type": "code",
      "execution_count": null,
      "metadata": {
        "tags": [],
        "id": "HojiI6yYDOM2"
      },
      "outputs": [],
      "source": []
    },
    {
      "cell_type": "code",
      "source": [],
      "metadata": {
        "id": "hZKqjmibBQgZ"
      },
      "execution_count": null,
      "outputs": []
    },
    {
      "cell_type": "code",
      "source": [],
      "metadata": {
        "id": "4VdevfawBQce"
      },
      "execution_count": null,
      "outputs": []
    },
    {
      "cell_type": "code",
      "source": [],
      "metadata": {
        "id": "vvhGvV8KBQZV"
      },
      "execution_count": null,
      "outputs": []
    },
    {
      "cell_type": "markdown",
      "metadata": {
        "id": "lPJZu4uPDOM5"
      },
      "source": [
        "### Part b) [2 Pts] Repeat for system 2.5 b."
      ]
    },
    {
      "cell_type": "code",
      "source": [],
      "metadata": {
        "id": "Erd_JsMZBPev"
      },
      "execution_count": null,
      "outputs": []
    },
    {
      "cell_type": "code",
      "source": [],
      "metadata": {
        "id": "TjjRa_yRBPWa"
      },
      "execution_count": null,
      "outputs": []
    },
    {
      "cell_type": "code",
      "source": [],
      "metadata": {
        "id": "JhXxY4NtBPOF"
      },
      "execution_count": null,
      "outputs": []
    },
    {
      "cell_type": "code",
      "source": [],
      "metadata": {
        "id": "orMk6E5bBPDv"
      },
      "execution_count": null,
      "outputs": []
    },
    {
      "cell_type": "markdown",
      "metadata": {
        "id": "UfvkDAh7DOM6"
      },
      "source": [
        "#Question 2  [2 Pts]"
      ]
    },
    {
      "cell_type": "markdown",
      "metadata": {
        "id": "rFtymN3SDOM7"
      },
      "source": [
        "Determine the inverse of the matrix in 2.8 a) (only part a) on page 66.\n",
        "\n",
        "Use the augmented matrix as in the example below (be sure to use the matrix from problem 2.8 a) in the textbook)"
      ]
    },
    {
      "cell_type": "code",
      "execution_count": 19,
      "metadata": {
        "outputId": "6fd065b9-9321-4b57-8453-fcd59f863a1b",
        "colab": {
          "base_uri": "https://localhost:8080/",
          "height": 98
        },
        "id": "pv7O0hQO9ioX"
      },
      "outputs": [
        {
          "output_type": "execute_result",
          "data": {
            "text/plain": [
              "Matrix([\n",
              "[1.0,   0, 2.0,   0, 1.0,   0,   0,   0],\n",
              "[1.0, 1.0,   0,   0,   0, 1.0,   0,   0],\n",
              "[1.0, 2.0,   0, 1.0,   0,   0, 1.0,   0],\n",
              "[1.0, 1.0, 1.0, 1.0,   0,   0,   0, 1.0]])"
            ],
            "text/latex": "$\\displaystyle \\left[\\begin{matrix}1.0 & 0 & 2.0 & 0 & 1.0 & 0 & 0 & 0\\\\1.0 & 1.0 & 0 & 0 & 0 & 1.0 & 0 & 0\\\\1.0 & 2.0 & 0 & 1.0 & 0 & 0 & 1.0 & 0\\\\1.0 & 1.0 & 1.0 & 1.0 & 0 & 0 & 0 & 1.0\\end{matrix}\\right]$"
          },
          "metadata": {},
          "execution_count": 19
        }
      ],
      "source": [
        "# Example on how to set up the augmented matrix with the Identity matrix\n",
        "A = np.vstack([[1,0,2,0],[1,1,0,0],[1,2,0,1],[1,1,1,1]])\n",
        "aug = np.eye(np.shape(A)[0])\n",
        "Aaug = np.hstack([A,aug])\n",
        "Aaug = sym.Matrix(Aaug)\n",
        "Aaug"
      ]
    },
    {
      "cell_type": "code",
      "source": [],
      "metadata": {
        "id": "gusoSvZ0BNjk"
      },
      "execution_count": null,
      "outputs": []
    },
    {
      "cell_type": "code",
      "source": [],
      "metadata": {
        "id": "NS5CLEQHBSvF"
      },
      "execution_count": null,
      "outputs": []
    },
    {
      "cell_type": "code",
      "source": [],
      "metadata": {
        "id": "ECqSQSioBSsN"
      },
      "execution_count": null,
      "outputs": []
    },
    {
      "cell_type": "code",
      "source": [],
      "metadata": {
        "id": "QbQ9gUn_BSpm"
      },
      "execution_count": null,
      "outputs": []
    },
    {
      "cell_type": "code",
      "source": [],
      "metadata": {
        "id": "KFpCjls5BNZr"
      },
      "execution_count": null,
      "outputs": []
    },
    {
      "cell_type": "code",
      "source": [],
      "metadata": {
        "id": "I4944go8BNNd"
      },
      "execution_count": null,
      "outputs": []
    },
    {
      "cell_type": "markdown",
      "metadata": {
        "id": "ek8q9qmkDOM8"
      },
      "source": [
        "\n",
        "# Question 3  [4Pts]\n",
        "\n",
        "Answer Part a) and Part b) of Exercise 2.10, page 66, by showing a Row Echelon Form on suitable matrices.\n",
        "\n",
        "\n"
      ]
    },
    {
      "cell_type": "code",
      "source": [],
      "metadata": {
        "id": "72prMPb-A1Qs"
      },
      "execution_count": null,
      "outputs": []
    },
    {
      "cell_type": "code",
      "source": [],
      "metadata": {
        "id": "7FBKq6FiBR97"
      },
      "execution_count": null,
      "outputs": []
    },
    {
      "cell_type": "code",
      "source": [],
      "metadata": {
        "id": "BI9ZT8d8BR6d"
      },
      "execution_count": null,
      "outputs": []
    },
    {
      "cell_type": "code",
      "source": [],
      "metadata": {
        "id": "a4EU_BfXBR32"
      },
      "execution_count": null,
      "outputs": []
    },
    {
      "cell_type": "code",
      "source": [],
      "metadata": {
        "id": "jalwkH1Szje9"
      },
      "execution_count": null,
      "outputs": []
    }
  ],
  "metadata": {
    "@webio": {
      "lastCommId": null,
      "lastKernelId": null
    },
    "kernelspec": {
      "display_name": "Python 3 (ipykernel)",
      "language": "python",
      "name": "python3"
    },
    "language_info": {
      "codemirror_mode": {
        "name": "ipython",
        "version": 3
      },
      "file_extension": ".py",
      "mimetype": "text/x-python",
      "name": "python",
      "nbconvert_exporter": "python",
      "pygments_lexer": "ipython3",
      "version": "3.9.16"
    },
    "colab": {
      "provenance": [],
      "include_colab_link": true
    }
  },
  "nbformat": 4,
  "nbformat_minor": 0
}